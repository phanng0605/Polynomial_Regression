{
  "cells": [
    {
      "cell_type": "markdown",
      "metadata": {
        "id": "view-in-github",
        "colab_type": "text"
      },
      "source": [
        "<a href=\"https://colab.research.google.com/github/phanng0605/Polynomial_Regression/blob/main/Polynomial_Model.ipynb\" target=\"_parent\"><img src=\"https://colab.research.google.com/assets/colab-badge.svg\" alt=\"Open In Colab\"/></a>"
      ]
    },
    {
      "cell_type": "code",
      "execution_count": null,
      "id": "73b2076b",
      "metadata": {
        "id": "73b2076b"
      },
      "outputs": [],
      "source": [
        "import numpy as np\n",
        "import pandas as pd"
      ]
    },
    {
      "cell_type": "code",
      "execution_count": null,
      "id": "16e82f10",
      "metadata": {
        "id": "16e82f10"
      },
      "outputs": [],
      "source": [
        "data_full = pd.read_csv('/content/dataset_final.csv')"
      ]
    },
    {
      "cell_type": "code",
      "execution_count": null,
      "id": "46f80e83",
      "metadata": {
        "colab": {
          "base_uri": "https://localhost:8080/",
          "height": 483
        },
        "id": "46f80e83",
        "outputId": "b61f8e26-e8f1-4dd9-aee1-ad1531482ad3"
      },
      "outputs": [
        {
          "output_type": "execute_result",
          "data": {
            "text/plain": [
              "      Year  Week_ID Start_week End_week  Iphone_13  Iphone_14  Galaxy_S21  \\\n",
              "0   2022.0      1.0     02-Jan   08-Jan    52360.0        0.0     25630.0   \n",
              "1   2022.0      2.0     09-Jan   15-Jan    50360.0        0.0     22940.0   \n",
              "2   2022.0      3.0     16-Jan   22-Jan    48340.0        0.0     21560.0   \n",
              "3   2022.0      4.0     23-Jan   29-Jan    45390.0        0.0     22450.0   \n",
              "4   2022.0      5.0     30-Jan   05-Feb    66780.0        0.0     21460.0   \n",
              "..     ...      ...        ...      ...        ...        ...         ...   \n",
              "61  2023.0     10.0     05-Mar   11-Mar        0.0        0.0         0.0   \n",
              "62  2023.0     11.0     12-Mar   18-Mar        0.0        0.0         0.0   \n",
              "63  2023.0     12.0     19-Mar   25-Mar        0.0        0.0         0.0   \n",
              "64     NaN      NaN        NaN      NaN        NaN        NaN         NaN   \n",
              "65     NaN      NaN        NaN      NaN        NaN        NaN         NaN   \n",
              "\n",
              "    Galaxy_S22  Galaxy_S23  NumHoliday  ReleaseStat13  ReleaseState14  \\\n",
              "0          0.0         0.0         0.0            1.0             0.0   \n",
              "1          0.0         0.0         0.0            1.0             0.0   \n",
              "2          0.0         0.0         0.0            1.0             0.0   \n",
              "3          0.0         0.0         0.0            1.0             0.0   \n",
              "4          0.0         0.0         1.0            1.0             0.0   \n",
              "..         ...         ...         ...            ...             ...   \n",
              "61         0.0         0.0         0.0            0.0             1.0   \n",
              "62         0.0         0.0         0.0            0.0             1.0   \n",
              "63         0.0         0.0         0.0            0.0             1.0   \n",
              "64         NaN         NaN         NaN            NaN             NaN   \n",
              "65         NaN         NaN         NaN            NaN             NaN   \n",
              "\n",
              "    ReleaseStat21  ReleaseStat22  ReleaseStat23  Campaign_Iphone  \\\n",
              "0             1.0            0.0            0.0       100.000000   \n",
              "1             1.0            0.0            0.0       600.000000   \n",
              "2             1.0            0.0            0.0       350.000000   \n",
              "3             1.0            0.0            0.0       750.000000   \n",
              "4             1.0            0.0            0.0       900.000000   \n",
              "..            ...            ...            ...              ...   \n",
              "61            0.0            0.0            1.0       448.214286   \n",
              "62            0.0            0.0            1.0       521.230159   \n",
              "63            0.0            0.0            1.0        90.277778   \n",
              "64            NaN            NaN            NaN              NaN   \n",
              "65            NaN            NaN            NaN              NaN   \n",
              "\n",
              "    Campaign_Samsung  \n",
              "0         100.000000  \n",
              "1         600.000000  \n",
              "2         200.000000  \n",
              "3         750.000000  \n",
              "4         500.000000  \n",
              "..               ...  \n",
              "61        357.142857  \n",
              "62        648.015873  \n",
              "63        304.563492  \n",
              "64               NaN  \n",
              "65               NaN  \n",
              "\n",
              "[66 rows x 17 columns]"
            ],
            "text/html": [
              "\n",
              "  <div id=\"df-35e5f608-4989-4bef-bec2-3243f6818d61\">\n",
              "    <div class=\"colab-df-container\">\n",
              "      <div>\n",
              "<style scoped>\n",
              "    .dataframe tbody tr th:only-of-type {\n",
              "        vertical-align: middle;\n",
              "    }\n",
              "\n",
              "    .dataframe tbody tr th {\n",
              "        vertical-align: top;\n",
              "    }\n",
              "\n",
              "    .dataframe thead th {\n",
              "        text-align: right;\n",
              "    }\n",
              "</style>\n",
              "<table border=\"1\" class=\"dataframe\">\n",
              "  <thead>\n",
              "    <tr style=\"text-align: right;\">\n",
              "      <th></th>\n",
              "      <th>Year</th>\n",
              "      <th>Week_ID</th>\n",
              "      <th>Start_week</th>\n",
              "      <th>End_week</th>\n",
              "      <th>Iphone_13</th>\n",
              "      <th>Iphone_14</th>\n",
              "      <th>Galaxy_S21</th>\n",
              "      <th>Galaxy_S22</th>\n",
              "      <th>Galaxy_S23</th>\n",
              "      <th>NumHoliday</th>\n",
              "      <th>ReleaseStat13</th>\n",
              "      <th>ReleaseState14</th>\n",
              "      <th>ReleaseStat21</th>\n",
              "      <th>ReleaseStat22</th>\n",
              "      <th>ReleaseStat23</th>\n",
              "      <th>Campaign_Iphone</th>\n",
              "      <th>Campaign_Samsung</th>\n",
              "    </tr>\n",
              "  </thead>\n",
              "  <tbody>\n",
              "    <tr>\n",
              "      <th>0</th>\n",
              "      <td>2022.0</td>\n",
              "      <td>1.0</td>\n",
              "      <td>02-Jan</td>\n",
              "      <td>08-Jan</td>\n",
              "      <td>52360.0</td>\n",
              "      <td>0.0</td>\n",
              "      <td>25630.0</td>\n",
              "      <td>0.0</td>\n",
              "      <td>0.0</td>\n",
              "      <td>0.0</td>\n",
              "      <td>1.0</td>\n",
              "      <td>0.0</td>\n",
              "      <td>1.0</td>\n",
              "      <td>0.0</td>\n",
              "      <td>0.0</td>\n",
              "      <td>100.000000</td>\n",
              "      <td>100.000000</td>\n",
              "    </tr>\n",
              "    <tr>\n",
              "      <th>1</th>\n",
              "      <td>2022.0</td>\n",
              "      <td>2.0</td>\n",
              "      <td>09-Jan</td>\n",
              "      <td>15-Jan</td>\n",
              "      <td>50360.0</td>\n",
              "      <td>0.0</td>\n",
              "      <td>22940.0</td>\n",
              "      <td>0.0</td>\n",
              "      <td>0.0</td>\n",
              "      <td>0.0</td>\n",
              "      <td>1.0</td>\n",
              "      <td>0.0</td>\n",
              "      <td>1.0</td>\n",
              "      <td>0.0</td>\n",
              "      <td>0.0</td>\n",
              "      <td>600.000000</td>\n",
              "      <td>600.000000</td>\n",
              "    </tr>\n",
              "    <tr>\n",
              "      <th>2</th>\n",
              "      <td>2022.0</td>\n",
              "      <td>3.0</td>\n",
              "      <td>16-Jan</td>\n",
              "      <td>22-Jan</td>\n",
              "      <td>48340.0</td>\n",
              "      <td>0.0</td>\n",
              "      <td>21560.0</td>\n",
              "      <td>0.0</td>\n",
              "      <td>0.0</td>\n",
              "      <td>0.0</td>\n",
              "      <td>1.0</td>\n",
              "      <td>0.0</td>\n",
              "      <td>1.0</td>\n",
              "      <td>0.0</td>\n",
              "      <td>0.0</td>\n",
              "      <td>350.000000</td>\n",
              "      <td>200.000000</td>\n",
              "    </tr>\n",
              "    <tr>\n",
              "      <th>3</th>\n",
              "      <td>2022.0</td>\n",
              "      <td>4.0</td>\n",
              "      <td>23-Jan</td>\n",
              "      <td>29-Jan</td>\n",
              "      <td>45390.0</td>\n",
              "      <td>0.0</td>\n",
              "      <td>22450.0</td>\n",
              "      <td>0.0</td>\n",
              "      <td>0.0</td>\n",
              "      <td>0.0</td>\n",
              "      <td>1.0</td>\n",
              "      <td>0.0</td>\n",
              "      <td>1.0</td>\n",
              "      <td>0.0</td>\n",
              "      <td>0.0</td>\n",
              "      <td>750.000000</td>\n",
              "      <td>750.000000</td>\n",
              "    </tr>\n",
              "    <tr>\n",
              "      <th>4</th>\n",
              "      <td>2022.0</td>\n",
              "      <td>5.0</td>\n",
              "      <td>30-Jan</td>\n",
              "      <td>05-Feb</td>\n",
              "      <td>66780.0</td>\n",
              "      <td>0.0</td>\n",
              "      <td>21460.0</td>\n",
              "      <td>0.0</td>\n",
              "      <td>0.0</td>\n",
              "      <td>1.0</td>\n",
              "      <td>1.0</td>\n",
              "      <td>0.0</td>\n",
              "      <td>1.0</td>\n",
              "      <td>0.0</td>\n",
              "      <td>0.0</td>\n",
              "      <td>900.000000</td>\n",
              "      <td>500.000000</td>\n",
              "    </tr>\n",
              "    <tr>\n",
              "      <th>...</th>\n",
              "      <td>...</td>\n",
              "      <td>...</td>\n",
              "      <td>...</td>\n",
              "      <td>...</td>\n",
              "      <td>...</td>\n",
              "      <td>...</td>\n",
              "      <td>...</td>\n",
              "      <td>...</td>\n",
              "      <td>...</td>\n",
              "      <td>...</td>\n",
              "      <td>...</td>\n",
              "      <td>...</td>\n",
              "      <td>...</td>\n",
              "      <td>...</td>\n",
              "      <td>...</td>\n",
              "      <td>...</td>\n",
              "      <td>...</td>\n",
              "    </tr>\n",
              "    <tr>\n",
              "      <th>61</th>\n",
              "      <td>2023.0</td>\n",
              "      <td>10.0</td>\n",
              "      <td>05-Mar</td>\n",
              "      <td>11-Mar</td>\n",
              "      <td>0.0</td>\n",
              "      <td>0.0</td>\n",
              "      <td>0.0</td>\n",
              "      <td>0.0</td>\n",
              "      <td>0.0</td>\n",
              "      <td>0.0</td>\n",
              "      <td>0.0</td>\n",
              "      <td>1.0</td>\n",
              "      <td>0.0</td>\n",
              "      <td>0.0</td>\n",
              "      <td>1.0</td>\n",
              "      <td>448.214286</td>\n",
              "      <td>357.142857</td>\n",
              "    </tr>\n",
              "    <tr>\n",
              "      <th>62</th>\n",
              "      <td>2023.0</td>\n",
              "      <td>11.0</td>\n",
              "      <td>12-Mar</td>\n",
              "      <td>18-Mar</td>\n",
              "      <td>0.0</td>\n",
              "      <td>0.0</td>\n",
              "      <td>0.0</td>\n",
              "      <td>0.0</td>\n",
              "      <td>0.0</td>\n",
              "      <td>0.0</td>\n",
              "      <td>0.0</td>\n",
              "      <td>1.0</td>\n",
              "      <td>0.0</td>\n",
              "      <td>0.0</td>\n",
              "      <td>1.0</td>\n",
              "      <td>521.230159</td>\n",
              "      <td>648.015873</td>\n",
              "    </tr>\n",
              "    <tr>\n",
              "      <th>63</th>\n",
              "      <td>2023.0</td>\n",
              "      <td>12.0</td>\n",
              "      <td>19-Mar</td>\n",
              "      <td>25-Mar</td>\n",
              "      <td>0.0</td>\n",
              "      <td>0.0</td>\n",
              "      <td>0.0</td>\n",
              "      <td>0.0</td>\n",
              "      <td>0.0</td>\n",
              "      <td>0.0</td>\n",
              "      <td>0.0</td>\n",
              "      <td>1.0</td>\n",
              "      <td>0.0</td>\n",
              "      <td>0.0</td>\n",
              "      <td>1.0</td>\n",
              "      <td>90.277778</td>\n",
              "      <td>304.563492</td>\n",
              "    </tr>\n",
              "    <tr>\n",
              "      <th>64</th>\n",
              "      <td>NaN</td>\n",
              "      <td>NaN</td>\n",
              "      <td>NaN</td>\n",
              "      <td>NaN</td>\n",
              "      <td>NaN</td>\n",
              "      <td>NaN</td>\n",
              "      <td>NaN</td>\n",
              "      <td>NaN</td>\n",
              "      <td>NaN</td>\n",
              "      <td>NaN</td>\n",
              "      <td>NaN</td>\n",
              "      <td>NaN</td>\n",
              "      <td>NaN</td>\n",
              "      <td>NaN</td>\n",
              "      <td>NaN</td>\n",
              "      <td>NaN</td>\n",
              "      <td>NaN</td>\n",
              "    </tr>\n",
              "    <tr>\n",
              "      <th>65</th>\n",
              "      <td>NaN</td>\n",
              "      <td>NaN</td>\n",
              "      <td>NaN</td>\n",
              "      <td>NaN</td>\n",
              "      <td>NaN</td>\n",
              "      <td>NaN</td>\n",
              "      <td>NaN</td>\n",
              "      <td>NaN</td>\n",
              "      <td>NaN</td>\n",
              "      <td>NaN</td>\n",
              "      <td>NaN</td>\n",
              "      <td>NaN</td>\n",
              "      <td>NaN</td>\n",
              "      <td>NaN</td>\n",
              "      <td>NaN</td>\n",
              "      <td>NaN</td>\n",
              "      <td>NaN</td>\n",
              "    </tr>\n",
              "  </tbody>\n",
              "</table>\n",
              "<p>66 rows × 17 columns</p>\n",
              "</div>\n",
              "      <button class=\"colab-df-convert\" onclick=\"convertToInteractive('df-35e5f608-4989-4bef-bec2-3243f6818d61')\"\n",
              "              title=\"Convert this dataframe to an interactive table.\"\n",
              "              style=\"display:none;\">\n",
              "        \n",
              "  <svg xmlns=\"http://www.w3.org/2000/svg\" height=\"24px\"viewBox=\"0 0 24 24\"\n",
              "       width=\"24px\">\n",
              "    <path d=\"M0 0h24v24H0V0z\" fill=\"none\"/>\n",
              "    <path d=\"M18.56 5.44l.94 2.06.94-2.06 2.06-.94-2.06-.94-.94-2.06-.94 2.06-2.06.94zm-11 1L8.5 8.5l.94-2.06 2.06-.94-2.06-.94L8.5 2.5l-.94 2.06-2.06.94zm10 10l.94 2.06.94-2.06 2.06-.94-2.06-.94-.94-2.06-.94 2.06-2.06.94z\"/><path d=\"M17.41 7.96l-1.37-1.37c-.4-.4-.92-.59-1.43-.59-.52 0-1.04.2-1.43.59L10.3 9.45l-7.72 7.72c-.78.78-.78 2.05 0 2.83L4 21.41c.39.39.9.59 1.41.59.51 0 1.02-.2 1.41-.59l7.78-7.78 2.81-2.81c.8-.78.8-2.07 0-2.86zM5.41 20L4 18.59l7.72-7.72 1.47 1.35L5.41 20z\"/>\n",
              "  </svg>\n",
              "      </button>\n",
              "      \n",
              "  <style>\n",
              "    .colab-df-container {\n",
              "      display:flex;\n",
              "      flex-wrap:wrap;\n",
              "      gap: 12px;\n",
              "    }\n",
              "\n",
              "    .colab-df-convert {\n",
              "      background-color: #E8F0FE;\n",
              "      border: none;\n",
              "      border-radius: 50%;\n",
              "      cursor: pointer;\n",
              "      display: none;\n",
              "      fill: #1967D2;\n",
              "      height: 32px;\n",
              "      padding: 0 0 0 0;\n",
              "      width: 32px;\n",
              "    }\n",
              "\n",
              "    .colab-df-convert:hover {\n",
              "      background-color: #E2EBFA;\n",
              "      box-shadow: 0px 1px 2px rgba(60, 64, 67, 0.3), 0px 1px 3px 1px rgba(60, 64, 67, 0.15);\n",
              "      fill: #174EA6;\n",
              "    }\n",
              "\n",
              "    [theme=dark] .colab-df-convert {\n",
              "      background-color: #3B4455;\n",
              "      fill: #D2E3FC;\n",
              "    }\n",
              "\n",
              "    [theme=dark] .colab-df-convert:hover {\n",
              "      background-color: #434B5C;\n",
              "      box-shadow: 0px 1px 3px 1px rgba(0, 0, 0, 0.15);\n",
              "      filter: drop-shadow(0px 1px 2px rgba(0, 0, 0, 0.3));\n",
              "      fill: #FFFFFF;\n",
              "    }\n",
              "  </style>\n",
              "\n",
              "      <script>\n",
              "        const buttonEl =\n",
              "          document.querySelector('#df-35e5f608-4989-4bef-bec2-3243f6818d61 button.colab-df-convert');\n",
              "        buttonEl.style.display =\n",
              "          google.colab.kernel.accessAllowed ? 'block' : 'none';\n",
              "\n",
              "        async function convertToInteractive(key) {\n",
              "          const element = document.querySelector('#df-35e5f608-4989-4bef-bec2-3243f6818d61');\n",
              "          const dataTable =\n",
              "            await google.colab.kernel.invokeFunction('convertToInteractive',\n",
              "                                                     [key], {});\n",
              "          if (!dataTable) return;\n",
              "\n",
              "          const docLinkHtml = 'Like what you see? Visit the ' +\n",
              "            '<a target=\"_blank\" href=https://colab.research.google.com/notebooks/data_table.ipynb>data table notebook</a>'\n",
              "            + ' to learn more about interactive tables.';\n",
              "          element.innerHTML = '';\n",
              "          dataTable['output_type'] = 'display_data';\n",
              "          await google.colab.output.renderOutput(dataTable, element);\n",
              "          const docLink = document.createElement('div');\n",
              "          docLink.innerHTML = docLinkHtml;\n",
              "          element.appendChild(docLink);\n",
              "        }\n",
              "      </script>\n",
              "    </div>\n",
              "  </div>\n",
              "  "
            ]
          },
          "metadata": {},
          "execution_count": 17
        }
      ],
      "source": [
        "data_full"
      ]
    },
    {
      "cell_type": "code",
      "execution_count": null,
      "id": "be1b8664",
      "metadata": {
        "id": "be1b8664"
      },
      "outputs": [],
      "source": [
        "new_data = data_full[:-2]"
      ]
    },
    {
      "cell_type": "code",
      "execution_count": null,
      "id": "abe4f950",
      "metadata": {
        "colab": {
          "base_uri": "https://localhost:8080/",
          "height": 483
        },
        "id": "abe4f950",
        "outputId": "c4bbc82f-8653-4daf-b559-e311191a178d"
      },
      "outputs": [
        {
          "output_type": "execute_result",
          "data": {
            "text/plain": [
              "      Year  Week_ID Start_week End_week  Iphone_13  Iphone_14  Galaxy_S21  \\\n",
              "0   2022.0      1.0     02-Jan   08-Jan    52360.0        0.0     25630.0   \n",
              "1   2022.0      2.0     09-Jan   15-Jan    50360.0        0.0     22940.0   \n",
              "2   2022.0      3.0     16-Jan   22-Jan    48340.0        0.0     21560.0   \n",
              "3   2022.0      4.0     23-Jan   29-Jan    45390.0        0.0     22450.0   \n",
              "4   2022.0      5.0     30-Jan   05-Feb    66780.0        0.0     21460.0   \n",
              "..     ...      ...        ...      ...        ...        ...         ...   \n",
              "59  2023.0      8.0     19-Feb   25-Feb        0.0        0.0         0.0   \n",
              "60  2023.0      9.0     26-Feb   04-Mar        0.0        0.0         0.0   \n",
              "61  2023.0     10.0     05-Mar   11-Mar        0.0        0.0         0.0   \n",
              "62  2023.0     11.0     12-Mar   18-Mar        0.0        0.0         0.0   \n",
              "63  2023.0     12.0     19-Mar   25-Mar        0.0        0.0         0.0   \n",
              "\n",
              "    Galaxy_S22  Galaxy_S23  NumHoliday  ReleaseStat13  ReleaseState14  \\\n",
              "0          0.0         0.0         0.0            1.0             0.0   \n",
              "1          0.0         0.0         0.0            1.0             0.0   \n",
              "2          0.0         0.0         0.0            1.0             0.0   \n",
              "3          0.0         0.0         0.0            1.0             0.0   \n",
              "4          0.0         0.0         1.0            1.0             0.0   \n",
              "..         ...         ...         ...            ...             ...   \n",
              "59         0.0         0.0         0.0            0.0             1.0   \n",
              "60         0.0         0.0         0.0            0.0             1.0   \n",
              "61         0.0         0.0         0.0            0.0             1.0   \n",
              "62         0.0         0.0         0.0            0.0             1.0   \n",
              "63         0.0         0.0         0.0            0.0             1.0   \n",
              "\n",
              "    ReleaseStat21  ReleaseStat22  ReleaseStat23  Campaign_Iphone  \\\n",
              "0             1.0            0.0            0.0       100.000000   \n",
              "1             1.0            0.0            0.0       600.000000   \n",
              "2             1.0            0.0            0.0       350.000000   \n",
              "3             1.0            0.0            0.0       750.000000   \n",
              "4             1.0            0.0            0.0       900.000000   \n",
              "..            ...            ...            ...              ...   \n",
              "59            0.0            1.0            1.0       335.813492   \n",
              "60            0.0            1.0            1.0       425.000000   \n",
              "61            0.0            0.0            1.0       448.214286   \n",
              "62            0.0            0.0            1.0       521.230159   \n",
              "63            0.0            0.0            1.0        90.277778   \n",
              "\n",
              "    Campaign_Samsung  \n",
              "0         100.000000  \n",
              "1         600.000000  \n",
              "2         200.000000  \n",
              "3         750.000000  \n",
              "4         500.000000  \n",
              "..               ...  \n",
              "59        433.531746  \n",
              "60        192.857143  \n",
              "61        357.142857  \n",
              "62        648.015873  \n",
              "63        304.563492  \n",
              "\n",
              "[64 rows x 17 columns]"
            ],
            "text/html": [
              "\n",
              "  <div id=\"df-19ff9462-53f8-4b15-86bd-b7990a2d08ca\">\n",
              "    <div class=\"colab-df-container\">\n",
              "      <div>\n",
              "<style scoped>\n",
              "    .dataframe tbody tr th:only-of-type {\n",
              "        vertical-align: middle;\n",
              "    }\n",
              "\n",
              "    .dataframe tbody tr th {\n",
              "        vertical-align: top;\n",
              "    }\n",
              "\n",
              "    .dataframe thead th {\n",
              "        text-align: right;\n",
              "    }\n",
              "</style>\n",
              "<table border=\"1\" class=\"dataframe\">\n",
              "  <thead>\n",
              "    <tr style=\"text-align: right;\">\n",
              "      <th></th>\n",
              "      <th>Year</th>\n",
              "      <th>Week_ID</th>\n",
              "      <th>Start_week</th>\n",
              "      <th>End_week</th>\n",
              "      <th>Iphone_13</th>\n",
              "      <th>Iphone_14</th>\n",
              "      <th>Galaxy_S21</th>\n",
              "      <th>Galaxy_S22</th>\n",
              "      <th>Galaxy_S23</th>\n",
              "      <th>NumHoliday</th>\n",
              "      <th>ReleaseStat13</th>\n",
              "      <th>ReleaseState14</th>\n",
              "      <th>ReleaseStat21</th>\n",
              "      <th>ReleaseStat22</th>\n",
              "      <th>ReleaseStat23</th>\n",
              "      <th>Campaign_Iphone</th>\n",
              "      <th>Campaign_Samsung</th>\n",
              "    </tr>\n",
              "  </thead>\n",
              "  <tbody>\n",
              "    <tr>\n",
              "      <th>0</th>\n",
              "      <td>2022.0</td>\n",
              "      <td>1.0</td>\n",
              "      <td>02-Jan</td>\n",
              "      <td>08-Jan</td>\n",
              "      <td>52360.0</td>\n",
              "      <td>0.0</td>\n",
              "      <td>25630.0</td>\n",
              "      <td>0.0</td>\n",
              "      <td>0.0</td>\n",
              "      <td>0.0</td>\n",
              "      <td>1.0</td>\n",
              "      <td>0.0</td>\n",
              "      <td>1.0</td>\n",
              "      <td>0.0</td>\n",
              "      <td>0.0</td>\n",
              "      <td>100.000000</td>\n",
              "      <td>100.000000</td>\n",
              "    </tr>\n",
              "    <tr>\n",
              "      <th>1</th>\n",
              "      <td>2022.0</td>\n",
              "      <td>2.0</td>\n",
              "      <td>09-Jan</td>\n",
              "      <td>15-Jan</td>\n",
              "      <td>50360.0</td>\n",
              "      <td>0.0</td>\n",
              "      <td>22940.0</td>\n",
              "      <td>0.0</td>\n",
              "      <td>0.0</td>\n",
              "      <td>0.0</td>\n",
              "      <td>1.0</td>\n",
              "      <td>0.0</td>\n",
              "      <td>1.0</td>\n",
              "      <td>0.0</td>\n",
              "      <td>0.0</td>\n",
              "      <td>600.000000</td>\n",
              "      <td>600.000000</td>\n",
              "    </tr>\n",
              "    <tr>\n",
              "      <th>2</th>\n",
              "      <td>2022.0</td>\n",
              "      <td>3.0</td>\n",
              "      <td>16-Jan</td>\n",
              "      <td>22-Jan</td>\n",
              "      <td>48340.0</td>\n",
              "      <td>0.0</td>\n",
              "      <td>21560.0</td>\n",
              "      <td>0.0</td>\n",
              "      <td>0.0</td>\n",
              "      <td>0.0</td>\n",
              "      <td>1.0</td>\n",
              "      <td>0.0</td>\n",
              "      <td>1.0</td>\n",
              "      <td>0.0</td>\n",
              "      <td>0.0</td>\n",
              "      <td>350.000000</td>\n",
              "      <td>200.000000</td>\n",
              "    </tr>\n",
              "    <tr>\n",
              "      <th>3</th>\n",
              "      <td>2022.0</td>\n",
              "      <td>4.0</td>\n",
              "      <td>23-Jan</td>\n",
              "      <td>29-Jan</td>\n",
              "      <td>45390.0</td>\n",
              "      <td>0.0</td>\n",
              "      <td>22450.0</td>\n",
              "      <td>0.0</td>\n",
              "      <td>0.0</td>\n",
              "      <td>0.0</td>\n",
              "      <td>1.0</td>\n",
              "      <td>0.0</td>\n",
              "      <td>1.0</td>\n",
              "      <td>0.0</td>\n",
              "      <td>0.0</td>\n",
              "      <td>750.000000</td>\n",
              "      <td>750.000000</td>\n",
              "    </tr>\n",
              "    <tr>\n",
              "      <th>4</th>\n",
              "      <td>2022.0</td>\n",
              "      <td>5.0</td>\n",
              "      <td>30-Jan</td>\n",
              "      <td>05-Feb</td>\n",
              "      <td>66780.0</td>\n",
              "      <td>0.0</td>\n",
              "      <td>21460.0</td>\n",
              "      <td>0.0</td>\n",
              "      <td>0.0</td>\n",
              "      <td>1.0</td>\n",
              "      <td>1.0</td>\n",
              "      <td>0.0</td>\n",
              "      <td>1.0</td>\n",
              "      <td>0.0</td>\n",
              "      <td>0.0</td>\n",
              "      <td>900.000000</td>\n",
              "      <td>500.000000</td>\n",
              "    </tr>\n",
              "    <tr>\n",
              "      <th>...</th>\n",
              "      <td>...</td>\n",
              "      <td>...</td>\n",
              "      <td>...</td>\n",
              "      <td>...</td>\n",
              "      <td>...</td>\n",
              "      <td>...</td>\n",
              "      <td>...</td>\n",
              "      <td>...</td>\n",
              "      <td>...</td>\n",
              "      <td>...</td>\n",
              "      <td>...</td>\n",
              "      <td>...</td>\n",
              "      <td>...</td>\n",
              "      <td>...</td>\n",
              "      <td>...</td>\n",
              "      <td>...</td>\n",
              "      <td>...</td>\n",
              "    </tr>\n",
              "    <tr>\n",
              "      <th>59</th>\n",
              "      <td>2023.0</td>\n",
              "      <td>8.0</td>\n",
              "      <td>19-Feb</td>\n",
              "      <td>25-Feb</td>\n",
              "      <td>0.0</td>\n",
              "      <td>0.0</td>\n",
              "      <td>0.0</td>\n",
              "      <td>0.0</td>\n",
              "      <td>0.0</td>\n",
              "      <td>0.0</td>\n",
              "      <td>0.0</td>\n",
              "      <td>1.0</td>\n",
              "      <td>0.0</td>\n",
              "      <td>1.0</td>\n",
              "      <td>1.0</td>\n",
              "      <td>335.813492</td>\n",
              "      <td>433.531746</td>\n",
              "    </tr>\n",
              "    <tr>\n",
              "      <th>60</th>\n",
              "      <td>2023.0</td>\n",
              "      <td>9.0</td>\n",
              "      <td>26-Feb</td>\n",
              "      <td>04-Mar</td>\n",
              "      <td>0.0</td>\n",
              "      <td>0.0</td>\n",
              "      <td>0.0</td>\n",
              "      <td>0.0</td>\n",
              "      <td>0.0</td>\n",
              "      <td>0.0</td>\n",
              "      <td>0.0</td>\n",
              "      <td>1.0</td>\n",
              "      <td>0.0</td>\n",
              "      <td>1.0</td>\n",
              "      <td>1.0</td>\n",
              "      <td>425.000000</td>\n",
              "      <td>192.857143</td>\n",
              "    </tr>\n",
              "    <tr>\n",
              "      <th>61</th>\n",
              "      <td>2023.0</td>\n",
              "      <td>10.0</td>\n",
              "      <td>05-Mar</td>\n",
              "      <td>11-Mar</td>\n",
              "      <td>0.0</td>\n",
              "      <td>0.0</td>\n",
              "      <td>0.0</td>\n",
              "      <td>0.0</td>\n",
              "      <td>0.0</td>\n",
              "      <td>0.0</td>\n",
              "      <td>0.0</td>\n",
              "      <td>1.0</td>\n",
              "      <td>0.0</td>\n",
              "      <td>0.0</td>\n",
              "      <td>1.0</td>\n",
              "      <td>448.214286</td>\n",
              "      <td>357.142857</td>\n",
              "    </tr>\n",
              "    <tr>\n",
              "      <th>62</th>\n",
              "      <td>2023.0</td>\n",
              "      <td>11.0</td>\n",
              "      <td>12-Mar</td>\n",
              "      <td>18-Mar</td>\n",
              "      <td>0.0</td>\n",
              "      <td>0.0</td>\n",
              "      <td>0.0</td>\n",
              "      <td>0.0</td>\n",
              "      <td>0.0</td>\n",
              "      <td>0.0</td>\n",
              "      <td>0.0</td>\n",
              "      <td>1.0</td>\n",
              "      <td>0.0</td>\n",
              "      <td>0.0</td>\n",
              "      <td>1.0</td>\n",
              "      <td>521.230159</td>\n",
              "      <td>648.015873</td>\n",
              "    </tr>\n",
              "    <tr>\n",
              "      <th>63</th>\n",
              "      <td>2023.0</td>\n",
              "      <td>12.0</td>\n",
              "      <td>19-Mar</td>\n",
              "      <td>25-Mar</td>\n",
              "      <td>0.0</td>\n",
              "      <td>0.0</td>\n",
              "      <td>0.0</td>\n",
              "      <td>0.0</td>\n",
              "      <td>0.0</td>\n",
              "      <td>0.0</td>\n",
              "      <td>0.0</td>\n",
              "      <td>1.0</td>\n",
              "      <td>0.0</td>\n",
              "      <td>0.0</td>\n",
              "      <td>1.0</td>\n",
              "      <td>90.277778</td>\n",
              "      <td>304.563492</td>\n",
              "    </tr>\n",
              "  </tbody>\n",
              "</table>\n",
              "<p>64 rows × 17 columns</p>\n",
              "</div>\n",
              "      <button class=\"colab-df-convert\" onclick=\"convertToInteractive('df-19ff9462-53f8-4b15-86bd-b7990a2d08ca')\"\n",
              "              title=\"Convert this dataframe to an interactive table.\"\n",
              "              style=\"display:none;\">\n",
              "        \n",
              "  <svg xmlns=\"http://www.w3.org/2000/svg\" height=\"24px\"viewBox=\"0 0 24 24\"\n",
              "       width=\"24px\">\n",
              "    <path d=\"M0 0h24v24H0V0z\" fill=\"none\"/>\n",
              "    <path d=\"M18.56 5.44l.94 2.06.94-2.06 2.06-.94-2.06-.94-.94-2.06-.94 2.06-2.06.94zm-11 1L8.5 8.5l.94-2.06 2.06-.94-2.06-.94L8.5 2.5l-.94 2.06-2.06.94zm10 10l.94 2.06.94-2.06 2.06-.94-2.06-.94-.94-2.06-.94 2.06-2.06.94z\"/><path d=\"M17.41 7.96l-1.37-1.37c-.4-.4-.92-.59-1.43-.59-.52 0-1.04.2-1.43.59L10.3 9.45l-7.72 7.72c-.78.78-.78 2.05 0 2.83L4 21.41c.39.39.9.59 1.41.59.51 0 1.02-.2 1.41-.59l7.78-7.78 2.81-2.81c.8-.78.8-2.07 0-2.86zM5.41 20L4 18.59l7.72-7.72 1.47 1.35L5.41 20z\"/>\n",
              "  </svg>\n",
              "      </button>\n",
              "      \n",
              "  <style>\n",
              "    .colab-df-container {\n",
              "      display:flex;\n",
              "      flex-wrap:wrap;\n",
              "      gap: 12px;\n",
              "    }\n",
              "\n",
              "    .colab-df-convert {\n",
              "      background-color: #E8F0FE;\n",
              "      border: none;\n",
              "      border-radius: 50%;\n",
              "      cursor: pointer;\n",
              "      display: none;\n",
              "      fill: #1967D2;\n",
              "      height: 32px;\n",
              "      padding: 0 0 0 0;\n",
              "      width: 32px;\n",
              "    }\n",
              "\n",
              "    .colab-df-convert:hover {\n",
              "      background-color: #E2EBFA;\n",
              "      box-shadow: 0px 1px 2px rgba(60, 64, 67, 0.3), 0px 1px 3px 1px rgba(60, 64, 67, 0.15);\n",
              "      fill: #174EA6;\n",
              "    }\n",
              "\n",
              "    [theme=dark] .colab-df-convert {\n",
              "      background-color: #3B4455;\n",
              "      fill: #D2E3FC;\n",
              "    }\n",
              "\n",
              "    [theme=dark] .colab-df-convert:hover {\n",
              "      background-color: #434B5C;\n",
              "      box-shadow: 0px 1px 3px 1px rgba(0, 0, 0, 0.15);\n",
              "      filter: drop-shadow(0px 1px 2px rgba(0, 0, 0, 0.3));\n",
              "      fill: #FFFFFF;\n",
              "    }\n",
              "  </style>\n",
              "\n",
              "      <script>\n",
              "        const buttonEl =\n",
              "          document.querySelector('#df-19ff9462-53f8-4b15-86bd-b7990a2d08ca button.colab-df-convert');\n",
              "        buttonEl.style.display =\n",
              "          google.colab.kernel.accessAllowed ? 'block' : 'none';\n",
              "\n",
              "        async function convertToInteractive(key) {\n",
              "          const element = document.querySelector('#df-19ff9462-53f8-4b15-86bd-b7990a2d08ca');\n",
              "          const dataTable =\n",
              "            await google.colab.kernel.invokeFunction('convertToInteractive',\n",
              "                                                     [key], {});\n",
              "          if (!dataTable) return;\n",
              "\n",
              "          const docLinkHtml = 'Like what you see? Visit the ' +\n",
              "            '<a target=\"_blank\" href=https://colab.research.google.com/notebooks/data_table.ipynb>data table notebook</a>'\n",
              "            + ' to learn more about interactive tables.';\n",
              "          element.innerHTML = '';\n",
              "          dataTable['output_type'] = 'display_data';\n",
              "          await google.colab.output.renderOutput(dataTable, element);\n",
              "          const docLink = document.createElement('div');\n",
              "          docLink.innerHTML = docLinkHtml;\n",
              "          element.appendChild(docLink);\n",
              "        }\n",
              "      </script>\n",
              "    </div>\n",
              "  </div>\n",
              "  "
            ]
          },
          "metadata": {},
          "execution_count": 19
        }
      ],
      "source": [
        "new_data "
      ]
    },
    {
      "cell_type": "code",
      "execution_count": null,
      "id": "741b7164",
      "metadata": {
        "colab": {
          "base_uri": "https://localhost:8080/",
          "height": 483
        },
        "id": "741b7164",
        "outputId": "72c70513-feb5-45f7-da47-c81a0ea95368"
      },
      "outputs": [
        {
          "output_type": "execute_result",
          "data": {
            "text/plain": [
              "      Year  Week_ID  Iphone_13  Iphone_14  Galaxy_S21  Galaxy_S22  Galaxy_S23  \\\n",
              "0   2022.0      1.0    52360.0        0.0     25630.0         0.0         0.0   \n",
              "1   2022.0      2.0    50360.0        0.0     22940.0         0.0         0.0   \n",
              "2   2022.0      3.0    48340.0        0.0     21560.0         0.0         0.0   \n",
              "3   2022.0      4.0    45390.0        0.0     22450.0         0.0         0.0   \n",
              "4   2022.0      5.0    66780.0        0.0     21460.0         0.0         0.0   \n",
              "..     ...      ...        ...        ...         ...         ...         ...   \n",
              "59  2023.0      8.0        0.0        0.0         0.0         0.0         0.0   \n",
              "60  2023.0      9.0        0.0        0.0         0.0         0.0         0.0   \n",
              "61  2023.0     10.0        0.0        0.0         0.0         0.0         0.0   \n",
              "62  2023.0     11.0        0.0        0.0         0.0         0.0         0.0   \n",
              "63  2023.0     12.0        0.0        0.0         0.0         0.0         0.0   \n",
              "\n",
              "    ReleaseStat13  ReleaseState14  ReleaseStat21  ReleaseStat22  \\\n",
              "0             1.0             0.0            1.0            0.0   \n",
              "1             1.0             0.0            1.0            0.0   \n",
              "2             1.0             0.0            1.0            0.0   \n",
              "3             1.0             0.0            1.0            0.0   \n",
              "4             1.0             0.0            1.0            0.0   \n",
              "..            ...             ...            ...            ...   \n",
              "59            0.0             1.0            0.0            1.0   \n",
              "60            0.0             1.0            0.0            1.0   \n",
              "61            0.0             1.0            0.0            0.0   \n",
              "62            0.0             1.0            0.0            0.0   \n",
              "63            0.0             1.0            0.0            0.0   \n",
              "\n",
              "    ReleaseStat23  Campaign_Iphone  Campaign_Samsung  \n",
              "0             0.0       100.000000        100.000000  \n",
              "1             0.0       600.000000        600.000000  \n",
              "2             0.0       350.000000        200.000000  \n",
              "3             0.0       750.000000        750.000000  \n",
              "4             0.0       900.000000        500.000000  \n",
              "..            ...              ...               ...  \n",
              "59            1.0       335.813492        433.531746  \n",
              "60            1.0       425.000000        192.857143  \n",
              "61            1.0       448.214286        357.142857  \n",
              "62            1.0       521.230159        648.015873  \n",
              "63            1.0        90.277778        304.563492  \n",
              "\n",
              "[64 rows x 14 columns]"
            ],
            "text/html": [
              "\n",
              "  <div id=\"df-0e98cd9f-51ca-41d5-a322-13a1c91e8479\">\n",
              "    <div class=\"colab-df-container\">\n",
              "      <div>\n",
              "<style scoped>\n",
              "    .dataframe tbody tr th:only-of-type {\n",
              "        vertical-align: middle;\n",
              "    }\n",
              "\n",
              "    .dataframe tbody tr th {\n",
              "        vertical-align: top;\n",
              "    }\n",
              "\n",
              "    .dataframe thead th {\n",
              "        text-align: right;\n",
              "    }\n",
              "</style>\n",
              "<table border=\"1\" class=\"dataframe\">\n",
              "  <thead>\n",
              "    <tr style=\"text-align: right;\">\n",
              "      <th></th>\n",
              "      <th>Year</th>\n",
              "      <th>Week_ID</th>\n",
              "      <th>Iphone_13</th>\n",
              "      <th>Iphone_14</th>\n",
              "      <th>Galaxy_S21</th>\n",
              "      <th>Galaxy_S22</th>\n",
              "      <th>Galaxy_S23</th>\n",
              "      <th>ReleaseStat13</th>\n",
              "      <th>ReleaseState14</th>\n",
              "      <th>ReleaseStat21</th>\n",
              "      <th>ReleaseStat22</th>\n",
              "      <th>ReleaseStat23</th>\n",
              "      <th>Campaign_Iphone</th>\n",
              "      <th>Campaign_Samsung</th>\n",
              "    </tr>\n",
              "  </thead>\n",
              "  <tbody>\n",
              "    <tr>\n",
              "      <th>0</th>\n",
              "      <td>2022.0</td>\n",
              "      <td>1.0</td>\n",
              "      <td>52360.0</td>\n",
              "      <td>0.0</td>\n",
              "      <td>25630.0</td>\n",
              "      <td>0.0</td>\n",
              "      <td>0.0</td>\n",
              "      <td>1.0</td>\n",
              "      <td>0.0</td>\n",
              "      <td>1.0</td>\n",
              "      <td>0.0</td>\n",
              "      <td>0.0</td>\n",
              "      <td>100.000000</td>\n",
              "      <td>100.000000</td>\n",
              "    </tr>\n",
              "    <tr>\n",
              "      <th>1</th>\n",
              "      <td>2022.0</td>\n",
              "      <td>2.0</td>\n",
              "      <td>50360.0</td>\n",
              "      <td>0.0</td>\n",
              "      <td>22940.0</td>\n",
              "      <td>0.0</td>\n",
              "      <td>0.0</td>\n",
              "      <td>1.0</td>\n",
              "      <td>0.0</td>\n",
              "      <td>1.0</td>\n",
              "      <td>0.0</td>\n",
              "      <td>0.0</td>\n",
              "      <td>600.000000</td>\n",
              "      <td>600.000000</td>\n",
              "    </tr>\n",
              "    <tr>\n",
              "      <th>2</th>\n",
              "      <td>2022.0</td>\n",
              "      <td>3.0</td>\n",
              "      <td>48340.0</td>\n",
              "      <td>0.0</td>\n",
              "      <td>21560.0</td>\n",
              "      <td>0.0</td>\n",
              "      <td>0.0</td>\n",
              "      <td>1.0</td>\n",
              "      <td>0.0</td>\n",
              "      <td>1.0</td>\n",
              "      <td>0.0</td>\n",
              "      <td>0.0</td>\n",
              "      <td>350.000000</td>\n",
              "      <td>200.000000</td>\n",
              "    </tr>\n",
              "    <tr>\n",
              "      <th>3</th>\n",
              "      <td>2022.0</td>\n",
              "      <td>4.0</td>\n",
              "      <td>45390.0</td>\n",
              "      <td>0.0</td>\n",
              "      <td>22450.0</td>\n",
              "      <td>0.0</td>\n",
              "      <td>0.0</td>\n",
              "      <td>1.0</td>\n",
              "      <td>0.0</td>\n",
              "      <td>1.0</td>\n",
              "      <td>0.0</td>\n",
              "      <td>0.0</td>\n",
              "      <td>750.000000</td>\n",
              "      <td>750.000000</td>\n",
              "    </tr>\n",
              "    <tr>\n",
              "      <th>4</th>\n",
              "      <td>2022.0</td>\n",
              "      <td>5.0</td>\n",
              "      <td>66780.0</td>\n",
              "      <td>0.0</td>\n",
              "      <td>21460.0</td>\n",
              "      <td>0.0</td>\n",
              "      <td>0.0</td>\n",
              "      <td>1.0</td>\n",
              "      <td>0.0</td>\n",
              "      <td>1.0</td>\n",
              "      <td>0.0</td>\n",
              "      <td>0.0</td>\n",
              "      <td>900.000000</td>\n",
              "      <td>500.000000</td>\n",
              "    </tr>\n",
              "    <tr>\n",
              "      <th>...</th>\n",
              "      <td>...</td>\n",
              "      <td>...</td>\n",
              "      <td>...</td>\n",
              "      <td>...</td>\n",
              "      <td>...</td>\n",
              "      <td>...</td>\n",
              "      <td>...</td>\n",
              "      <td>...</td>\n",
              "      <td>...</td>\n",
              "      <td>...</td>\n",
              "      <td>...</td>\n",
              "      <td>...</td>\n",
              "      <td>...</td>\n",
              "      <td>...</td>\n",
              "    </tr>\n",
              "    <tr>\n",
              "      <th>59</th>\n",
              "      <td>2023.0</td>\n",
              "      <td>8.0</td>\n",
              "      <td>0.0</td>\n",
              "      <td>0.0</td>\n",
              "      <td>0.0</td>\n",
              "      <td>0.0</td>\n",
              "      <td>0.0</td>\n",
              "      <td>0.0</td>\n",
              "      <td>1.0</td>\n",
              "      <td>0.0</td>\n",
              "      <td>1.0</td>\n",
              "      <td>1.0</td>\n",
              "      <td>335.813492</td>\n",
              "      <td>433.531746</td>\n",
              "    </tr>\n",
              "    <tr>\n",
              "      <th>60</th>\n",
              "      <td>2023.0</td>\n",
              "      <td>9.0</td>\n",
              "      <td>0.0</td>\n",
              "      <td>0.0</td>\n",
              "      <td>0.0</td>\n",
              "      <td>0.0</td>\n",
              "      <td>0.0</td>\n",
              "      <td>0.0</td>\n",
              "      <td>1.0</td>\n",
              "      <td>0.0</td>\n",
              "      <td>1.0</td>\n",
              "      <td>1.0</td>\n",
              "      <td>425.000000</td>\n",
              "      <td>192.857143</td>\n",
              "    </tr>\n",
              "    <tr>\n",
              "      <th>61</th>\n",
              "      <td>2023.0</td>\n",
              "      <td>10.0</td>\n",
              "      <td>0.0</td>\n",
              "      <td>0.0</td>\n",
              "      <td>0.0</td>\n",
              "      <td>0.0</td>\n",
              "      <td>0.0</td>\n",
              "      <td>0.0</td>\n",
              "      <td>1.0</td>\n",
              "      <td>0.0</td>\n",
              "      <td>0.0</td>\n",
              "      <td>1.0</td>\n",
              "      <td>448.214286</td>\n",
              "      <td>357.142857</td>\n",
              "    </tr>\n",
              "    <tr>\n",
              "      <th>62</th>\n",
              "      <td>2023.0</td>\n",
              "      <td>11.0</td>\n",
              "      <td>0.0</td>\n",
              "      <td>0.0</td>\n",
              "      <td>0.0</td>\n",
              "      <td>0.0</td>\n",
              "      <td>0.0</td>\n",
              "      <td>0.0</td>\n",
              "      <td>1.0</td>\n",
              "      <td>0.0</td>\n",
              "      <td>0.0</td>\n",
              "      <td>1.0</td>\n",
              "      <td>521.230159</td>\n",
              "      <td>648.015873</td>\n",
              "    </tr>\n",
              "    <tr>\n",
              "      <th>63</th>\n",
              "      <td>2023.0</td>\n",
              "      <td>12.0</td>\n",
              "      <td>0.0</td>\n",
              "      <td>0.0</td>\n",
              "      <td>0.0</td>\n",
              "      <td>0.0</td>\n",
              "      <td>0.0</td>\n",
              "      <td>0.0</td>\n",
              "      <td>1.0</td>\n",
              "      <td>0.0</td>\n",
              "      <td>0.0</td>\n",
              "      <td>1.0</td>\n",
              "      <td>90.277778</td>\n",
              "      <td>304.563492</td>\n",
              "    </tr>\n",
              "  </tbody>\n",
              "</table>\n",
              "<p>64 rows × 14 columns</p>\n",
              "</div>\n",
              "      <button class=\"colab-df-convert\" onclick=\"convertToInteractive('df-0e98cd9f-51ca-41d5-a322-13a1c91e8479')\"\n",
              "              title=\"Convert this dataframe to an interactive table.\"\n",
              "              style=\"display:none;\">\n",
              "        \n",
              "  <svg xmlns=\"http://www.w3.org/2000/svg\" height=\"24px\"viewBox=\"0 0 24 24\"\n",
              "       width=\"24px\">\n",
              "    <path d=\"M0 0h24v24H0V0z\" fill=\"none\"/>\n",
              "    <path d=\"M18.56 5.44l.94 2.06.94-2.06 2.06-.94-2.06-.94-.94-2.06-.94 2.06-2.06.94zm-11 1L8.5 8.5l.94-2.06 2.06-.94-2.06-.94L8.5 2.5l-.94 2.06-2.06.94zm10 10l.94 2.06.94-2.06 2.06-.94-2.06-.94-.94-2.06-.94 2.06-2.06.94z\"/><path d=\"M17.41 7.96l-1.37-1.37c-.4-.4-.92-.59-1.43-.59-.52 0-1.04.2-1.43.59L10.3 9.45l-7.72 7.72c-.78.78-.78 2.05 0 2.83L4 21.41c.39.39.9.59 1.41.59.51 0 1.02-.2 1.41-.59l7.78-7.78 2.81-2.81c.8-.78.8-2.07 0-2.86zM5.41 20L4 18.59l7.72-7.72 1.47 1.35L5.41 20z\"/>\n",
              "  </svg>\n",
              "      </button>\n",
              "      \n",
              "  <style>\n",
              "    .colab-df-container {\n",
              "      display:flex;\n",
              "      flex-wrap:wrap;\n",
              "      gap: 12px;\n",
              "    }\n",
              "\n",
              "    .colab-df-convert {\n",
              "      background-color: #E8F0FE;\n",
              "      border: none;\n",
              "      border-radius: 50%;\n",
              "      cursor: pointer;\n",
              "      display: none;\n",
              "      fill: #1967D2;\n",
              "      height: 32px;\n",
              "      padding: 0 0 0 0;\n",
              "      width: 32px;\n",
              "    }\n",
              "\n",
              "    .colab-df-convert:hover {\n",
              "      background-color: #E2EBFA;\n",
              "      box-shadow: 0px 1px 2px rgba(60, 64, 67, 0.3), 0px 1px 3px 1px rgba(60, 64, 67, 0.15);\n",
              "      fill: #174EA6;\n",
              "    }\n",
              "\n",
              "    [theme=dark] .colab-df-convert {\n",
              "      background-color: #3B4455;\n",
              "      fill: #D2E3FC;\n",
              "    }\n",
              "\n",
              "    [theme=dark] .colab-df-convert:hover {\n",
              "      background-color: #434B5C;\n",
              "      box-shadow: 0px 1px 3px 1px rgba(0, 0, 0, 0.15);\n",
              "      filter: drop-shadow(0px 1px 2px rgba(0, 0, 0, 0.3));\n",
              "      fill: #FFFFFF;\n",
              "    }\n",
              "  </style>\n",
              "\n",
              "      <script>\n",
              "        const buttonEl =\n",
              "          document.querySelector('#df-0e98cd9f-51ca-41d5-a322-13a1c91e8479 button.colab-df-convert');\n",
              "        buttonEl.style.display =\n",
              "          google.colab.kernel.accessAllowed ? 'block' : 'none';\n",
              "\n",
              "        async function convertToInteractive(key) {\n",
              "          const element = document.querySelector('#df-0e98cd9f-51ca-41d5-a322-13a1c91e8479');\n",
              "          const dataTable =\n",
              "            await google.colab.kernel.invokeFunction('convertToInteractive',\n",
              "                                                     [key], {});\n",
              "          if (!dataTable) return;\n",
              "\n",
              "          const docLinkHtml = 'Like what you see? Visit the ' +\n",
              "            '<a target=\"_blank\" href=https://colab.research.google.com/notebooks/data_table.ipynb>data table notebook</a>'\n",
              "            + ' to learn more about interactive tables.';\n",
              "          element.innerHTML = '';\n",
              "          dataTable['output_type'] = 'display_data';\n",
              "          await google.colab.output.renderOutput(dataTable, element);\n",
              "          const docLink = document.createElement('div');\n",
              "          docLink.innerHTML = docLinkHtml;\n",
              "          element.appendChild(docLink);\n",
              "        }\n",
              "      </script>\n",
              "    </div>\n",
              "  </div>\n",
              "  "
            ]
          },
          "metadata": {},
          "execution_count": 20
        }
      ],
      "source": [
        "new_data.drop(columns = ['Start_week', 'End_week', 'NumHoliday'])"
      ]
    },
    {
      "cell_type": "code",
      "execution_count": null,
      "id": "e8707a48",
      "metadata": {
        "id": "e8707a48"
      },
      "outputs": [],
      "source": [
        "iphone_data = new_data[['Iphone_13', 'Iphone_14', 'ReleaseStat13','ReleaseState14','Campaign_Iphone']]"
      ]
    },
    {
      "cell_type": "code",
      "execution_count": null,
      "id": "1e616559",
      "metadata": {
        "colab": {
          "base_uri": "https://localhost:8080/",
          "height": 419
        },
        "id": "1e616559",
        "outputId": "f8847880-75dc-489c-a0a7-a45a583abb62"
      },
      "outputs": [
        {
          "output_type": "execute_result",
          "data": {
            "text/plain": [
              "    Iphone_13  Iphone_14  ReleaseStat13  ReleaseState14  Campaign_Iphone\n",
              "0     52360.0        0.0            1.0             0.0       100.000000\n",
              "1     50360.0        0.0            1.0             0.0       600.000000\n",
              "2     48340.0        0.0            1.0             0.0       350.000000\n",
              "3     45390.0        0.0            1.0             0.0       750.000000\n",
              "4     66780.0        0.0            1.0             0.0       900.000000\n",
              "..        ...        ...            ...             ...              ...\n",
              "59        0.0        0.0            0.0             1.0       335.813492\n",
              "60        0.0        0.0            0.0             1.0       425.000000\n",
              "61        0.0        0.0            0.0             1.0       448.214286\n",
              "62        0.0        0.0            0.0             1.0       521.230159\n",
              "63        0.0        0.0            0.0             1.0        90.277778\n",
              "\n",
              "[64 rows x 5 columns]"
            ],
            "text/html": [
              "\n",
              "  <div id=\"df-ea27bd19-99f2-4f6d-a2af-e53af48cc142\">\n",
              "    <div class=\"colab-df-container\">\n",
              "      <div>\n",
              "<style scoped>\n",
              "    .dataframe tbody tr th:only-of-type {\n",
              "        vertical-align: middle;\n",
              "    }\n",
              "\n",
              "    .dataframe tbody tr th {\n",
              "        vertical-align: top;\n",
              "    }\n",
              "\n",
              "    .dataframe thead th {\n",
              "        text-align: right;\n",
              "    }\n",
              "</style>\n",
              "<table border=\"1\" class=\"dataframe\">\n",
              "  <thead>\n",
              "    <tr style=\"text-align: right;\">\n",
              "      <th></th>\n",
              "      <th>Iphone_13</th>\n",
              "      <th>Iphone_14</th>\n",
              "      <th>ReleaseStat13</th>\n",
              "      <th>ReleaseState14</th>\n",
              "      <th>Campaign_Iphone</th>\n",
              "    </tr>\n",
              "  </thead>\n",
              "  <tbody>\n",
              "    <tr>\n",
              "      <th>0</th>\n",
              "      <td>52360.0</td>\n",
              "      <td>0.0</td>\n",
              "      <td>1.0</td>\n",
              "      <td>0.0</td>\n",
              "      <td>100.000000</td>\n",
              "    </tr>\n",
              "    <tr>\n",
              "      <th>1</th>\n",
              "      <td>50360.0</td>\n",
              "      <td>0.0</td>\n",
              "      <td>1.0</td>\n",
              "      <td>0.0</td>\n",
              "      <td>600.000000</td>\n",
              "    </tr>\n",
              "    <tr>\n",
              "      <th>2</th>\n",
              "      <td>48340.0</td>\n",
              "      <td>0.0</td>\n",
              "      <td>1.0</td>\n",
              "      <td>0.0</td>\n",
              "      <td>350.000000</td>\n",
              "    </tr>\n",
              "    <tr>\n",
              "      <th>3</th>\n",
              "      <td>45390.0</td>\n",
              "      <td>0.0</td>\n",
              "      <td>1.0</td>\n",
              "      <td>0.0</td>\n",
              "      <td>750.000000</td>\n",
              "    </tr>\n",
              "    <tr>\n",
              "      <th>4</th>\n",
              "      <td>66780.0</td>\n",
              "      <td>0.0</td>\n",
              "      <td>1.0</td>\n",
              "      <td>0.0</td>\n",
              "      <td>900.000000</td>\n",
              "    </tr>\n",
              "    <tr>\n",
              "      <th>...</th>\n",
              "      <td>...</td>\n",
              "      <td>...</td>\n",
              "      <td>...</td>\n",
              "      <td>...</td>\n",
              "      <td>...</td>\n",
              "    </tr>\n",
              "    <tr>\n",
              "      <th>59</th>\n",
              "      <td>0.0</td>\n",
              "      <td>0.0</td>\n",
              "      <td>0.0</td>\n",
              "      <td>1.0</td>\n",
              "      <td>335.813492</td>\n",
              "    </tr>\n",
              "    <tr>\n",
              "      <th>60</th>\n",
              "      <td>0.0</td>\n",
              "      <td>0.0</td>\n",
              "      <td>0.0</td>\n",
              "      <td>1.0</td>\n",
              "      <td>425.000000</td>\n",
              "    </tr>\n",
              "    <tr>\n",
              "      <th>61</th>\n",
              "      <td>0.0</td>\n",
              "      <td>0.0</td>\n",
              "      <td>0.0</td>\n",
              "      <td>1.0</td>\n",
              "      <td>448.214286</td>\n",
              "    </tr>\n",
              "    <tr>\n",
              "      <th>62</th>\n",
              "      <td>0.0</td>\n",
              "      <td>0.0</td>\n",
              "      <td>0.0</td>\n",
              "      <td>1.0</td>\n",
              "      <td>521.230159</td>\n",
              "    </tr>\n",
              "    <tr>\n",
              "      <th>63</th>\n",
              "      <td>0.0</td>\n",
              "      <td>0.0</td>\n",
              "      <td>0.0</td>\n",
              "      <td>1.0</td>\n",
              "      <td>90.277778</td>\n",
              "    </tr>\n",
              "  </tbody>\n",
              "</table>\n",
              "<p>64 rows × 5 columns</p>\n",
              "</div>\n",
              "      <button class=\"colab-df-convert\" onclick=\"convertToInteractive('df-ea27bd19-99f2-4f6d-a2af-e53af48cc142')\"\n",
              "              title=\"Convert this dataframe to an interactive table.\"\n",
              "              style=\"display:none;\">\n",
              "        \n",
              "  <svg xmlns=\"http://www.w3.org/2000/svg\" height=\"24px\"viewBox=\"0 0 24 24\"\n",
              "       width=\"24px\">\n",
              "    <path d=\"M0 0h24v24H0V0z\" fill=\"none\"/>\n",
              "    <path d=\"M18.56 5.44l.94 2.06.94-2.06 2.06-.94-2.06-.94-.94-2.06-.94 2.06-2.06.94zm-11 1L8.5 8.5l.94-2.06 2.06-.94-2.06-.94L8.5 2.5l-.94 2.06-2.06.94zm10 10l.94 2.06.94-2.06 2.06-.94-2.06-.94-.94-2.06-.94 2.06-2.06.94z\"/><path d=\"M17.41 7.96l-1.37-1.37c-.4-.4-.92-.59-1.43-.59-.52 0-1.04.2-1.43.59L10.3 9.45l-7.72 7.72c-.78.78-.78 2.05 0 2.83L4 21.41c.39.39.9.59 1.41.59.51 0 1.02-.2 1.41-.59l7.78-7.78 2.81-2.81c.8-.78.8-2.07 0-2.86zM5.41 20L4 18.59l7.72-7.72 1.47 1.35L5.41 20z\"/>\n",
              "  </svg>\n",
              "      </button>\n",
              "      \n",
              "  <style>\n",
              "    .colab-df-container {\n",
              "      display:flex;\n",
              "      flex-wrap:wrap;\n",
              "      gap: 12px;\n",
              "    }\n",
              "\n",
              "    .colab-df-convert {\n",
              "      background-color: #E8F0FE;\n",
              "      border: none;\n",
              "      border-radius: 50%;\n",
              "      cursor: pointer;\n",
              "      display: none;\n",
              "      fill: #1967D2;\n",
              "      height: 32px;\n",
              "      padding: 0 0 0 0;\n",
              "      width: 32px;\n",
              "    }\n",
              "\n",
              "    .colab-df-convert:hover {\n",
              "      background-color: #E2EBFA;\n",
              "      box-shadow: 0px 1px 2px rgba(60, 64, 67, 0.3), 0px 1px 3px 1px rgba(60, 64, 67, 0.15);\n",
              "      fill: #174EA6;\n",
              "    }\n",
              "\n",
              "    [theme=dark] .colab-df-convert {\n",
              "      background-color: #3B4455;\n",
              "      fill: #D2E3FC;\n",
              "    }\n",
              "\n",
              "    [theme=dark] .colab-df-convert:hover {\n",
              "      background-color: #434B5C;\n",
              "      box-shadow: 0px 1px 3px 1px rgba(0, 0, 0, 0.15);\n",
              "      filter: drop-shadow(0px 1px 2px rgba(0, 0, 0, 0.3));\n",
              "      fill: #FFFFFF;\n",
              "    }\n",
              "  </style>\n",
              "\n",
              "      <script>\n",
              "        const buttonEl =\n",
              "          document.querySelector('#df-ea27bd19-99f2-4f6d-a2af-e53af48cc142 button.colab-df-convert');\n",
              "        buttonEl.style.display =\n",
              "          google.colab.kernel.accessAllowed ? 'block' : 'none';\n",
              "\n",
              "        async function convertToInteractive(key) {\n",
              "          const element = document.querySelector('#df-ea27bd19-99f2-4f6d-a2af-e53af48cc142');\n",
              "          const dataTable =\n",
              "            await google.colab.kernel.invokeFunction('convertToInteractive',\n",
              "                                                     [key], {});\n",
              "          if (!dataTable) return;\n",
              "\n",
              "          const docLinkHtml = 'Like what you see? Visit the ' +\n",
              "            '<a target=\"_blank\" href=https://colab.research.google.com/notebooks/data_table.ipynb>data table notebook</a>'\n",
              "            + ' to learn more about interactive tables.';\n",
              "          element.innerHTML = '';\n",
              "          dataTable['output_type'] = 'display_data';\n",
              "          await google.colab.output.renderOutput(dataTable, element);\n",
              "          const docLink = document.createElement('div');\n",
              "          docLink.innerHTML = docLinkHtml;\n",
              "          element.appendChild(docLink);\n",
              "        }\n",
              "      </script>\n",
              "    </div>\n",
              "  </div>\n",
              "  "
            ]
          },
          "metadata": {},
          "execution_count": 22
        }
      ],
      "source": [
        "iphone_data"
      ]
    },
    {
      "cell_type": "code",
      "execution_count": null,
      "id": "7d64f449",
      "metadata": {
        "id": "7d64f449"
      },
      "outputs": [],
      "source": [
        "iphone_13_14 = iphone_data[['Iphone_13','Iphone_14']]"
      ]
    },
    {
      "cell_type": "code",
      "execution_count": null,
      "id": "4a77ffa1",
      "metadata": {
        "colab": {
          "base_uri": "https://localhost:8080/",
          "height": 419
        },
        "id": "4a77ffa1",
        "outputId": "3a2aae6f-65b2-4a22-bbb6-38e5a7303e20"
      },
      "outputs": [
        {
          "output_type": "execute_result",
          "data": {
            "text/plain": [
              "    Iphone_13  Iphone_14\n",
              "0     52360.0        0.0\n",
              "1     50360.0        0.0\n",
              "2     48340.0        0.0\n",
              "3     45390.0        0.0\n",
              "4     66780.0        0.0\n",
              "..        ...        ...\n",
              "59        0.0        0.0\n",
              "60        0.0        0.0\n",
              "61        0.0        0.0\n",
              "62        0.0        0.0\n",
              "63        0.0        0.0\n",
              "\n",
              "[64 rows x 2 columns]"
            ],
            "text/html": [
              "\n",
              "  <div id=\"df-4c6de651-0a85-4cfc-8d57-45189c84ae50\">\n",
              "    <div class=\"colab-df-container\">\n",
              "      <div>\n",
              "<style scoped>\n",
              "    .dataframe tbody tr th:only-of-type {\n",
              "        vertical-align: middle;\n",
              "    }\n",
              "\n",
              "    .dataframe tbody tr th {\n",
              "        vertical-align: top;\n",
              "    }\n",
              "\n",
              "    .dataframe thead th {\n",
              "        text-align: right;\n",
              "    }\n",
              "</style>\n",
              "<table border=\"1\" class=\"dataframe\">\n",
              "  <thead>\n",
              "    <tr style=\"text-align: right;\">\n",
              "      <th></th>\n",
              "      <th>Iphone_13</th>\n",
              "      <th>Iphone_14</th>\n",
              "    </tr>\n",
              "  </thead>\n",
              "  <tbody>\n",
              "    <tr>\n",
              "      <th>0</th>\n",
              "      <td>52360.0</td>\n",
              "      <td>0.0</td>\n",
              "    </tr>\n",
              "    <tr>\n",
              "      <th>1</th>\n",
              "      <td>50360.0</td>\n",
              "      <td>0.0</td>\n",
              "    </tr>\n",
              "    <tr>\n",
              "      <th>2</th>\n",
              "      <td>48340.0</td>\n",
              "      <td>0.0</td>\n",
              "    </tr>\n",
              "    <tr>\n",
              "      <th>3</th>\n",
              "      <td>45390.0</td>\n",
              "      <td>0.0</td>\n",
              "    </tr>\n",
              "    <tr>\n",
              "      <th>4</th>\n",
              "      <td>66780.0</td>\n",
              "      <td>0.0</td>\n",
              "    </tr>\n",
              "    <tr>\n",
              "      <th>...</th>\n",
              "      <td>...</td>\n",
              "      <td>...</td>\n",
              "    </tr>\n",
              "    <tr>\n",
              "      <th>59</th>\n",
              "      <td>0.0</td>\n",
              "      <td>0.0</td>\n",
              "    </tr>\n",
              "    <tr>\n",
              "      <th>60</th>\n",
              "      <td>0.0</td>\n",
              "      <td>0.0</td>\n",
              "    </tr>\n",
              "    <tr>\n",
              "      <th>61</th>\n",
              "      <td>0.0</td>\n",
              "      <td>0.0</td>\n",
              "    </tr>\n",
              "    <tr>\n",
              "      <th>62</th>\n",
              "      <td>0.0</td>\n",
              "      <td>0.0</td>\n",
              "    </tr>\n",
              "    <tr>\n",
              "      <th>63</th>\n",
              "      <td>0.0</td>\n",
              "      <td>0.0</td>\n",
              "    </tr>\n",
              "  </tbody>\n",
              "</table>\n",
              "<p>64 rows × 2 columns</p>\n",
              "</div>\n",
              "      <button class=\"colab-df-convert\" onclick=\"convertToInteractive('df-4c6de651-0a85-4cfc-8d57-45189c84ae50')\"\n",
              "              title=\"Convert this dataframe to an interactive table.\"\n",
              "              style=\"display:none;\">\n",
              "        \n",
              "  <svg xmlns=\"http://www.w3.org/2000/svg\" height=\"24px\"viewBox=\"0 0 24 24\"\n",
              "       width=\"24px\">\n",
              "    <path d=\"M0 0h24v24H0V0z\" fill=\"none\"/>\n",
              "    <path d=\"M18.56 5.44l.94 2.06.94-2.06 2.06-.94-2.06-.94-.94-2.06-.94 2.06-2.06.94zm-11 1L8.5 8.5l.94-2.06 2.06-.94-2.06-.94L8.5 2.5l-.94 2.06-2.06.94zm10 10l.94 2.06.94-2.06 2.06-.94-2.06-.94-.94-2.06-.94 2.06-2.06.94z\"/><path d=\"M17.41 7.96l-1.37-1.37c-.4-.4-.92-.59-1.43-.59-.52 0-1.04.2-1.43.59L10.3 9.45l-7.72 7.72c-.78.78-.78 2.05 0 2.83L4 21.41c.39.39.9.59 1.41.59.51 0 1.02-.2 1.41-.59l7.78-7.78 2.81-2.81c.8-.78.8-2.07 0-2.86zM5.41 20L4 18.59l7.72-7.72 1.47 1.35L5.41 20z\"/>\n",
              "  </svg>\n",
              "      </button>\n",
              "      \n",
              "  <style>\n",
              "    .colab-df-container {\n",
              "      display:flex;\n",
              "      flex-wrap:wrap;\n",
              "      gap: 12px;\n",
              "    }\n",
              "\n",
              "    .colab-df-convert {\n",
              "      background-color: #E8F0FE;\n",
              "      border: none;\n",
              "      border-radius: 50%;\n",
              "      cursor: pointer;\n",
              "      display: none;\n",
              "      fill: #1967D2;\n",
              "      height: 32px;\n",
              "      padding: 0 0 0 0;\n",
              "      width: 32px;\n",
              "    }\n",
              "\n",
              "    .colab-df-convert:hover {\n",
              "      background-color: #E2EBFA;\n",
              "      box-shadow: 0px 1px 2px rgba(60, 64, 67, 0.3), 0px 1px 3px 1px rgba(60, 64, 67, 0.15);\n",
              "      fill: #174EA6;\n",
              "    }\n",
              "\n",
              "    [theme=dark] .colab-df-convert {\n",
              "      background-color: #3B4455;\n",
              "      fill: #D2E3FC;\n",
              "    }\n",
              "\n",
              "    [theme=dark] .colab-df-convert:hover {\n",
              "      background-color: #434B5C;\n",
              "      box-shadow: 0px 1px 3px 1px rgba(0, 0, 0, 0.15);\n",
              "      filter: drop-shadow(0px 1px 2px rgba(0, 0, 0, 0.3));\n",
              "      fill: #FFFFFF;\n",
              "    }\n",
              "  </style>\n",
              "\n",
              "      <script>\n",
              "        const buttonEl =\n",
              "          document.querySelector('#df-4c6de651-0a85-4cfc-8d57-45189c84ae50 button.colab-df-convert');\n",
              "        buttonEl.style.display =\n",
              "          google.colab.kernel.accessAllowed ? 'block' : 'none';\n",
              "\n",
              "        async function convertToInteractive(key) {\n",
              "          const element = document.querySelector('#df-4c6de651-0a85-4cfc-8d57-45189c84ae50');\n",
              "          const dataTable =\n",
              "            await google.colab.kernel.invokeFunction('convertToInteractive',\n",
              "                                                     [key], {});\n",
              "          if (!dataTable) return;\n",
              "\n",
              "          const docLinkHtml = 'Like what you see? Visit the ' +\n",
              "            '<a target=\"_blank\" href=https://colab.research.google.com/notebooks/data_table.ipynb>data table notebook</a>'\n",
              "            + ' to learn more about interactive tables.';\n",
              "          element.innerHTML = '';\n",
              "          dataTable['output_type'] = 'display_data';\n",
              "          await google.colab.output.renderOutput(dataTable, element);\n",
              "          const docLink = document.createElement('div');\n",
              "          docLink.innerHTML = docLinkHtml;\n",
              "          element.appendChild(docLink);\n",
              "        }\n",
              "      </script>\n",
              "    </div>\n",
              "  </div>\n",
              "  "
            ]
          },
          "metadata": {},
          "execution_count": 24
        }
      ],
      "source": [
        "iphone_13_14 "
      ]
    },
    {
      "cell_type": "code",
      "execution_count": null,
      "id": "b8dc1ad8",
      "metadata": {
        "id": "b8dc1ad8"
      },
      "outputs": [],
      "source": []
    },
    {
      "cell_type": "code",
      "execution_count": null,
      "id": "efa41a80",
      "metadata": {
        "colab": {
          "base_uri": "https://localhost:8080/"
        },
        "id": "efa41a80",
        "outputId": "7daca85f-6cff-4758-83b4-a0515550991c"
      },
      "outputs": [
        {
          "output_type": "stream",
          "name": "stderr",
          "text": [
            "/usr/local/lib/python3.8/dist-packages/pandas/core/frame.py:4906: SettingWithCopyWarning: \n",
            "A value is trying to be set on a copy of a slice from a DataFrame\n",
            "\n",
            "See the caveats in the documentation: https://pandas.pydata.org/pandas-docs/stable/user_guide/indexing.html#returning-a-view-versus-a-copy\n",
            "  return super().drop(\n"
          ]
        }
      ],
      "source": [
        "iphone_13_14.drop(iphone_13_14.loc[iphone_13_14['Iphone_13']==0].index, inplace=True)\n"
      ]
    },
    {
      "cell_type": "code",
      "execution_count": null,
      "id": "7f6a3b98",
      "metadata": {
        "colab": {
          "base_uri": "https://localhost:8080/",
          "height": 1000
        },
        "id": "7f6a3b98",
        "outputId": "20776724-5d6e-42f4-c591-bf8f18e1815f"
      },
      "outputs": [
        {
          "output_type": "execute_result",
          "data": {
            "text/plain": [
              "    Iphone_13  Iphone_14\n",
              "0     52360.0        0.0\n",
              "1     50360.0        0.0\n",
              "2     48340.0        0.0\n",
              "3     45390.0        0.0\n",
              "4     66780.0        0.0\n",
              "5     57400.0        0.0\n",
              "6     49490.0        0.0\n",
              "7     54230.0        0.0\n",
              "8     45060.0        0.0\n",
              "9     46270.0        0.0\n",
              "10    54460.0        0.0\n",
              "11    50720.0        0.0\n",
              "12    50110.0        0.0\n",
              "13    54040.0        0.0\n",
              "14    48400.0        0.0\n",
              "15    50490.0        0.0\n",
              "16    46080.0        0.0\n",
              "17    51990.0        0.0\n",
              "18    48180.0        0.0\n",
              "19    48860.0        0.0\n",
              "20    50950.0        0.0\n",
              "21    46470.0        0.0\n",
              "22    49890.0        0.0\n",
              "23    52290.0        0.0\n",
              "24    51530.0        0.0\n",
              "25    45590.0        0.0\n",
              "26    53090.0        0.0\n",
              "27    51780.0        0.0\n",
              "28    53980.0        0.0\n",
              "29    49170.0        0.0\n",
              "30    54260.0        0.0\n",
              "31    54350.0        0.0\n",
              "32    37240.0        0.0\n",
              "33    38320.0        0.0\n",
              "34    32340.0        0.0\n",
              "35    33200.0        0.0\n",
              "36    39130.0        0.0\n",
              "37    36350.0   188380.0\n",
              "38    32950.0   168930.0\n",
              "39    33100.0   142680.0\n",
              "40    36280.0   126960.0\n",
              "41    33480.0   108280.0\n",
              "42    32130.0    93110.0\n",
              "43    36890.0    77260.0\n",
              "44    26710.0    75390.0\n",
              "45    15630.0    72030.0\n",
              "46    11480.0    57210.0\n",
              "47     5790.0    59290.0"
            ],
            "text/html": [
              "\n",
              "  <div id=\"df-29d5bb21-d6d7-4dbf-a490-726ff57dd3c6\">\n",
              "    <div class=\"colab-df-container\">\n",
              "      <div>\n",
              "<style scoped>\n",
              "    .dataframe tbody tr th:only-of-type {\n",
              "        vertical-align: middle;\n",
              "    }\n",
              "\n",
              "    .dataframe tbody tr th {\n",
              "        vertical-align: top;\n",
              "    }\n",
              "\n",
              "    .dataframe thead th {\n",
              "        text-align: right;\n",
              "    }\n",
              "</style>\n",
              "<table border=\"1\" class=\"dataframe\">\n",
              "  <thead>\n",
              "    <tr style=\"text-align: right;\">\n",
              "      <th></th>\n",
              "      <th>Iphone_13</th>\n",
              "      <th>Iphone_14</th>\n",
              "    </tr>\n",
              "  </thead>\n",
              "  <tbody>\n",
              "    <tr>\n",
              "      <th>0</th>\n",
              "      <td>52360.0</td>\n",
              "      <td>0.0</td>\n",
              "    </tr>\n",
              "    <tr>\n",
              "      <th>1</th>\n",
              "      <td>50360.0</td>\n",
              "      <td>0.0</td>\n",
              "    </tr>\n",
              "    <tr>\n",
              "      <th>2</th>\n",
              "      <td>48340.0</td>\n",
              "      <td>0.0</td>\n",
              "    </tr>\n",
              "    <tr>\n",
              "      <th>3</th>\n",
              "      <td>45390.0</td>\n",
              "      <td>0.0</td>\n",
              "    </tr>\n",
              "    <tr>\n",
              "      <th>4</th>\n",
              "      <td>66780.0</td>\n",
              "      <td>0.0</td>\n",
              "    </tr>\n",
              "    <tr>\n",
              "      <th>5</th>\n",
              "      <td>57400.0</td>\n",
              "      <td>0.0</td>\n",
              "    </tr>\n",
              "    <tr>\n",
              "      <th>6</th>\n",
              "      <td>49490.0</td>\n",
              "      <td>0.0</td>\n",
              "    </tr>\n",
              "    <tr>\n",
              "      <th>7</th>\n",
              "      <td>54230.0</td>\n",
              "      <td>0.0</td>\n",
              "    </tr>\n",
              "    <tr>\n",
              "      <th>8</th>\n",
              "      <td>45060.0</td>\n",
              "      <td>0.0</td>\n",
              "    </tr>\n",
              "    <tr>\n",
              "      <th>9</th>\n",
              "      <td>46270.0</td>\n",
              "      <td>0.0</td>\n",
              "    </tr>\n",
              "    <tr>\n",
              "      <th>10</th>\n",
              "      <td>54460.0</td>\n",
              "      <td>0.0</td>\n",
              "    </tr>\n",
              "    <tr>\n",
              "      <th>11</th>\n",
              "      <td>50720.0</td>\n",
              "      <td>0.0</td>\n",
              "    </tr>\n",
              "    <tr>\n",
              "      <th>12</th>\n",
              "      <td>50110.0</td>\n",
              "      <td>0.0</td>\n",
              "    </tr>\n",
              "    <tr>\n",
              "      <th>13</th>\n",
              "      <td>54040.0</td>\n",
              "      <td>0.0</td>\n",
              "    </tr>\n",
              "    <tr>\n",
              "      <th>14</th>\n",
              "      <td>48400.0</td>\n",
              "      <td>0.0</td>\n",
              "    </tr>\n",
              "    <tr>\n",
              "      <th>15</th>\n",
              "      <td>50490.0</td>\n",
              "      <td>0.0</td>\n",
              "    </tr>\n",
              "    <tr>\n",
              "      <th>16</th>\n",
              "      <td>46080.0</td>\n",
              "      <td>0.0</td>\n",
              "    </tr>\n",
              "    <tr>\n",
              "      <th>17</th>\n",
              "      <td>51990.0</td>\n",
              "      <td>0.0</td>\n",
              "    </tr>\n",
              "    <tr>\n",
              "      <th>18</th>\n",
              "      <td>48180.0</td>\n",
              "      <td>0.0</td>\n",
              "    </tr>\n",
              "    <tr>\n",
              "      <th>19</th>\n",
              "      <td>48860.0</td>\n",
              "      <td>0.0</td>\n",
              "    </tr>\n",
              "    <tr>\n",
              "      <th>20</th>\n",
              "      <td>50950.0</td>\n",
              "      <td>0.0</td>\n",
              "    </tr>\n",
              "    <tr>\n",
              "      <th>21</th>\n",
              "      <td>46470.0</td>\n",
              "      <td>0.0</td>\n",
              "    </tr>\n",
              "    <tr>\n",
              "      <th>22</th>\n",
              "      <td>49890.0</td>\n",
              "      <td>0.0</td>\n",
              "    </tr>\n",
              "    <tr>\n",
              "      <th>23</th>\n",
              "      <td>52290.0</td>\n",
              "      <td>0.0</td>\n",
              "    </tr>\n",
              "    <tr>\n",
              "      <th>24</th>\n",
              "      <td>51530.0</td>\n",
              "      <td>0.0</td>\n",
              "    </tr>\n",
              "    <tr>\n",
              "      <th>25</th>\n",
              "      <td>45590.0</td>\n",
              "      <td>0.0</td>\n",
              "    </tr>\n",
              "    <tr>\n",
              "      <th>26</th>\n",
              "      <td>53090.0</td>\n",
              "      <td>0.0</td>\n",
              "    </tr>\n",
              "    <tr>\n",
              "      <th>27</th>\n",
              "      <td>51780.0</td>\n",
              "      <td>0.0</td>\n",
              "    </tr>\n",
              "    <tr>\n",
              "      <th>28</th>\n",
              "      <td>53980.0</td>\n",
              "      <td>0.0</td>\n",
              "    </tr>\n",
              "    <tr>\n",
              "      <th>29</th>\n",
              "      <td>49170.0</td>\n",
              "      <td>0.0</td>\n",
              "    </tr>\n",
              "    <tr>\n",
              "      <th>30</th>\n",
              "      <td>54260.0</td>\n",
              "      <td>0.0</td>\n",
              "    </tr>\n",
              "    <tr>\n",
              "      <th>31</th>\n",
              "      <td>54350.0</td>\n",
              "      <td>0.0</td>\n",
              "    </tr>\n",
              "    <tr>\n",
              "      <th>32</th>\n",
              "      <td>37240.0</td>\n",
              "      <td>0.0</td>\n",
              "    </tr>\n",
              "    <tr>\n",
              "      <th>33</th>\n",
              "      <td>38320.0</td>\n",
              "      <td>0.0</td>\n",
              "    </tr>\n",
              "    <tr>\n",
              "      <th>34</th>\n",
              "      <td>32340.0</td>\n",
              "      <td>0.0</td>\n",
              "    </tr>\n",
              "    <tr>\n",
              "      <th>35</th>\n",
              "      <td>33200.0</td>\n",
              "      <td>0.0</td>\n",
              "    </tr>\n",
              "    <tr>\n",
              "      <th>36</th>\n",
              "      <td>39130.0</td>\n",
              "      <td>0.0</td>\n",
              "    </tr>\n",
              "    <tr>\n",
              "      <th>37</th>\n",
              "      <td>36350.0</td>\n",
              "      <td>188380.0</td>\n",
              "    </tr>\n",
              "    <tr>\n",
              "      <th>38</th>\n",
              "      <td>32950.0</td>\n",
              "      <td>168930.0</td>\n",
              "    </tr>\n",
              "    <tr>\n",
              "      <th>39</th>\n",
              "      <td>33100.0</td>\n",
              "      <td>142680.0</td>\n",
              "    </tr>\n",
              "    <tr>\n",
              "      <th>40</th>\n",
              "      <td>36280.0</td>\n",
              "      <td>126960.0</td>\n",
              "    </tr>\n",
              "    <tr>\n",
              "      <th>41</th>\n",
              "      <td>33480.0</td>\n",
              "      <td>108280.0</td>\n",
              "    </tr>\n",
              "    <tr>\n",
              "      <th>42</th>\n",
              "      <td>32130.0</td>\n",
              "      <td>93110.0</td>\n",
              "    </tr>\n",
              "    <tr>\n",
              "      <th>43</th>\n",
              "      <td>36890.0</td>\n",
              "      <td>77260.0</td>\n",
              "    </tr>\n",
              "    <tr>\n",
              "      <th>44</th>\n",
              "      <td>26710.0</td>\n",
              "      <td>75390.0</td>\n",
              "    </tr>\n",
              "    <tr>\n",
              "      <th>45</th>\n",
              "      <td>15630.0</td>\n",
              "      <td>72030.0</td>\n",
              "    </tr>\n",
              "    <tr>\n",
              "      <th>46</th>\n",
              "      <td>11480.0</td>\n",
              "      <td>57210.0</td>\n",
              "    </tr>\n",
              "    <tr>\n",
              "      <th>47</th>\n",
              "      <td>5790.0</td>\n",
              "      <td>59290.0</td>\n",
              "    </tr>\n",
              "  </tbody>\n",
              "</table>\n",
              "</div>\n",
              "      <button class=\"colab-df-convert\" onclick=\"convertToInteractive('df-29d5bb21-d6d7-4dbf-a490-726ff57dd3c6')\"\n",
              "              title=\"Convert this dataframe to an interactive table.\"\n",
              "              style=\"display:none;\">\n",
              "        \n",
              "  <svg xmlns=\"http://www.w3.org/2000/svg\" height=\"24px\"viewBox=\"0 0 24 24\"\n",
              "       width=\"24px\">\n",
              "    <path d=\"M0 0h24v24H0V0z\" fill=\"none\"/>\n",
              "    <path d=\"M18.56 5.44l.94 2.06.94-2.06 2.06-.94-2.06-.94-.94-2.06-.94 2.06-2.06.94zm-11 1L8.5 8.5l.94-2.06 2.06-.94-2.06-.94L8.5 2.5l-.94 2.06-2.06.94zm10 10l.94 2.06.94-2.06 2.06-.94-2.06-.94-.94-2.06-.94 2.06-2.06.94z\"/><path d=\"M17.41 7.96l-1.37-1.37c-.4-.4-.92-.59-1.43-.59-.52 0-1.04.2-1.43.59L10.3 9.45l-7.72 7.72c-.78.78-.78 2.05 0 2.83L4 21.41c.39.39.9.59 1.41.59.51 0 1.02-.2 1.41-.59l7.78-7.78 2.81-2.81c.8-.78.8-2.07 0-2.86zM5.41 20L4 18.59l7.72-7.72 1.47 1.35L5.41 20z\"/>\n",
              "  </svg>\n",
              "      </button>\n",
              "      \n",
              "  <style>\n",
              "    .colab-df-container {\n",
              "      display:flex;\n",
              "      flex-wrap:wrap;\n",
              "      gap: 12px;\n",
              "    }\n",
              "\n",
              "    .colab-df-convert {\n",
              "      background-color: #E8F0FE;\n",
              "      border: none;\n",
              "      border-radius: 50%;\n",
              "      cursor: pointer;\n",
              "      display: none;\n",
              "      fill: #1967D2;\n",
              "      height: 32px;\n",
              "      padding: 0 0 0 0;\n",
              "      width: 32px;\n",
              "    }\n",
              "\n",
              "    .colab-df-convert:hover {\n",
              "      background-color: #E2EBFA;\n",
              "      box-shadow: 0px 1px 2px rgba(60, 64, 67, 0.3), 0px 1px 3px 1px rgba(60, 64, 67, 0.15);\n",
              "      fill: #174EA6;\n",
              "    }\n",
              "\n",
              "    [theme=dark] .colab-df-convert {\n",
              "      background-color: #3B4455;\n",
              "      fill: #D2E3FC;\n",
              "    }\n",
              "\n",
              "    [theme=dark] .colab-df-convert:hover {\n",
              "      background-color: #434B5C;\n",
              "      box-shadow: 0px 1px 3px 1px rgba(0, 0, 0, 0.15);\n",
              "      filter: drop-shadow(0px 1px 2px rgba(0, 0, 0, 0.3));\n",
              "      fill: #FFFFFF;\n",
              "    }\n",
              "  </style>\n",
              "\n",
              "      <script>\n",
              "        const buttonEl =\n",
              "          document.querySelector('#df-29d5bb21-d6d7-4dbf-a490-726ff57dd3c6 button.colab-df-convert');\n",
              "        buttonEl.style.display =\n",
              "          google.colab.kernel.accessAllowed ? 'block' : 'none';\n",
              "\n",
              "        async function convertToInteractive(key) {\n",
              "          const element = document.querySelector('#df-29d5bb21-d6d7-4dbf-a490-726ff57dd3c6');\n",
              "          const dataTable =\n",
              "            await google.colab.kernel.invokeFunction('convertToInteractive',\n",
              "                                                     [key], {});\n",
              "          if (!dataTable) return;\n",
              "\n",
              "          const docLinkHtml = 'Like what you see? Visit the ' +\n",
              "            '<a target=\"_blank\" href=https://colab.research.google.com/notebooks/data_table.ipynb>data table notebook</a>'\n",
              "            + ' to learn more about interactive tables.';\n",
              "          element.innerHTML = '';\n",
              "          dataTable['output_type'] = 'display_data';\n",
              "          await google.colab.output.renderOutput(dataTable, element);\n",
              "          const docLink = document.createElement('div');\n",
              "          docLink.innerHTML = docLinkHtml;\n",
              "          element.appendChild(docLink);\n",
              "        }\n",
              "      </script>\n",
              "    </div>\n",
              "  </div>\n",
              "  "
            ]
          },
          "metadata": {},
          "execution_count": 26
        }
      ],
      "source": [
        "iphone_13_14"
      ]
    },
    {
      "cell_type": "code",
      "execution_count": null,
      "id": "1fbfe747",
      "metadata": {
        "id": "1fbfe747"
      },
      "outputs": [],
      "source": [
        "iphone_13 = iphone_13_14['Iphone_13']"
      ]
    },
    {
      "cell_type": "code",
      "execution_count": null,
      "id": "4686bfef",
      "metadata": {
        "colab": {
          "base_uri": "https://localhost:8080/"
        },
        "id": "4686bfef",
        "outputId": "b0199e0b-05bf-4075-95be-6b8df3cee6ca"
      },
      "outputs": [
        {
          "output_type": "execute_result",
          "data": {
            "text/plain": [
              "0     52360.0\n",
              "1     50360.0\n",
              "2     48340.0\n",
              "3     45390.0\n",
              "4     66780.0\n",
              "5     57400.0\n",
              "6     49490.0\n",
              "7     54230.0\n",
              "8     45060.0\n",
              "9     46270.0\n",
              "10    54460.0\n",
              "11    50720.0\n",
              "12    50110.0\n",
              "13    54040.0\n",
              "14    48400.0\n",
              "15    50490.0\n",
              "16    46080.0\n",
              "17    51990.0\n",
              "18    48180.0\n",
              "19    48860.0\n",
              "20    50950.0\n",
              "21    46470.0\n",
              "22    49890.0\n",
              "23    52290.0\n",
              "24    51530.0\n",
              "25    45590.0\n",
              "26    53090.0\n",
              "27    51780.0\n",
              "28    53980.0\n",
              "29    49170.0\n",
              "30    54260.0\n",
              "31    54350.0\n",
              "32    37240.0\n",
              "33    38320.0\n",
              "34    32340.0\n",
              "35    33200.0\n",
              "36    39130.0\n",
              "37    36350.0\n",
              "38    32950.0\n",
              "39    33100.0\n",
              "40    36280.0\n",
              "41    33480.0\n",
              "42    32130.0\n",
              "43    36890.0\n",
              "44    26710.0\n",
              "45    15630.0\n",
              "46    11480.0\n",
              "47     5790.0\n",
              "Name: Iphone_13, dtype: float64"
            ]
          },
          "metadata": {},
          "execution_count": 28
        }
      ],
      "source": [
        "iphone_13"
      ]
    },
    {
      "cell_type": "code",
      "execution_count": null,
      "id": "6957e314",
      "metadata": {
        "id": "6957e314"
      },
      "outputs": [],
      "source": [
        "import matplotlib.pyplot as plt"
      ]
    },
    {
      "cell_type": "code",
      "execution_count": null,
      "id": "8d8a91d5",
      "metadata": {
        "id": "8d8a91d5"
      },
      "outputs": [],
      "source": []
    },
    {
      "cell_type": "code",
      "execution_count": null,
      "id": "45758782",
      "metadata": {
        "colab": {
          "base_uri": "https://localhost:8080/",
          "height": 282
        },
        "id": "45758782",
        "outputId": "db99493f-1b82-4b29-9187-cf512e591543"
      },
      "outputs": [
        {
          "output_type": "execute_result",
          "data": {
            "text/plain": [
              "[<matplotlib.lines.Line2D at 0x7ff05a6ede50>]"
            ]
          },
          "metadata": {},
          "execution_count": 30
        },
        {
          "output_type": "display_data",
          "data": {
            "text/plain": [
              "<Figure size 432x288 with 1 Axes>"
            ],
            "image/png": "[encoded data removed]"
          },
          "metadata": {
            "needs_background": "light"
          }
        }
      ],
      "source": [
        "plt.plot(iphone_13)"
      ]
    },
    {
      "cell_type": "code",
      "execution_count": null,
      "id": "4b5b699f",
      "metadata": {
        "id": "4b5b699f"
      },
      "outputs": [],
      "source": [
        "iphone_gb = iphone_data['Campaign_Iphone']"
      ]
    },
    {
      "cell_type": "code",
      "execution_count": null,
      "id": "e94d235a",
      "metadata": {
        "colab": {
          "base_uri": "https://localhost:8080/",
          "height": 282
        },
        "id": "e94d235a",
        "outputId": "4fdde2b7-a3f6-4055-c2f1-ea7f29f0b379"
      },
      "outputs": [
        {
          "output_type": "execute_result",
          "data": {
            "text/plain": [
              "[<matplotlib.lines.Line2D at 0x7ff05a1c04c0>]"
            ]
          },
          "metadata": {},
          "execution_count": 32
        },
        {
          "output_type": "display_data",
          "data": {
            "text/plain": [
              "<Figure size 432x288 with 1 Axes>"
            ],
            "image/png": "[encoded data removed]"
          },
          "metadata": {
            "needs_background": "light"
          }
        }
      ],
      "source": [
        "plt.plot(iphone_gb)"
      ]
    },
    {
      "cell_type": "code",
      "execution_count": null,
      "id": "3ac54155",
      "metadata": {
        "id": "3ac54155"
      },
      "outputs": [],
      "source": [
        "iphone_gb_13 = iphone_gb[:48]"
      ]
    },
    {
      "cell_type": "code",
      "execution_count": null,
      "id": "5613454d",
      "metadata": {
        "colab": {
          "base_uri": "https://localhost:8080/"
        },
        "id": "5613454d",
        "outputId": "c840c959-ccfa-4c94-caf4-6c7b5de7538f"
      },
      "outputs": [
        {
          "output_type": "execute_result",
          "data": {
            "text/plain": [
              "0     100.0\n",
              "1     600.0\n",
              "2     350.0\n",
              "3     750.0\n",
              "4     900.0\n",
              "5     300.0\n",
              "6     450.0\n",
              "7     350.0\n",
              "8     700.0\n",
              "9     450.0\n",
              "10    750.0\n",
              "11    350.0\n",
              "12    300.0\n",
              "13    450.0\n",
              "14    300.0\n",
              "15    450.0\n",
              "16    400.0\n",
              "17    450.0\n",
              "18    350.0\n",
              "19    500.0\n",
              "20    400.0\n",
              "21    200.0\n",
              "22    350.0\n",
              "23    600.0\n",
              "24    150.0\n",
              "25    650.0\n",
              "26    350.0\n",
              "27    350.0\n",
              "28    350.0\n",
              "29    500.0\n",
              "30    150.0\n",
              "31    300.0\n",
              "32    450.0\n",
              "33    650.0\n",
              "34    550.0\n",
              "35    700.0\n",
              "36    500.0\n",
              "37    900.0\n",
              "38    450.0\n",
              "39    350.0\n",
              "40    650.0\n",
              "41      0.0\n",
              "42    350.0\n",
              "43    250.0\n",
              "44    300.0\n",
              "45    450.0\n",
              "46    350.0\n",
              "47    800.0\n",
              "Name: Campaign_Iphone, dtype: float64"
            ]
          },
          "metadata": {},
          "execution_count": 34
        }
      ],
      "source": [
        "iphone_gb_13 "
      ]
    },
    {
      "cell_type": "code",
      "execution_count": null,
      "id": "8add8fff",
      "metadata": {
        "colab": {
          "base_uri": "https://localhost:8080/"
        },
        "id": "8add8fff",
        "outputId": "5165b8dc-62aa-4887-ab2c-8ad183cc4475"
      },
      "outputs": [
        {
          "output_type": "execute_result",
          "data": {
            "text/plain": [
              "0     52360.0\n",
              "1     50360.0\n",
              "2     48340.0\n",
              "3     45390.0\n",
              "4     66780.0\n",
              "5     57400.0\n",
              "6     49490.0\n",
              "7     54230.0\n",
              "8     45060.0\n",
              "9     46270.0\n",
              "10    54460.0\n",
              "11    50720.0\n",
              "12    50110.0\n",
              "13    54040.0\n",
              "14    48400.0\n",
              "15    50490.0\n",
              "16    46080.0\n",
              "17    51990.0\n",
              "18    48180.0\n",
              "19    48860.0\n",
              "20    50950.0\n",
              "21    46470.0\n",
              "22    49890.0\n",
              "23    52290.0\n",
              "24    51530.0\n",
              "25    45590.0\n",
              "26    53090.0\n",
              "27    51780.0\n",
              "28    53980.0\n",
              "29    49170.0\n",
              "30    54260.0\n",
              "31    54350.0\n",
              "32    37240.0\n",
              "33    38320.0\n",
              "34    32340.0\n",
              "35    33200.0\n",
              "36    39130.0\n",
              "37    36350.0\n",
              "38    32950.0\n",
              "39    33100.0\n",
              "40    36280.0\n",
              "41    33480.0\n",
              "42    32130.0\n",
              "43    36890.0\n",
              "44    26710.0\n",
              "45    15630.0\n",
              "46    11480.0\n",
              "47     5790.0\n",
              "Name: Iphone_13, dtype: float64"
            ]
          },
          "metadata": {},
          "execution_count": 35
        }
      ],
      "source": [
        "iphone_13"
      ]
    },
    {
      "cell_type": "code",
      "execution_count": null,
      "id": "8a3e1cae",
      "metadata": {
        "colab": {
          "base_uri": "https://localhost:8080/",
          "height": 282
        },
        "id": "8a3e1cae",
        "outputId": "a8861ea7-1db2-46a9-a198-5a949fe8746f"
      },
      "outputs": [
        {
          "output_type": "execute_result",
          "data": {
            "text/plain": [
              "[<matplotlib.lines.Line2D at 0x7ff05a199fa0>]"
            ]
          },
          "metadata": {},
          "execution_count": 36
        },
        {
          "output_type": "display_data",
          "data": {
            "text/plain": [
              "<Figure size 432x288 with 1 Axes>"
            ],
            "image/png": "[encoded data removed]"
          },
          "metadata": {
            "needs_background": "light"
          }
        }
      ],
      "source": [
        "plt.plot(iphone_gb_13,iphone_13)"
      ]
    },
    {
      "cell_type": "code",
      "execution_count": null,
      "id": "719d705d",
      "metadata": {
        "id": "719d705d"
      },
      "outputs": [],
      "source": [
        "from sklearn.linear_model import LinearRegression"
      ]
    },
    {
      "cell_type": "code",
      "execution_count": null,
      "id": "05fc0c03",
      "metadata": {
        "id": "05fc0c03"
      },
      "outputs": [],
      "source": [
        "model = LinearRegression()"
      ]
    },
    {
      "cell_type": "code",
      "execution_count": null,
      "id": "64caf466",
      "metadata": {
        "colab": {
          "base_uri": "https://localhost:8080/"
        },
        "id": "64caf466",
        "outputId": "de895970-cba1-43fa-c65d-5dd217987ba8"
      },
      "outputs": [
        {
          "output_type": "execute_result",
          "data": {
            "text/plain": [
              "LinearRegression()"
            ]
          },
          "metadata": {},
          "execution_count": 39
        }
      ],
      "source": [
        "model"
      ]
    },
    {
      "cell_type": "code",
      "execution_count": null,
      "id": "6bd5054f",
      "metadata": {
        "id": "6bd5054f"
      },
      "outputs": [],
      "source": [
        "y = new_data['Week_ID']"
      ]
    },
    {
      "cell_type": "code",
      "execution_count": null,
      "id": "bfe4abb6",
      "metadata": {
        "id": "bfe4abb6"
      },
      "outputs": [],
      "source": [
        "y = y[:48]"
      ]
    },
    {
      "cell_type": "code",
      "execution_count": null,
      "id": "7ce6f0fe",
      "metadata": {
        "colab": {
          "base_uri": "https://localhost:8080/"
        },
        "id": "7ce6f0fe",
        "outputId": "4f9061fb-02f4-4beb-f6c7-770f2026d11a"
      },
      "outputs": [
        {
          "output_type": "execute_result",
          "data": {
            "text/plain": [
              "0      1.0\n",
              "1      2.0\n",
              "2      3.0\n",
              "3      4.0\n",
              "4      5.0\n",
              "5      6.0\n",
              "6      7.0\n",
              "7      8.0\n",
              "8      9.0\n",
              "9     10.0\n",
              "10    11.0\n",
              "11    12.0\n",
              "12    13.0\n",
              "13    14.0\n",
              "14    15.0\n",
              "15    16.0\n",
              "16    17.0\n",
              "17    18.0\n",
              "18    19.0\n",
              "19    20.0\n",
              "20    21.0\n",
              "21    22.0\n",
              "22    23.0\n",
              "23    24.0\n",
              "24    25.0\n",
              "25    26.0\n",
              "26    27.0\n",
              "27    28.0\n",
              "28    29.0\n",
              "29    30.0\n",
              "30    31.0\n",
              "31    32.0\n",
              "32    33.0\n",
              "33    34.0\n",
              "34    35.0\n",
              "35    36.0\n",
              "36    37.0\n",
              "37    38.0\n",
              "38    39.0\n",
              "39    40.0\n",
              "40    41.0\n",
              "41    42.0\n",
              "42    43.0\n",
              "43    44.0\n",
              "44    45.0\n",
              "45    46.0\n",
              "46    47.0\n",
              "47    48.0\n",
              "Name: Week_ID, dtype: float64"
            ]
          },
          "metadata": {},
          "execution_count": 42
        }
      ],
      "source": [
        "y"
      ]
    },
    {
      "cell_type": "code",
      "execution_count": null,
      "id": "63690d5c",
      "metadata": {
        "id": "63690d5c"
      },
      "outputs": [],
      "source": [
        "import numpy as np"
      ]
    },
    {
      "cell_type": "code",
      "execution_count": null,
      "id": "9754997d",
      "metadata": {
        "colab": {
          "base_uri": "https://localhost:8080/"
        },
        "id": "9754997d",
        "outputId": "515a4565-22af-4510-87a2-bf58cbe257ae"
      },
      "outputs": [
        {
          "output_type": "execute_result",
          "data": {
            "text/plain": [
              "[1.0,\n",
              " 2.0,\n",
              " 3.0,\n",
              " 4.0,\n",
              " 5.0,\n",
              " 6.0,\n",
              " 7.0,\n",
              " 8.0,\n",
              " 9.0,\n",
              " 10.0,\n",
              " 11.0,\n",
              " 12.0,\n",
              " 13.0,\n",
              " 14.0,\n",
              " 15.0,\n",
              " 16.0,\n",
              " 17.0,\n",
              " 18.0,\n",
              " 19.0,\n",
              " 20.0,\n",
              " 21.0,\n",
              " 22.0,\n",
              " 23.0,\n",
              " 24.0,\n",
              " 25.0,\n",
              " 26.0,\n",
              " 27.0,\n",
              " 28.0,\n",
              " 29.0,\n",
              " 30.0,\n",
              " 31.0,\n",
              " 32.0,\n",
              " 33.0,\n",
              " 34.0,\n",
              " 35.0,\n",
              " 36.0,\n",
              " 37.0,\n",
              " 38.0,\n",
              " 39.0,\n",
              " 40.0,\n",
              " 41.0,\n",
              " 42.0,\n",
              " 43.0,\n",
              " 44.0,\n",
              " 45.0,\n",
              " 46.0,\n",
              " 47.0,\n",
              " 48.0]"
            ]
          },
          "metadata": {},
          "execution_count": 44
        }
      ],
      "source": [
        "y.tolist()"
      ]
    },
    {
      "cell_type": "code",
      "execution_count": null,
      "id": "8d76ec8b",
      "metadata": {
        "id": "8d76ec8b"
      },
      "outputs": [],
      "source": [
        "y = y.values.reshape(-1,1)"
      ]
    },
    {
      "cell_type": "code",
      "execution_count": null,
      "id": "e7cbc30a",
      "metadata": {
        "colab": {
          "base_uri": "https://localhost:8080/"
        },
        "id": "e7cbc30a",
        "outputId": "a6c040df-904f-495d-f818-30ea8baea5c4"
      },
      "outputs": [
        {
          "output_type": "execute_result",
          "data": {
            "text/plain": [
              "[52360.0,\n",
              " 50360.0,\n",
              " 48340.0,\n",
              " 45390.0,\n",
              " 66780.0,\n",
              " 57400.0,\n",
              " 49490.0,\n",
              " 54230.0,\n",
              " 45060.0,\n",
              " 46270.0,\n",
              " 54460.0,\n",
              " 50720.0,\n",
              " 50110.0,\n",
              " 54040.0,\n",
              " 48400.0,\n",
              " 50490.0,\n",
              " 46080.0,\n",
              " 51990.0,\n",
              " 48180.0,\n",
              " 48860.0,\n",
              " 50950.0,\n",
              " 46470.0,\n",
              " 49890.0,\n",
              " 52290.0,\n",
              " 51530.0,\n",
              " 45590.0,\n",
              " 53090.0,\n",
              " 51780.0,\n",
              " 53980.0,\n",
              " 49170.0,\n",
              " 54260.0,\n",
              " 54350.0,\n",
              " 37240.0,\n",
              " 38320.0,\n",
              " 32340.0,\n",
              " 33200.0,\n",
              " 39130.0,\n",
              " 36350.0,\n",
              " 32950.0,\n",
              " 33100.0,\n",
              " 36280.0,\n",
              " 33480.0,\n",
              " 32130.0,\n",
              " 36890.0,\n",
              " 26710.0,\n",
              " 15630.0,\n",
              " 11480.0,\n",
              " 5790.0]"
            ]
          },
          "metadata": {},
          "execution_count": 46
        }
      ],
      "source": [
        "iphone_13.tolist()"
      ]
    },
    {
      "cell_type": "code",
      "execution_count": null,
      "id": "fd02aa8c",
      "metadata": {
        "id": "fd02aa8c"
      },
      "outputs": [],
      "source": []
    },
    {
      "cell_type": "code",
      "execution_count": null,
      "id": "b559eaa0",
      "metadata": {
        "colab": {
          "base_uri": "https://localhost:8080/"
        },
        "id": "b559eaa0",
        "outputId": "ca6816e9-c9af-4545-ea98-b30569347851"
      },
      "outputs": [
        {
          "output_type": "execute_result",
          "data": {
            "text/plain": [
              "LinearRegression()"
            ]
          },
          "metadata": {},
          "execution_count": 47
        }
      ],
      "source": [
        "model.fit(y,iphone_13)"
      ]
    },
    {
      "cell_type": "code",
      "execution_count": null,
      "id": "50b0a247",
      "metadata": {
        "colab": {
          "base_uri": "https://localhost:8080/"
        },
        "id": "50b0a247",
        "outputId": "955684e8-ad4c-45bb-ea62-74d2139af879"
      },
      "outputs": [
        {
          "output_type": "execute_result",
          "data": {
            "text/plain": [
              "0.5701262150680748"
            ]
          },
          "metadata": {},
          "execution_count": 48
        }
      ],
      "source": [
        "model.score(y,iphone_13)"
      ]
    },
    {
      "cell_type": "code",
      "execution_count": null,
      "id": "dfaac5c2",
      "metadata": {
        "colab": {
          "base_uri": "https://localhost:8080/"
        },
        "id": "dfaac5c2",
        "outputId": "26315436-ef1a-40ed-d428-b2fb313b403e"
      },
      "outputs": [
        {
          "output_type": "execute_result",
          "data": {
            "text/plain": [
              "array([28170.26595745, 27522.98089449, 26875.69583152, 26228.41076856])"
            ]
          },
          "metadata": {},
          "execution_count": 49
        }
      ],
      "source": [
        "model.predict(np.array([[49], [50],[51],[52]]))"
      ]
    },
    {
      "cell_type": "code",
      "execution_count": null,
      "id": "a4099686",
      "metadata": {
        "colab": {
          "base_uri": "https://localhost:8080/",
          "height": 265
        },
        "id": "a4099686",
        "outputId": "9597317e-16e1-4cb8-af69-73018653c327"
      },
      "outputs": [
        {
          "output_type": "display_data",
          "data": {
            "text/plain": [
              "<Figure size 432x288 with 1 Axes>"
            ],
            "image/png": "[encoded data removed]"
          },
          "metadata": {
            "needs_background": "light"
          }
        }
      ],
      "source": [
        "plt.scatter(y, iphone_13, color=\"black\")\n",
        "plt.plot(y, iphone_13, color=\"blue\", linewidth=3)\n",
        "\n",
        "\n",
        "plt.show()"
      ]
    },
    {
      "cell_type": "code",
      "execution_count": null,
      "id": "7e066513",
      "metadata": {
        "id": "7e066513"
      },
      "outputs": [],
      "source": [
        "from sklearn.preprocessing import PolynomialFeatures"
      ]
    },
    {
      "cell_type": "code",
      "execution_count": null,
      "id": "f0400486",
      "metadata": {
        "id": "f0400486"
      },
      "outputs": [],
      "source": [
        "poly = PolynomialFeatures(degree=3)"
      ]
    },
    {
      "cell_type": "code",
      "execution_count": null,
      "id": "6dd738c3",
      "metadata": {
        "id": "6dd738c3"
      },
      "outputs": [],
      "source": []
    },
    {
      "cell_type": "code",
      "execution_count": null,
      "id": "09453ef5",
      "metadata": {
        "colab": {
          "base_uri": "https://localhost:8080/"
        },
        "id": "09453ef5",
        "outputId": "5731e968-3b30-494a-cc70-01ca9d4fc45d"
      },
      "outputs": [
        {
          "output_type": "stream",
          "name": "stdout",
          "text": [
            "0.8142580779444449\n"
          ]
        }
      ],
      "source": [
        "from sklearn.preprocessing import PolynomialFeatures\n",
        "from sklearn import linear_model\n",
        "\n",
        "# Create linear regression object\n",
        "\n",
        "X_train = poly.fit_transform(y)\n",
        "\n",
        "model = linear_model.LinearRegression()\n",
        "model.fit(X_train, iphone_13)\n",
        "\n",
        "print(model.score(X_train, iphone_13))"
      ]
    },
    {
      "cell_type": "code",
      "execution_count": null,
      "id": "cc27bf14",
      "metadata": {
        "colab": {
          "base_uri": "https://localhost:8080/"
        },
        "id": "cc27bf14",
        "outputId": "04c71963-1bd4-4983-d9b5-72f0a62df97b"
      },
      "outputs": [
        {
          "output_type": "execute_result",
          "data": {
            "text/plain": [
              "LinearRegression()"
            ]
          },
          "metadata": {},
          "execution_count": 54
        }
      ],
      "source": [
        "model"
      ]
    },
    {
      "cell_type": "code",
      "execution_count": null,
      "id": "30ad9a06",
      "metadata": {
        "colab": {
          "base_uri": "https://localhost:8080/"
        },
        "id": "30ad9a06",
        "outputId": "fefe6f90-419e-4f91-ab8f-dd5c82e8ed96"
      },
      "outputs": [
        {
          "output_type": "execute_result",
          "data": {
            "text/plain": [
              "array([11998.71808724])"
            ]
          },
          "metadata": {},
          "execution_count": 55
        }
      ],
      "source": [
        "model.predict([[1,48,48**2,48**3]])"
      ]
    },
    {
      "cell_type": "code",
      "execution_count": null,
      "id": "9a2799a8",
      "metadata": {
        "colab": {
          "base_uri": "https://localhost:8080/"
        },
        "id": "9a2799a8",
        "outputId": "6accb773-b475-44fe-de03-0a2d401cf02f"
      },
      "outputs": [
        {
          "output_type": "execute_result",
          "data": {
            "text/plain": [
              "array([8272.40697914])"
            ]
          },
          "metadata": {},
          "execution_count": 56
        }
      ],
      "source": [
        "model.predict([[1,49,49**2,49**3]])"
      ]
    },
    {
      "cell_type": "code",
      "execution_count": null,
      "id": "22c7503c",
      "metadata": {
        "colab": {
          "base_uri": "https://localhost:8080/"
        },
        "id": "22c7503c",
        "outputId": "5d1142b6-4f05-4355-a97d-32acbfe1c4ed"
      },
      "outputs": [
        {
          "output_type": "execute_result",
          "data": {
            "text/plain": [
              "array([4315.83178106])"
            ]
          },
          "metadata": {},
          "execution_count": 57
        }
      ],
      "source": [
        "model.predict([[1,50,50**2,50**3]])"
      ]
    },
    {
      "cell_type": "code",
      "execution_count": null,
      "id": "de6e51ca",
      "metadata": {
        "id": "de6e51ca"
      },
      "outputs": [],
      "source": [
        "prediction = model.predict([[1,49,49**2,49**3],[1,50,50**2,50**3],[1,51,51**2,51**3],[1,52,52**2,52**3],[1,53,53**2,53**3]])"
      ]
    },
    {
      "cell_type": "code",
      "execution_count": null,
      "id": "ecbf0d89",
      "metadata": {
        "id": "ecbf0d89"
      },
      "outputs": [],
      "source": [
        "prediction = [i if i >0 else 0 for i in prediction]"
      ]
    },
    {
      "cell_type": "code",
      "execution_count": null,
      "id": "bee26462",
      "metadata": {
        "colab": {
          "base_uri": "https://localhost:8080/"
        },
        "id": "bee26462",
        "outputId": "94c2c4e4-d572-48eb-d867-9903939a88cd"
      },
      "outputs": [
        {
          "output_type": "execute_result",
          "data": {
            "text/plain": [
              "[8272.406979135128, 4315.83178106376, 122.14686472950416, 0, 0]"
            ]
          },
          "metadata": {},
          "execution_count": 60
        }
      ],
      "source": [
        "prediction"
      ]
    },
    {
      "cell_type": "code",
      "execution_count": null,
      "id": "5431b195",
      "metadata": {
        "id": "5431b195"
      },
      "outputs": [],
      "source": [
        "prediction = [np.array([i]) if isinstance(i, (int, float)) else i for i in prediction]\n",
        "prediction = np.concatenate(prediction)"
      ]
    },
    {
      "cell_type": "code",
      "execution_count": null,
      "id": "7f4eea80",
      "metadata": {
        "colab": {
          "base_uri": "https://localhost:8080/"
        },
        "id": "7f4eea80",
        "outputId": "733dbed4-a2f4-4990-97c6-8493db60760f"
      },
      "outputs": [
        {
          "output_type": "execute_result",
          "data": {
            "text/plain": [
              "array([8272.40697914, 4315.83178106,  122.14686473,    0.        ,\n",
              "          0.        ])"
            ]
          },
          "metadata": {},
          "execution_count": 62
        }
      ],
      "source": [
        "prediction"
      ]
    },
    {
      "cell_type": "code",
      "execution_count": null,
      "id": "803884f6",
      "metadata": {
        "id": "803884f6"
      },
      "outputs": [],
      "source": [
        "prediction = np.append(prediction,0)"
      ]
    },
    {
      "cell_type": "code",
      "execution_count": null,
      "id": "b3778e28",
      "metadata": {
        "id": "b3778e28"
      },
      "outputs": [],
      "source": [
        "iphone_13_new = np.append(iphone_13,prediction)"
      ]
    },
    {
      "cell_type": "code",
      "execution_count": null,
      "id": "8f9198b7",
      "metadata": {
        "colab": {
          "base_uri": "https://localhost:8080/"
        },
        "id": "8f9198b7",
        "outputId": "ffbf63f3-feb0-4a81-a8b2-05722123df88"
      },
      "outputs": [
        {
          "output_type": "execute_result",
          "data": {
            "text/plain": [
              "array([52360.        , 50360.        , 48340.        , 45390.        ,\n",
              "       66780.        , 57400.        , 49490.        , 54230.        ,\n",
              "       45060.        , 46270.        , 54460.        , 50720.        ,\n",
              "       50110.        , 54040.        , 48400.        , 50490.        ,\n",
              "       46080.        , 51990.        , 48180.        , 48860.        ,\n",
              "       50950.        , 46470.        , 49890.        , 52290.        ,\n",
              "       51530.        , 45590.        , 53090.        , 51780.        ,\n",
              "       53980.        , 49170.        , 54260.        , 54350.        ,\n",
              "       37240.        , 38320.        , 32340.        , 33200.        ,\n",
              "       39130.        , 36350.        , 32950.        , 33100.        ,\n",
              "       36280.        , 33480.        , 32130.        , 36890.        ,\n",
              "       26710.        , 15630.        , 11480.        ,  5790.        ,\n",
              "        8272.40697914,  4315.83178106,   122.14686473,     0.        ,\n",
              "           0.        ,     0.        ])"
            ]
          },
          "metadata": {},
          "execution_count": 65
        }
      ],
      "source": [
        "iphone_13_new"
      ]
    },
    {
      "cell_type": "code",
      "execution_count": null,
      "id": "eb34f55c",
      "metadata": {
        "id": "eb34f55c"
      },
      "outputs": [],
      "source": [
        "y_new = [[48],[49],[50],[51],[52],[53],[54]]"
      ]
    },
    {
      "cell_type": "code",
      "execution_count": null,
      "id": "738ed1dc",
      "metadata": {
        "id": "738ed1dc"
      },
      "outputs": [],
      "source": [
        "y_newnew = np.append(y,y_new)"
      ]
    },
    {
      "cell_type": "code",
      "execution_count": null,
      "id": "4990a126",
      "metadata": {
        "id": "4990a126"
      },
      "outputs": [],
      "source": [
        "y_newnew = y_newnew[:54]"
      ]
    },
    {
      "cell_type": "code",
      "execution_count": null,
      "id": "fb8002ef",
      "metadata": {
        "colab": {
          "base_uri": "https://localhost:8080/",
          "height": 286
        },
        "id": "fb8002ef",
        "outputId": "fe61087f-a52a-4d13-f979-babb2e221735"
      },
      "outputs": [
        {
          "output_type": "execute_result",
          "data": {
            "text/plain": [
              "[<matplotlib.lines.Line2D at 0x7ff051fef0d0>]"
            ]
          },
          "metadata": {},
          "execution_count": 69
        },
        {
          "output_type": "display_data",
          "data": {
            "text/plain": [
              "<Figure size 432x288 with 1 Axes>"
            ],
            "image/png": "[encoded data removed]"
          },
          "metadata": {
            "needs_background": "light"
          }
        }
      ],
      "source": [
        "plt.plot()\n",
        "plt.plot(y_newnew,iphone_13_new)"
      ]
    },
    {
      "cell_type": "code",
      "execution_count": null,
      "id": "935f2e5a",
      "metadata": {
        "id": "935f2e5a"
      },
      "outputs": [],
      "source": [
        "y = y_newnew[:48]"
      ]
    },
    {
      "cell_type": "code",
      "execution_count": null,
      "id": "53e9d26d",
      "metadata": {
        "colab": {
          "base_uri": "https://localhost:8080/"
        },
        "id": "53e9d26d",
        "outputId": "ccef5eb0-59ea-4052-93ba-6487d476435a"
      },
      "outputs": [
        {
          "output_type": "execute_result",
          "data": {
            "text/plain": [
              "array([ 1.,  2.,  3.,  4.,  5.,  6.,  7.,  8.,  9., 10., 11., 12., 13.,\n",
              "       14., 15., 16., 17., 18., 19., 20., 21., 22., 23., 24., 25., 26.,\n",
              "       27., 28., 29., 30., 31., 32., 33., 34., 35., 36., 37., 38., 39.,\n",
              "       40., 41., 42., 43., 44., 45., 46., 47., 48.])"
            ]
          },
          "metadata": {},
          "execution_count": 71
        }
      ],
      "source": [
        "y"
      ]
    },
    {
      "cell_type": "code",
      "execution_count": null,
      "id": "6828d1e3",
      "metadata": {
        "id": "6828d1e3"
      },
      "outputs": [],
      "source": []
    },
    {
      "cell_type": "code",
      "execution_count": null,
      "id": "d8bb93a6",
      "metadata": {
        "id": "d8bb93a6"
      },
      "outputs": [],
      "source": []
    },
    {
      "cell_type": "code",
      "execution_count": null,
      "id": "63d756b7",
      "metadata": {
        "colab": {
          "base_uri": "https://localhost:8080/",
          "height": 521
        },
        "id": "63d756b7",
        "outputId": "371623ae-b50f-426a-8045-b1aabef2211d"
      },
      "outputs": [
        {
          "output_type": "display_data",
          "data": {
            "text/plain": [
              "<Figure size 1152x576 with 1 Axes>"
            ],
            "image/png": "[encoded data removed]"
          },
          "metadata": {
            "needs_background": "light"
          }
        }
      ],
      "source": [
        "plt.figure(figsize=(16,8))\n",
        "plt.title('')\n",
        "plt.title('Model Prediction')\n",
        "plt.xlabel('Week-number', fontsize = 18)\n",
        "plt.ylabel('Number of phone sold', fontsize = 18)\n",
        "plt.plot(y,iphone_13)\n",
        "plt.plot(y_new[:6],prediction)\n",
        "plt.legend(['real','predict'], loc = 'lower right')\n",
        "plt.show()"
      ]
    },
    {
      "cell_type": "code",
      "execution_count": null,
      "id": "0d5f5c42",
      "metadata": {
        "id": "0d5f5c42"
      },
      "outputs": [],
      "source": [
        "y_train_last = []\n",
        "for i in range(0,54):\n",
        "    y_train_last.append([1,i,i**2,i**3])"
      ]
    },
    {
      "cell_type": "code",
      "source": [
        "y_train_last"
      ],
      "metadata": {
        "colab": {
          "base_uri": "https://localhost:8080/"
        },
        "id": "y31_pHa5k19g",
        "outputId": "33afbee7-4d52-48c0-aa40-4e10ec655df1"
      },
      "id": "y31_pHa5k19g",
      "execution_count": null,
      "outputs": [
        {
          "output_type": "execute_result",
          "data": {
            "text/plain": [
              "[[1, 0, 0, 0],\n",
              " [1, 1, 1, 1],\n",
              " [1, 2, 4, 8],\n",
              " [1, 3, 9, 27],\n",
              " [1, 4, 16, 64],\n",
              " [1, 5, 25, 125],\n",
              " [1, 6, 36, 216],\n",
              " [1, 7, 49, 343],\n",
              " [1, 8, 64, 512],\n",
              " [1, 9, 81, 729],\n",
              " [1, 10, 100, 1000],\n",
              " [1, 11, 121, 1331],\n",
              " [1, 12, 144, 1728],\n",
              " [1, 13, 169, 2197],\n",
              " [1, 14, 196, 2744],\n",
              " [1, 15, 225, 3375],\n",
              " [1, 16, 256, 4096],\n",
              " [1, 17, 289, 4913],\n",
              " [1, 18, 324, 5832],\n",
              " [1, 19, 361, 6859],\n",
              " [1, 20, 400, 8000],\n",
              " [1, 21, 441, 9261],\n",
              " [1, 22, 484, 10648],\n",
              " [1, 23, 529, 12167],\n",
              " [1, 24, 576, 13824],\n",
              " [1, 25, 625, 15625],\n",
              " [1, 26, 676, 17576],\n",
              " [1, 27, 729, 19683],\n",
              " [1, 28, 784, 21952],\n",
              " [1, 29, 841, 24389],\n",
              " [1, 30, 900, 27000],\n",
              " [1, 31, 961, 29791],\n",
              " [1, 32, 1024, 32768],\n",
              " [1, 33, 1089, 35937],\n",
              " [1, 34, 1156, 39304],\n",
              " [1, 35, 1225, 42875],\n",
              " [1, 36, 1296, 46656],\n",
              " [1, 37, 1369, 50653],\n",
              " [1, 38, 1444, 54872],\n",
              " [1, 39, 1521, 59319],\n",
              " [1, 40, 1600, 64000],\n",
              " [1, 41, 1681, 68921],\n",
              " [1, 42, 1764, 74088],\n",
              " [1, 43, 1849, 79507],\n",
              " [1, 44, 1936, 85184],\n",
              " [1, 45, 2025, 91125],\n",
              " [1, 46, 2116, 97336],\n",
              " [1, 47, 2209, 103823],\n",
              " [1, 48, 2304, 110592],\n",
              " [1, 49, 2401, 117649],\n",
              " [1, 50, 2500, 125000],\n",
              " [1, 51, 2601, 132651],\n",
              " [1, 52, 2704, 140608],\n",
              " [1, 53, 2809, 148877]]"
            ]
          },
          "metadata": {},
          "execution_count": 74
        }
      ]
    },
    {
      "cell_type": "code",
      "source": [
        "prediction_last = model.predict(y_train_last)"
      ],
      "metadata": {
        "id": "k3vl89gVk5JI"
      },
      "id": "k3vl89gVk5JI",
      "execution_count": null,
      "outputs": []
    },
    {
      "cell_type": "code",
      "source": [
        "plt.plot(prediction_last)"
      ],
      "metadata": {
        "colab": {
          "base_uri": "https://localhost:8080/",
          "height": 282
        },
        "id": "8GaWeanCk7JN",
        "outputId": "21e43b98-d70b-46e5-e59b-26d71cebd57b"
      },
      "id": "8GaWeanCk7JN",
      "execution_count": null,
      "outputs": [
        {
          "output_type": "execute_result",
          "data": {
            "text/plain": [
              "[<matplotlib.lines.Line2D at 0x7ff04fed00a0>]"
            ]
          },
          "metadata": {},
          "execution_count": 76
        },
        {
          "output_type": "display_data",
          "data": {
            "text/plain": [
              "<Figure size 432x288 with 1 Axes>"
            ],
            "image/png": "[encoded data removed]"
          },
          "metadata": {
            "needs_background": "light"
          }
        }
      ]
    },
    {
      "cell_type": "code",
      "source": [
        "plt.figure(figsize=(16,8))\n",
        "plt.title('')\n",
        "plt.title('Model Prediction')\n",
        "plt.xlabel('Week-number', fontsize = 18)\n",
        "plt.ylabel('Number of phone sold', fontsize = 18)\n",
        "plt.plot(y,iphone_13)\n",
        "plt.plot(prediction_last)\n",
        "plt.legend(['real','predict'], loc = 'lower right')\n",
        "plt.show()"
      ],
      "metadata": {
        "colab": {
          "base_uri": "https://localhost:8080/",
          "height": 521
        },
        "id": "OILL84ePlb2K",
        "outputId": "db3b5e79-26e6-46d4-cd49-8b4038cbb427"
      },
      "id": "OILL84ePlb2K",
      "execution_count": null,
      "outputs": [
        {
          "output_type": "display_data",
          "data": {
            "text/plain": [
              "<Figure size 1152x576 with 1 Axes>"
            ],
            "image/png": "[encoded data removed]"
          },
          "metadata": {
            "needs_background": "light"
          }
        }
      ]
    },
    {
      "cell_type": "code",
      "source": [
        "samsung_data = new_data.drop(columns = ['Iphone_13','Iphone_14','Start_week','End_week','NumHoliday','ReleaseStat13','ReleaseState14','Campaign_Iphone'])\n",
        "samsung_data = samsung_data.drop(columns = ['Year'])"
      ],
      "metadata": {
        "id": "tg5QMvfVleAp"
      },
      "id": "tg5QMvfVleAp",
      "execution_count": null,
      "outputs": []
    },
    {
      "cell_type": "code",
      "source": [
        "samsung_data"
      ],
      "metadata": {
        "colab": {
          "base_uri": "https://localhost:8080/",
          "height": 419
        },
        "id": "cxKYRF1poh0B",
        "outputId": "99629b96-0b5f-4ea1-b61a-dda260960ba2"
      },
      "id": "cxKYRF1poh0B",
      "execution_count": null,
      "outputs": [
        {
          "output_type": "execute_result",
          "data": {
            "text/plain": [
              "    Week_ID  Galaxy_S21  Galaxy_S22  Galaxy_S23  ReleaseStat21  ReleaseStat22  \\\n",
              "0       1.0     25630.0         0.0         0.0            1.0            0.0   \n",
              "1       2.0     22940.0         0.0         0.0            1.0            0.0   \n",
              "2       3.0     21560.0         0.0         0.0            1.0            0.0   \n",
              "3       4.0     22450.0         0.0         0.0            1.0            0.0   \n",
              "4       5.0     21460.0         0.0         0.0            1.0            0.0   \n",
              "..      ...         ...         ...         ...            ...            ...   \n",
              "59      8.0         0.0         0.0         0.0            0.0            1.0   \n",
              "60      9.0         0.0         0.0         0.0            0.0            1.0   \n",
              "61     10.0         0.0         0.0         0.0            0.0            0.0   \n",
              "62     11.0         0.0         0.0         0.0            0.0            0.0   \n",
              "63     12.0         0.0         0.0         0.0            0.0            0.0   \n",
              "\n",
              "    ReleaseStat23  Campaign_Samsung  \n",
              "0             0.0        100.000000  \n",
              "1             0.0        600.000000  \n",
              "2             0.0        200.000000  \n",
              "3             0.0        750.000000  \n",
              "4             0.0        500.000000  \n",
              "..            ...               ...  \n",
              "59            1.0        433.531746  \n",
              "60            1.0        192.857143  \n",
              "61            1.0        357.142857  \n",
              "62            1.0        648.015873  \n",
              "63            1.0        304.563492  \n",
              "\n",
              "[64 rows x 8 columns]"
            ],
            "text/html": [
              "\n",
              "  <div id=\"df-fa12501b-ce04-47e0-8767-b07145341bc8\">\n",
              "    <div class=\"colab-df-container\">\n",
              "      <div>\n",
              "<style scoped>\n",
              "    .dataframe tbody tr th:only-of-type {\n",
              "        vertical-align: middle;\n",
              "    }\n",
              "\n",
              "    .dataframe tbody tr th {\n",
              "        vertical-align: top;\n",
              "    }\n",
              "\n",
              "    .dataframe thead th {\n",
              "        text-align: right;\n",
              "    }\n",
              "</style>\n",
              "<table border=\"1\" class=\"dataframe\">\n",
              "  <thead>\n",
              "    <tr style=\"text-align: right;\">\n",
              "      <th></th>\n",
              "      <th>Week_ID</th>\n",
              "      <th>Galaxy_S21</th>\n",
              "      <th>Galaxy_S22</th>\n",
              "      <th>Galaxy_S23</th>\n",
              "      <th>ReleaseStat21</th>\n",
              "      <th>ReleaseStat22</th>\n",
              "      <th>ReleaseStat23</th>\n",
              "      <th>Campaign_Samsung</th>\n",
              "    </tr>\n",
              "  </thead>\n",
              "  <tbody>\n",
              "    <tr>\n",
              "      <th>0</th>\n",
              "      <td>1.0</td>\n",
              "      <td>25630.0</td>\n",
              "      <td>0.0</td>\n",
              "      <td>0.0</td>\n",
              "      <td>1.0</td>\n",
              "      <td>0.0</td>\n",
              "      <td>0.0</td>\n",
              "      <td>100.000000</td>\n",
              "    </tr>\n",
              "    <tr>\n",
              "      <th>1</th>\n",
              "      <td>2.0</td>\n",
              "      <td>22940.0</td>\n",
              "      <td>0.0</td>\n",
              "      <td>0.0</td>\n",
              "      <td>1.0</td>\n",
              "      <td>0.0</td>\n",
              "      <td>0.0</td>\n",
              "      <td>600.000000</td>\n",
              "    </tr>\n",
              "    <tr>\n",
              "      <th>2</th>\n",
              "      <td>3.0</td>\n",
              "      <td>21560.0</td>\n",
              "      <td>0.0</td>\n",
              "      <td>0.0</td>\n",
              "      <td>1.0</td>\n",
              "      <td>0.0</td>\n",
              "      <td>0.0</td>\n",
              "      <td>200.000000</td>\n",
              "    </tr>\n",
              "    <tr>\n",
              "      <th>3</th>\n",
              "      <td>4.0</td>\n",
              "      <td>22450.0</td>\n",
              "      <td>0.0</td>\n",
              "      <td>0.0</td>\n",
              "      <td>1.0</td>\n",
              "      <td>0.0</td>\n",
              "      <td>0.0</td>\n",
              "      <td>750.000000</td>\n",
              "    </tr>\n",
              "    <tr>\n",
              "      <th>4</th>\n",
              "      <td>5.0</td>\n",
              "      <td>21460.0</td>\n",
              "      <td>0.0</td>\n",
              "      <td>0.0</td>\n",
              "      <td>1.0</td>\n",
              "      <td>0.0</td>\n",
              "      <td>0.0</td>\n",
              "      <td>500.000000</td>\n",
              "    </tr>\n",
              "    <tr>\n",
              "      <th>...</th>\n",
              "      <td>...</td>\n",
              "      <td>...</td>\n",
              "      <td>...</td>\n",
              "      <td>...</td>\n",
              "      <td>...</td>\n",
              "      <td>...</td>\n",
              "      <td>...</td>\n",
              "      <td>...</td>\n",
              "    </tr>\n",
              "    <tr>\n",
              "      <th>59</th>\n",
              "      <td>8.0</td>\n",
              "      <td>0.0</td>\n",
              "      <td>0.0</td>\n",
              "      <td>0.0</td>\n",
              "      <td>0.0</td>\n",
              "      <td>1.0</td>\n",
              "      <td>1.0</td>\n",
              "      <td>433.531746</td>\n",
              "    </tr>\n",
              "    <tr>\n",
              "      <th>60</th>\n",
              "      <td>9.0</td>\n",
              "      <td>0.0</td>\n",
              "      <td>0.0</td>\n",
              "      <td>0.0</td>\n",
              "      <td>0.0</td>\n",
              "      <td>1.0</td>\n",
              "      <td>1.0</td>\n",
              "      <td>192.857143</td>\n",
              "    </tr>\n",
              "    <tr>\n",
              "      <th>61</th>\n",
              "      <td>10.0</td>\n",
              "      <td>0.0</td>\n",
              "      <td>0.0</td>\n",
              "      <td>0.0</td>\n",
              "      <td>0.0</td>\n",
              "      <td>0.0</td>\n",
              "      <td>1.0</td>\n",
              "      <td>357.142857</td>\n",
              "    </tr>\n",
              "    <tr>\n",
              "      <th>62</th>\n",
              "      <td>11.0</td>\n",
              "      <td>0.0</td>\n",
              "      <td>0.0</td>\n",
              "      <td>0.0</td>\n",
              "      <td>0.0</td>\n",
              "      <td>0.0</td>\n",
              "      <td>1.0</td>\n",
              "      <td>648.015873</td>\n",
              "    </tr>\n",
              "    <tr>\n",
              "      <th>63</th>\n",
              "      <td>12.0</td>\n",
              "      <td>0.0</td>\n",
              "      <td>0.0</td>\n",
              "      <td>0.0</td>\n",
              "      <td>0.0</td>\n",
              "      <td>0.0</td>\n",
              "      <td>1.0</td>\n",
              "      <td>304.563492</td>\n",
              "    </tr>\n",
              "  </tbody>\n",
              "</table>\n",
              "<p>64 rows × 8 columns</p>\n",
              "</div>\n",
              "      <button class=\"colab-df-convert\" onclick=\"convertToInteractive('df-fa12501b-ce04-47e0-8767-b07145341bc8')\"\n",
              "              title=\"Convert this dataframe to an interactive table.\"\n",
              "              style=\"display:none;\">\n",
              "        \n",
              "  <svg xmlns=\"http://www.w3.org/2000/svg\" height=\"24px\"viewBox=\"0 0 24 24\"\n",
              "       width=\"24px\">\n",
              "    <path d=\"M0 0h24v24H0V0z\" fill=\"none\"/>\n",
              "    <path d=\"M18.56 5.44l.94 2.06.94-2.06 2.06-.94-2.06-.94-.94-2.06-.94 2.06-2.06.94zm-11 1L8.5 8.5l.94-2.06 2.06-.94-2.06-.94L8.5 2.5l-.94 2.06-2.06.94zm10 10l.94 2.06.94-2.06 2.06-.94-2.06-.94-.94-2.06-.94 2.06-2.06.94z\"/><path d=\"M17.41 7.96l-1.37-1.37c-.4-.4-.92-.59-1.43-.59-.52 0-1.04.2-1.43.59L10.3 9.45l-7.72 7.72c-.78.78-.78 2.05 0 2.83L4 21.41c.39.39.9.59 1.41.59.51 0 1.02-.2 1.41-.59l7.78-7.78 2.81-2.81c.8-.78.8-2.07 0-2.86zM5.41 20L4 18.59l7.72-7.72 1.47 1.35L5.41 20z\"/>\n",
              "  </svg>\n",
              "      </button>\n",
              "      \n",
              "  <style>\n",
              "    .colab-df-container {\n",
              "      display:flex;\n",
              "      flex-wrap:wrap;\n",
              "      gap: 12px;\n",
              "    }\n",
              "\n",
              "    .colab-df-convert {\n",
              "      background-color: #E8F0FE;\n",
              "      border: none;\n",
              "      border-radius: 50%;\n",
              "      cursor: pointer;\n",
              "      display: none;\n",
              "      fill: #1967D2;\n",
              "      height: 32px;\n",
              "      padding: 0 0 0 0;\n",
              "      width: 32px;\n",
              "    }\n",
              "\n",
              "    .colab-df-convert:hover {\n",
              "      background-color: #E2EBFA;\n",
              "      box-shadow: 0px 1px 2px rgba(60, 64, 67, 0.3), 0px 1px 3px 1px rgba(60, 64, 67, 0.15);\n",
              "      fill: #174EA6;\n",
              "    }\n",
              "\n",
              "    [theme=dark] .colab-df-convert {\n",
              "      background-color: #3B4455;\n",
              "      fill: #D2E3FC;\n",
              "    }\n",
              "\n",
              "    [theme=dark] .colab-df-convert:hover {\n",
              "      background-color: #434B5C;\n",
              "      box-shadow: 0px 1px 3px 1px rgba(0, 0, 0, 0.15);\n",
              "      filter: drop-shadow(0px 1px 2px rgba(0, 0, 0, 0.3));\n",
              "      fill: #FFFFFF;\n",
              "    }\n",
              "  </style>\n",
              "\n",
              "      <script>\n",
              "        const buttonEl =\n",
              "          document.querySelector('#df-fa12501b-ce04-47e0-8767-b07145341bc8 button.colab-df-convert');\n",
              "        buttonEl.style.display =\n",
              "          google.colab.kernel.accessAllowed ? 'block' : 'none';\n",
              "\n",
              "        async function convertToInteractive(key) {\n",
              "          const element = document.querySelector('#df-fa12501b-ce04-47e0-8767-b07145341bc8');\n",
              "          const dataTable =\n",
              "            await google.colab.kernel.invokeFunction('convertToInteractive',\n",
              "                                                     [key], {});\n",
              "          if (!dataTable) return;\n",
              "\n",
              "          const docLinkHtml = 'Like what you see? Visit the ' +\n",
              "            '<a target=\"_blank\" href=https://colab.research.google.com/notebooks/data_table.ipynb>data table notebook</a>'\n",
              "            + ' to learn more about interactive tables.';\n",
              "          element.innerHTML = '';\n",
              "          dataTable['output_type'] = 'display_data';\n",
              "          await google.colab.output.renderOutput(dataTable, element);\n",
              "          const docLink = document.createElement('div');\n",
              "          docLink.innerHTML = docLinkHtml;\n",
              "          element.appendChild(docLink);\n",
              "        }\n",
              "      </script>\n",
              "    </div>\n",
              "  </div>\n",
              "  "
            ]
          },
          "metadata": {},
          "execution_count": 81
        }
      ]
    },
    {
      "cell_type": "code",
      "source": [
        "campaign_samsung = samsung_data['Campaign_Samsung']"
      ],
      "metadata": {
        "id": "dXS2l4B5onWK"
      },
      "id": "dXS2l4B5onWK",
      "execution_count": null,
      "outputs": []
    },
    {
      "cell_type": "code",
      "source": [
        "campaign_samsung"
      ],
      "metadata": {
        "colab": {
          "base_uri": "https://localhost:8080/"
        },
        "id": "1PHn5ALGpDe-",
        "outputId": "eacad8c4-9ec4-4e0e-fbcb-56e77f9f8f31"
      },
      "id": "1PHn5ALGpDe-",
      "execution_count": null,
      "outputs": [
        {
          "output_type": "execute_result",
          "data": {
            "text/plain": [
              "0     100.000000\n",
              "1     600.000000\n",
              "2     200.000000\n",
              "3     750.000000\n",
              "4     500.000000\n",
              "         ...    \n",
              "59    433.531746\n",
              "60    192.857143\n",
              "61    357.142857\n",
              "62    648.015873\n",
              "63    304.563492\n",
              "Name: Campaign_Samsung, Length: 64, dtype: float64"
            ]
          },
          "metadata": {},
          "execution_count": 83
        }
      ]
    },
    {
      "cell_type": "code",
      "source": [
        "plt.plot(campaign_samsung)"
      ],
      "metadata": {
        "colab": {
          "base_uri": "https://localhost:8080/",
          "height": 282
        },
        "id": "ms35l89WpE6o",
        "outputId": "d90f6b8b-6d09-43ad-9e3c-18d3257ed6c7"
      },
      "id": "ms35l89WpE6o",
      "execution_count": null,
      "outputs": [
        {
          "output_type": "execute_result",
          "data": {
            "text/plain": [
              "[<matplotlib.lines.Line2D at 0x7ff04ef1c8b0>]"
            ]
          },
          "metadata": {},
          "execution_count": 84
        },
        {
          "output_type": "display_data",
          "data": {
            "text/plain": [
              "<Figure size 432x288 with 1 Axes>"
            ],
            "image/png": "[encoded data removed]"
          },
          "metadata": {
            "needs_background": "light"
          }
        }
      ]
    },
    {
      "cell_type": "code",
      "source": [
        "s21 = samsung_data['Galaxy_S21']\n",
        "s22 = samsung_data['Galaxy_S22']\n",
        "s23 = samsung_data['Galaxy_S23']"
      ],
      "metadata": {
        "id": "AMFMbSVHpNRh"
      },
      "id": "AMFMbSVHpNRh",
      "execution_count": null,
      "outputs": []
    },
    {
      "cell_type": "code",
      "source": [
        "s21"
      ],
      "metadata": {
        "colab": {
          "base_uri": "https://localhost:8080/"
        },
        "id": "uXjb49tCpTyR",
        "outputId": "4669f3b3-29f0-4572-8840-f20308b7c519"
      },
      "id": "uXjb49tCpTyR",
      "execution_count": null,
      "outputs": [
        {
          "output_type": "execute_result",
          "data": {
            "text/plain": [
              "0     25630.0\n",
              "1     22940.0\n",
              "2     21560.0\n",
              "3     22450.0\n",
              "4     21460.0\n",
              "       ...   \n",
              "59        0.0\n",
              "60        0.0\n",
              "61        0.0\n",
              "62        0.0\n",
              "63        0.0\n",
              "Name: Galaxy_S21, Length: 64, dtype: float64"
            ]
          },
          "metadata": {},
          "execution_count": 89
        }
      ]
    },
    {
      "cell_type": "code",
      "source": [
        "column_names = [\"s21\", \"s22\", \"campaign\"]\n",
        "X_train = pd.DataFrame(list(zip(s21,s22,campaign_samsung)), columns=column_names)"
      ],
      "metadata": {
        "id": "X78icwYTq_WQ"
      },
      "id": "X78icwYTq_WQ",
      "execution_count": null,
      "outputs": []
    },
    {
      "cell_type": "markdown",
      "source": [
        "# Prepare dataset for s23"
      ],
      "metadata": {
        "id": "nn0Kvatk7A0-"
      },
      "id": "nn0Kvatk7A0-"
    },
    {
      "cell_type": "code",
      "source": [
        "X_train"
      ],
      "metadata": {
        "colab": {
          "base_uri": "https://localhost:8080/",
          "height": 419
        },
        "id": "YG7Y4LtTrmOi",
        "outputId": "534dbb85-8829-4ec3-a236-78d43cad4224"
      },
      "id": "YG7Y4LtTrmOi",
      "execution_count": null,
      "outputs": [
        {
          "output_type": "execute_result",
          "data": {
            "text/plain": [
              "        s21  s22    campaign\n",
              "0   25630.0  0.0  100.000000\n",
              "1   22940.0  0.0  600.000000\n",
              "2   21560.0  0.0  200.000000\n",
              "3   22450.0  0.0  750.000000\n",
              "4   21460.0  0.0  500.000000\n",
              "..      ...  ...         ...\n",
              "59      0.0  0.0  433.531746\n",
              "60      0.0  0.0  192.857143\n",
              "61      0.0  0.0  357.142857\n",
              "62      0.0  0.0  648.015873\n",
              "63      0.0  0.0  304.563492\n",
              "\n",
              "[64 rows x 3 columns]"
            ],
            "text/html": [
              "\n",
              "  <div id=\"df-d46795be-3072-4364-ac67-c336bea15e42\">\n",
              "    <div class=\"colab-df-container\">\n",
              "      <div>\n",
              "<style scoped>\n",
              "    .dataframe tbody tr th:only-of-type {\n",
              "        vertical-align: middle;\n",
              "    }\n",
              "\n",
              "    .dataframe tbody tr th {\n",
              "        vertical-align: top;\n",
              "    }\n",
              "\n",
              "    .dataframe thead th {\n",
              "        text-align: right;\n",
              "    }\n",
              "</style>\n",
              "<table border=\"1\" class=\"dataframe\">\n",
              "  <thead>\n",
              "    <tr style=\"text-align: right;\">\n",
              "      <th></th>\n",
              "      <th>s21</th>\n",
              "      <th>s22</th>\n",
              "      <th>campaign</th>\n",
              "    </tr>\n",
              "  </thead>\n",
              "  <tbody>\n",
              "    <tr>\n",
              "      <th>0</th>\n",
              "      <td>25630.0</td>\n",
              "      <td>0.0</td>\n",
              "      <td>100.000000</td>\n",
              "    </tr>\n",
              "    <tr>\n",
              "      <th>1</th>\n",
              "      <td>22940.0</td>\n",
              "      <td>0.0</td>\n",
              "      <td>600.000000</td>\n",
              "    </tr>\n",
              "    <tr>\n",
              "      <th>2</th>\n",
              "      <td>21560.0</td>\n",
              "      <td>0.0</td>\n",
              "      <td>200.000000</td>\n",
              "    </tr>\n",
              "    <tr>\n",
              "      <th>3</th>\n",
              "      <td>22450.0</td>\n",
              "      <td>0.0</td>\n",
              "      <td>750.000000</td>\n",
              "    </tr>\n",
              "    <tr>\n",
              "      <th>4</th>\n",
              "      <td>21460.0</td>\n",
              "      <td>0.0</td>\n",
              "      <td>500.000000</td>\n",
              "    </tr>\n",
              "    <tr>\n",
              "      <th>...</th>\n",
              "      <td>...</td>\n",
              "      <td>...</td>\n",
              "      <td>...</td>\n",
              "    </tr>\n",
              "    <tr>\n",
              "      <th>59</th>\n",
              "      <td>0.0</td>\n",
              "      <td>0.0</td>\n",
              "      <td>433.531746</td>\n",
              "    </tr>\n",
              "    <tr>\n",
              "      <th>60</th>\n",
              "      <td>0.0</td>\n",
              "      <td>0.0</td>\n",
              "      <td>192.857143</td>\n",
              "    </tr>\n",
              "    <tr>\n",
              "      <th>61</th>\n",
              "      <td>0.0</td>\n",
              "      <td>0.0</td>\n",
              "      <td>357.142857</td>\n",
              "    </tr>\n",
              "    <tr>\n",
              "      <th>62</th>\n",
              "      <td>0.0</td>\n",
              "      <td>0.0</td>\n",
              "      <td>648.015873</td>\n",
              "    </tr>\n",
              "    <tr>\n",
              "      <th>63</th>\n",
              "      <td>0.0</td>\n",
              "      <td>0.0</td>\n",
              "      <td>304.563492</td>\n",
              "    </tr>\n",
              "  </tbody>\n",
              "</table>\n",
              "<p>64 rows × 3 columns</p>\n",
              "</div>\n",
              "      <button class=\"colab-df-convert\" onclick=\"convertToInteractive('df-d46795be-3072-4364-ac67-c336bea15e42')\"\n",
              "              title=\"Convert this dataframe to an interactive table.\"\n",
              "              style=\"display:none;\">\n",
              "        \n",
              "  <svg xmlns=\"http://www.w3.org/2000/svg\" height=\"24px\"viewBox=\"0 0 24 24\"\n",
              "       width=\"24px\">\n",
              "    <path d=\"M0 0h24v24H0V0z\" fill=\"none\"/>\n",
              "    <path d=\"M18.56 5.44l.94 2.06.94-2.06 2.06-.94-2.06-.94-.94-2.06-.94 2.06-2.06.94zm-11 1L8.5 8.5l.94-2.06 2.06-.94-2.06-.94L8.5 2.5l-.94 2.06-2.06.94zm10 10l.94 2.06.94-2.06 2.06-.94-2.06-.94-.94-2.06-.94 2.06-2.06.94z\"/><path d=\"M17.41 7.96l-1.37-1.37c-.4-.4-.92-.59-1.43-.59-.52 0-1.04.2-1.43.59L10.3 9.45l-7.72 7.72c-.78.78-.78 2.05 0 2.83L4 21.41c.39.39.9.59 1.41.59.51 0 1.02-.2 1.41-.59l7.78-7.78 2.81-2.81c.8-.78.8-2.07 0-2.86zM5.41 20L4 18.59l7.72-7.72 1.47 1.35L5.41 20z\"/>\n",
              "  </svg>\n",
              "      </button>\n",
              "      \n",
              "  <style>\n",
              "    .colab-df-container {\n",
              "      display:flex;\n",
              "      flex-wrap:wrap;\n",
              "      gap: 12px;\n",
              "    }\n",
              "\n",
              "    .colab-df-convert {\n",
              "      background-color: #E8F0FE;\n",
              "      border: none;\n",
              "      border-radius: 50%;\n",
              "      cursor: pointer;\n",
              "      display: none;\n",
              "      fill: #1967D2;\n",
              "      height: 32px;\n",
              "      padding: 0 0 0 0;\n",
              "      width: 32px;\n",
              "    }\n",
              "\n",
              "    .colab-df-convert:hover {\n",
              "      background-color: #E2EBFA;\n",
              "      box-shadow: 0px 1px 2px rgba(60, 64, 67, 0.3), 0px 1px 3px 1px rgba(60, 64, 67, 0.15);\n",
              "      fill: #174EA6;\n",
              "    }\n",
              "\n",
              "    [theme=dark] .colab-df-convert {\n",
              "      background-color: #3B4455;\n",
              "      fill: #D2E3FC;\n",
              "    }\n",
              "\n",
              "    [theme=dark] .colab-df-convert:hover {\n",
              "      background-color: #434B5C;\n",
              "      box-shadow: 0px 1px 3px 1px rgba(0, 0, 0, 0.15);\n",
              "      filter: drop-shadow(0px 1px 2px rgba(0, 0, 0, 0.3));\n",
              "      fill: #FFFFFF;\n",
              "    }\n",
              "  </style>\n",
              "\n",
              "      <script>\n",
              "        const buttonEl =\n",
              "          document.querySelector('#df-d46795be-3072-4364-ac67-c336bea15e42 button.colab-df-convert');\n",
              "        buttonEl.style.display =\n",
              "          google.colab.kernel.accessAllowed ? 'block' : 'none';\n",
              "\n",
              "        async function convertToInteractive(key) {\n",
              "          const element = document.querySelector('#df-d46795be-3072-4364-ac67-c336bea15e42');\n",
              "          const dataTable =\n",
              "            await google.colab.kernel.invokeFunction('convertToInteractive',\n",
              "                                                     [key], {});\n",
              "          if (!dataTable) return;\n",
              "\n",
              "          const docLinkHtml = 'Like what you see? Visit the ' +\n",
              "            '<a target=\"_blank\" href=https://colab.research.google.com/notebooks/data_table.ipynb>data table notebook</a>'\n",
              "            + ' to learn more about interactive tables.';\n",
              "          element.innerHTML = '';\n",
              "          dataTable['output_type'] = 'display_data';\n",
              "          await google.colab.output.renderOutput(dataTable, element);\n",
              "          const docLink = document.createElement('div');\n",
              "          docLink.innerHTML = docLinkHtml;\n",
              "          element.appendChild(docLink);\n",
              "        }\n",
              "      </script>\n",
              "    </div>\n",
              "  </div>\n",
              "  "
            ]
          },
          "metadata": {},
          "execution_count": 100
        }
      ]
    },
    {
      "cell_type": "code",
      "source": [
        "plt.figure(figsize=(16,8))\n",
        "plt.title('')\n",
        "plt.title('Samsung Stats')\n",
        "plt.xlabel('Week-number', fontsize = 18)\n",
        "plt.ylabel('Number', fontsize = 18)\n",
        "plt.plot(X_train['s21'])\n",
        "plt.plot(X_train['s22'])\n",
        "plt.plot(X_train['campaign']*10)\n",
        "plt.legend(['s21','s22','campaign'], loc = 'lower right')\n",
        "plt.show()"
      ],
      "metadata": {
        "colab": {
          "base_uri": "https://localhost:8080/",
          "height": 521
        },
        "id": "79ULTDJ9rnkM",
        "outputId": "0aa35a5e-f6bc-446f-cc9e-2e1ecb374dda"
      },
      "id": "79ULTDJ9rnkM",
      "execution_count": null,
      "outputs": [
        {
          "output_type": "display_data",
          "data": {
            "text/plain": [
              "<Figure size 1152x576 with 1 Axes>"
            ],
            "image/png": "[encoded data removed]"
          },
          "metadata": {
            "needs_background": "light"
          }
        }
      ]
    },
    {
      "cell_type": "code",
      "source": [
        "s22_real = s22[7:54]"
      ],
      "metadata": {
        "id": "5l8xORwRs3Mf"
      },
      "id": "5l8xORwRs3Mf",
      "execution_count": null,
      "outputs": []
    },
    {
      "cell_type": "code",
      "source": [
        "week_num = [[i] for i in range(0,47)]"
      ],
      "metadata": {
        "id": "zzsDqp45vuKl"
      },
      "id": "zzsDqp45vuKl",
      "execution_count": null,
      "outputs": []
    },
    {
      "cell_type": "code",
      "source": [
        "week_num"
      ],
      "metadata": {
        "colab": {
          "base_uri": "https://localhost:8080/"
        },
        "id": "NU_IeV2dv8Vl",
        "outputId": "01788d89-d4fd-43f0-c928-633af27d0f2a"
      },
      "id": "NU_IeV2dv8Vl",
      "execution_count": null,
      "outputs": [
        {
          "output_type": "execute_result",
          "data": {
            "text/plain": [
              "[[0],\n",
              " [1],\n",
              " [2],\n",
              " [3],\n",
              " [4],\n",
              " [5],\n",
              " [6],\n",
              " [7],\n",
              " [8],\n",
              " [9],\n",
              " [10],\n",
              " [11],\n",
              " [12],\n",
              " [13],\n",
              " [14],\n",
              " [15],\n",
              " [16],\n",
              " [17],\n",
              " [18],\n",
              " [19],\n",
              " [20],\n",
              " [21],\n",
              " [22],\n",
              " [23],\n",
              " [24],\n",
              " [25],\n",
              " [26],\n",
              " [27],\n",
              " [28],\n",
              " [29],\n",
              " [30],\n",
              " [31],\n",
              " [32],\n",
              " [33],\n",
              " [34],\n",
              " [35],\n",
              " [36],\n",
              " [37],\n",
              " [38],\n",
              " [39],\n",
              " [40],\n",
              " [41],\n",
              " [42],\n",
              " [43],\n",
              " [44],\n",
              " [45],\n",
              " [46]]"
            ]
          },
          "metadata": {},
          "execution_count": 162
        }
      ]
    },
    {
      "cell_type": "code",
      "source": [
        "y_train_last_sem = []\n",
        "for i in range(0,47):\n",
        "    y_train_last_sem.append([1,i,i**2,i**3,i**4,i**5])"
      ],
      "metadata": {
        "id": "Jv4KJG0hxWn1"
      },
      "id": "Jv4KJG0hxWn1",
      "execution_count": null,
      "outputs": []
    },
    {
      "cell_type": "code",
      "source": [
        "y_train_last_sem"
      ],
      "metadata": {
        "colab": {
          "base_uri": "https://localhost:8080/"
        },
        "id": "z-Hi-WYGxc34",
        "outputId": "0bcff8f2-cfed-4570-f050-1ed9029db4e5"
      },
      "id": "z-Hi-WYGxc34",
      "execution_count": null,
      "outputs": [
        {
          "output_type": "execute_result",
          "data": {
            "text/plain": [
              "[[1, 0, 0, 0, 0, 0],\n",
              " [1, 1, 1, 1, 1, 1],\n",
              " [1, 2, 4, 8, 16, 32],\n",
              " [1, 3, 9, 27, 81, 243],\n",
              " [1, 4, 16, 64, 256, 1024],\n",
              " [1, 5, 25, 125, 625, 3125],\n",
              " [1, 6, 36, 216, 1296, 7776],\n",
              " [1, 7, 49, 343, 2401, 16807],\n",
              " [1, 8, 64, 512, 4096, 32768],\n",
              " [1, 9, 81, 729, 6561, 59049],\n",
              " [1, 10, 100, 1000, 10000, 100000],\n",
              " [1, 11, 121, 1331, 14641, 161051],\n",
              " [1, 12, 144, 1728, 20736, 248832],\n",
              " [1, 13, 169, 2197, 28561, 371293],\n",
              " [1, 14, 196, 2744, 38416, 537824],\n",
              " [1, 15, 225, 3375, 50625, 759375],\n",
              " [1, 16, 256, 4096, 65536, 1048576],\n",
              " [1, 17, 289, 4913, 83521, 1419857],\n",
              " [1, 18, 324, 5832, 104976, 1889568],\n",
              " [1, 19, 361, 6859, 130321, 2476099],\n",
              " [1, 20, 400, 8000, 160000, 3200000],\n",
              " [1, 21, 441, 9261, 194481, 4084101],\n",
              " [1, 22, 484, 10648, 234256, 5153632],\n",
              " [1, 23, 529, 12167, 279841, 6436343],\n",
              " [1, 24, 576, 13824, 331776, 7962624],\n",
              " [1, 25, 625, 15625, 390625, 9765625],\n",
              " [1, 26, 676, 17576, 456976, 11881376],\n",
              " [1, 27, 729, 19683, 531441, 14348907],\n",
              " [1, 28, 784, 21952, 614656, 17210368],\n",
              " [1, 29, 841, 24389, 707281, 20511149],\n",
              " [1, 30, 900, 27000, 810000, 24300000],\n",
              " [1, 31, 961, 29791, 923521, 28629151],\n",
              " [1, 32, 1024, 32768, 1048576, 33554432],\n",
              " [1, 33, 1089, 35937, 1185921, 39135393],\n",
              " [1, 34, 1156, 39304, 1336336, 45435424],\n",
              " [1, 35, 1225, 42875, 1500625, 52521875],\n",
              " [1, 36, 1296, 46656, 1679616, 60466176],\n",
              " [1, 37, 1369, 50653, 1874161, 69343957],\n",
              " [1, 38, 1444, 54872, 2085136, 79235168],\n",
              " [1, 39, 1521, 59319, 2313441, 90224199],\n",
              " [1, 40, 1600, 64000, 2560000, 102400000],\n",
              " [1, 41, 1681, 68921, 2825761, 115856201],\n",
              " [1, 42, 1764, 74088, 3111696, 130691232],\n",
              " [1, 43, 1849, 79507, 3418801, 147008443],\n",
              " [1, 44, 1936, 85184, 3748096, 164916224],\n",
              " [1, 45, 2025, 91125, 4100625, 184528125],\n",
              " [1, 46, 2116, 97336, 4477456, 205962976]]"
            ]
          },
          "metadata": {},
          "execution_count": 209
        }
      ]
    },
    {
      "cell_type": "code",
      "source": [
        "from sklearn.preprocessing import PolynomialFeatures\n",
        "from sklearn import linear_model\n",
        "\n",
        "# Create linear regression object\n",
        "poly_1 = PolynomialFeatures(degree=5)\n",
        "X_train_hi = poly_1.fit_transform(week_num[:-2])\n",
        "\n",
        "model_s22 = linear_model.LinearRegression()\n",
        "model_s22.fit(X_train_hi, s22_real[:-2])\n",
        "\n",
        "print(model_s22.score(X_train_hi, s22_real[:-2]))"
      ],
      "metadata": {
        "colab": {
          "base_uri": "https://localhost:8080/"
        },
        "id": "QYy1NspUwFCd",
        "outputId": "01df730d-a1fd-4daa-c3c0-a805777f86ad"
      },
      "id": "QYy1NspUwFCd",
      "execution_count": null,
      "outputs": [
        {
          "output_type": "stream",
          "name": "stdout",
          "text": [
            "0.9390535151225916\n"
          ]
        }
      ]
    },
    {
      "cell_type": "code",
      "source": [
        "prediction_s22 = model_s22.predict(y_train_last_sem)"
      ],
      "metadata": {
        "id": "0nJBQ2SYxso-"
      },
      "id": "0nJBQ2SYxso-",
      "execution_count": null,
      "outputs": []
    },
    {
      "cell_type": "code",
      "source": [
        "prediction_s22.reshape(-1,1)"
      ],
      "metadata": {
        "colab": {
          "base_uri": "https://localhost:8080/"
        },
        "id": "MiXOLFhRzom5",
        "outputId": "9ddced0b-af82-43b0-d9b1-8263b031b03d"
      },
      "id": "MiXOLFhRzom5",
      "execution_count": null,
      "outputs": [
        {
          "output_type": "execute_result",
          "data": {
            "text/plain": [
              "array([[112548.87833117],\n",
              "       [ 92988.22125124],\n",
              "       [ 76942.38429848],\n",
              "       [ 63970.73073653],\n",
              "       [ 53667.39314652],\n",
              "       [ 45659.96083236],\n",
              "       [ 39608.16722604],\n",
              "       [ 35202.57729292],\n",
              "       [ 32163.27493701],\n",
              "       [ 30238.55040627],\n",
              "       [ 29203.58769791],\n",
              "       [ 28859.15196367],\n",
              "       [ 29030.2769151 ],\n",
              "       [ 29564.9522289 ],\n",
              "       [ 30332.81095214],\n",
              "       [ 31223.81690762],\n",
              "       [ 32146.95209911],\n",
              "       [ 33028.90411667],\n",
              "       [ 33812.75354193],\n",
              "       [ 34456.66135339],\n",
              "       [ 34932.55633172],\n",
              "       [ 35224.82246501],\n",
              "       [ 35328.98635411],\n",
              "       [ 35250.40461791],\n",
              "       [ 35002.95129859],\n",
              "       [ 34607.70526698],\n",
              "       [ 34091.63762781],\n",
              "       [ 33486.29912498],\n",
              "       [ 32826.50754692],\n",
              "       [ 32149.03513181],\n",
              "       [ 31491.29597292],\n",
              "       [ 30890.03342388],\n",
              "       [ 30380.00750397],\n",
              "       [ 29992.68230344],\n",
              "       [ 29754.91338874],\n",
              "       [ 29687.63520788],\n",
              "       [ 29804.54849569],\n",
              "       [ 30110.80767911],\n",
              "       [ 30601.70828248],\n",
              "       [ 31261.37433284],\n",
              "       [ 32061.44576522],\n",
              "       [ 32959.76582794],\n",
              "       [ 33899.06848786],\n",
              "       [ 34805.66583575],\n",
              "       [ 35588.13549149],\n",
              "       [ 36136.00800944],\n",
              "       [ 36318.45428368]])"
            ]
          },
          "metadata": {},
          "execution_count": 215
        }
      ]
    },
    {
      "cell_type": "code",
      "source": [
        "plt.figure(figsize=(16,8))\n",
        "plt.title('')\n",
        "plt.title('Model samsung Prediction')\n",
        "plt.xlabel('Week-number', fontsize = 18)\n",
        "plt.ylabel('Number of samsung phone sold', fontsize = 18)\n",
        "plt.plot(week_num,s22_real)\n",
        "plt.plot(week_num,prediction_s22[0:47])\n",
        "plt.legend(['real','predict'], loc = 'lower right')\n",
        "plt.show()"
      ],
      "metadata": {
        "colab": {
          "base_uri": "https://localhost:8080/",
          "height": 521
        },
        "id": "hCfocdblzHdf",
        "outputId": "606e59a2-b4d2-45c9-992e-db5f4a0daa6d"
      },
      "id": "hCfocdblzHdf",
      "execution_count": null,
      "outputs": [
        {
          "output_type": "display_data",
          "data": {
            "text/plain": [
              "<Figure size 1152x576 with 1 Axes>"
            ],
            "image/png": "[encoded data removed]"
          },
          "metadata": {
            "needs_background": "light"
          }
        }
      ]
    },
    {
      "cell_type": "code",
      "source": [
        "y_predict = []\n",
        "for i in range(0,54):\n",
        "    y_predict.append([1,i,i**2,i**3,i**4,i**5])"
      ],
      "metadata": {
        "id": "o2YozU6Yzbln"
      },
      "id": "o2YozU6Yzbln",
      "execution_count": null,
      "outputs": []
    },
    {
      "cell_type": "code",
      "source": [
        "prediction_s22_real = model_s22.predict(y_predict)"
      ],
      "metadata": {
        "id": "fqzGjxkO1wUG"
      },
      "id": "fqzGjxkO1wUG",
      "execution_count": null,
      "outputs": []
    },
    {
      "cell_type": "code",
      "source": [
        "week_num_after = [i for i in range(0,54)]"
      ],
      "metadata": {
        "id": "HeBm-2UX162c"
      },
      "id": "HeBm-2UX162c",
      "execution_count": null,
      "outputs": []
    },
    {
      "cell_type": "markdown",
      "source": [
        "# S22 Prediction"
      ],
      "metadata": {
        "id": "uTWZpdR-6NbP"
      },
      "id": "uTWZpdR-6NbP"
    },
    {
      "cell_type": "code",
      "source": [
        "prediction_s22_real"
      ],
      "metadata": {
        "colab": {
          "base_uri": "https://localhost:8080/"
        },
        "id": "_lErKd0h7I6V",
        "outputId": "ed97df30-7e2f-45cc-b316-f09c929c6c82"
      },
      "id": "_lErKd0h7I6V",
      "execution_count": null,
      "outputs": [
        {
          "output_type": "execute_result",
          "data": {
            "text/plain": [
              "array([112548.87833117,  92988.22125124,  76942.38429848,  63970.73073653,\n",
              "        53667.39314652,  45659.96083236,  39608.16722604,  35202.57729292,\n",
              "        32163.27493701,  30238.55040627,  29203.58769791,  28859.15196367,\n",
              "        29030.2769151 ,  29564.9522289 ,  30332.81095214,  31223.81690762,\n",
              "        32146.95209911,  33028.90411667,  33812.75354193,  34456.66135339,\n",
              "        34932.55633172,  35224.82246501,  35328.98635411,  35250.40461791,\n",
              "        35002.95129859,  34607.70526698,  34091.63762781,  33486.29912498,\n",
              "        32826.50754692,  32149.03513181,  31491.29597292,  30890.03342388,\n",
              "        30380.00750397,  29992.68230344,  29754.91338874,  29687.63520788,\n",
              "        29804.54849569,  30110.80767911,  30601.70828248,  31261.37433284,\n",
              "        32061.44576522,  32959.76582794,  33899.06848786,  34805.66583575,\n",
              "        35588.13549149,  36136.00800944,  36318.45428368,  35982.97295332,\n",
              "        34954.07780779,  33031.98519215,  29991.30141234,  25579.71014052,\n",
              "        19516.65982031,  11492.05107213])"
            ]
          },
          "metadata": {},
          "execution_count": 232
        }
      ]
    },
    {
      "cell_type": "code",
      "source": [
        "plt.plot(prediction_s22_real)"
      ],
      "metadata": {
        "colab": {
          "base_uri": "https://localhost:8080/",
          "height": 282
        },
        "id": "weGIHnys9Kmq",
        "outputId": "4d32890d-43cc-49bc-d6c9-552ffc7253c5"
      },
      "id": "weGIHnys9Kmq",
      "execution_count": null,
      "outputs": [
        {
          "output_type": "execute_result",
          "data": {
            "text/plain": [
              "[<matplotlib.lines.Line2D at 0x7ff04cbdfb20>]"
            ]
          },
          "metadata": {},
          "execution_count": 233
        },
        {
          "output_type": "display_data",
          "data": {
            "text/plain": [
              "<Figure size 432x288 with 1 Axes>"
            ],
            "image/png": "[encoded data removed]"
          },
          "metadata": {
            "needs_background": "light"
          }
        }
      ]
    },
    {
      "cell_type": "code",
      "source": [
        "plt.figure(figsize=(16,8))\n",
        "plt.title('')\n",
        "plt.title('Samsung Galaxy S22')\n",
        "plt.xlabel('Week-number', fontsize = 18)\n",
        "plt.ylabel('Number of samsung phone sold', fontsize = 18)\n",
        "plt.plot(week_num,s22_real)\n",
        "plt.plot(week_num_after,prediction_s22_real)\n",
        "plt.legend(['real','predict'], loc = 'lower right')\n",
        "plt.show()"
      ],
      "metadata": {
        "id": "ApPYbITh12hO",
        "colab": {
          "base_uri": "https://localhost:8080/",
          "height": 521
        },
        "outputId": "ba2169df-25c6-42d5-d698-04c15e01ace3"
      },
      "id": "ApPYbITh12hO",
      "execution_count": null,
      "outputs": [
        {
          "output_type": "display_data",
          "data": {
            "text/plain": [
              "<Figure size 1152x576 with 1 Axes>"
            ],
            "image/png": "[encoded data removed]"
          },
          "metadata": {
            "needs_background": "light"
          }
        }
      ]
    },
    {
      "cell_type": "markdown",
      "source": [
        "# S23 Prediction\n"
      ],
      "metadata": {
        "id": "38mmi1el6wCL"
      },
      "id": "38mmi1el6wCL"
    },
    {
      "cell_type": "code",
      "source": [
        "column_names = [\"s21\", \"s22\", \"campaign\"]\n",
        "X_train = pd.DataFrame(list(zip(s21,prediction_s22_real,campaign_samsung)), columns=column_names)"
      ],
      "metadata": {
        "id": "7USm0wCm2hrX"
      },
      "id": "7USm0wCm2hrX",
      "execution_count": null,
      "outputs": []
    },
    {
      "cell_type": "code",
      "source": [
        "X_train"
      ],
      "metadata": {
        "colab": {
          "base_uri": "https://localhost:8080/",
          "height": 1000
        },
        "id": "njmElxzf9o42",
        "outputId": "7c649959-bc59-449a-9fc3-77f18679849d"
      },
      "id": "njmElxzf9o42",
      "execution_count": null,
      "outputs": [
        {
          "output_type": "execute_result",
          "data": {
            "text/plain": [
              "        s21            s22    campaign\n",
              "0   25630.0  112548.878331  100.000000\n",
              "1   22940.0   92988.221251  600.000000\n",
              "2   21560.0   76942.384298  200.000000\n",
              "3   22450.0   63970.730737  750.000000\n",
              "4   21460.0   53667.393147  500.000000\n",
              "5   21000.0   45659.960832  650.000000\n",
              "6   20780.0   39608.167226  650.000000\n",
              "7   12580.0   35202.577293  600.000000\n",
              "8    9860.0   32163.274937  900.000000\n",
              "9    7580.0   30238.550406  550.000000\n",
              "10   4520.0   29203.587698  650.000000\n",
              "11   3210.0   28859.151964  550.000000\n",
              "12      0.0   29030.276915  350.000000\n",
              "13      0.0   29564.952229  300.000000\n",
              "14      0.0   30332.810952  300.000000\n",
              "15      0.0   31223.816908  450.000000\n",
              "16      0.0   32146.952099  350.000000\n",
              "17      0.0   33028.904117  450.000000\n",
              "18      0.0   33812.753542  300.000000\n",
              "19      0.0   34456.661353  300.000000\n",
              "20      0.0   34932.556332  400.000000\n",
              "21      0.0   35224.822465  200.000000\n",
              "22      0.0   35328.986354  200.000000\n",
              "23      0.0   35250.404618  500.000000\n",
              "24      0.0   35002.951299   50.000000\n",
              "25      0.0   34607.705267  300.000000\n",
              "26      0.0   34091.637628  200.000000\n",
              "27      0.0   33486.299125  400.000000\n",
              "28      0.0   32826.507547  200.000000\n",
              "29      0.0   32149.035132  350.000000\n",
              "30      0.0   31491.295973  450.000000\n",
              "31      0.0   30890.033424  400.000000\n",
              "32      0.0   30380.007504  100.000000\n",
              "33      0.0   29992.682303  300.000000\n",
              "34      0.0   29754.913389  750.000000\n",
              "35      0.0   29687.635208  450.000000\n",
              "36      0.0   29804.548496  200.000000\n",
              "37      0.0   30110.807679  400.000000\n",
              "38      0.0   30601.708282  450.000000\n",
              "39      0.0   31261.374333  200.000000\n",
              "40      0.0   32061.445765   50.000000\n",
              "41      0.0   32959.765828  850.000000\n",
              "42      0.0   33899.068488  150.000000\n",
              "43      0.0   34805.665836  550.000000\n",
              "44      0.0   35588.135491  450.000000\n",
              "45      0.0   36136.008009  300.000000\n",
              "46      0.0   36318.454284  400.000000\n",
              "47      0.0   35982.972953  600.000000\n",
              "48      0.0   34954.077808  350.000000\n",
              "49      0.0   33031.985192  600.000000\n",
              "50      0.0   29991.301412  400.000000\n",
              "51      0.0   25579.710141  100.000000\n",
              "52      0.0   19516.659820  407.142857\n",
              "53      0.0   11492.051072  300.000000"
            ],
            "text/html": [
              "\n",
              "  <div id=\"df-1b55c128-1c5c-4e86-8d7e-a50a5c3139e4\">\n",
              "    <div class=\"colab-df-container\">\n",
              "      <div>\n",
              "<style scoped>\n",
              "    .dataframe tbody tr th:only-of-type {\n",
              "        vertical-align: middle;\n",
              "    }\n",
              "\n",
              "    .dataframe tbody tr th {\n",
              "        vertical-align: top;\n",
              "    }\n",
              "\n",
              "    .dataframe thead th {\n",
              "        text-align: right;\n",
              "    }\n",
              "</style>\n",
              "<table border=\"1\" class=\"dataframe\">\n",
              "  <thead>\n",
              "    <tr style=\"text-align: right;\">\n",
              "      <th></th>\n",
              "      <th>s21</th>\n",
              "      <th>s22</th>\n",
              "      <th>campaign</th>\n",
              "    </tr>\n",
              "  </thead>\n",
              "  <tbody>\n",
              "    <tr>\n",
              "      <th>0</th>\n",
              "      <td>25630.0</td>\n",
              "      <td>112548.878331</td>\n",
              "      <td>100.000000</td>\n",
              "    </tr>\n",
              "    <tr>\n",
              "      <th>1</th>\n",
              "      <td>22940.0</td>\n",
              "      <td>92988.221251</td>\n",
              "      <td>600.000000</td>\n",
              "    </tr>\n",
              "    <tr>\n",
              "      <th>2</th>\n",
              "      <td>21560.0</td>\n",
              "      <td>76942.384298</td>\n",
              "      <td>200.000000</td>\n",
              "    </tr>\n",
              "    <tr>\n",
              "      <th>3</th>\n",
              "      <td>22450.0</td>\n",
              "      <td>63970.730737</td>\n",
              "      <td>750.000000</td>\n",
              "    </tr>\n",
              "    <tr>\n",
              "      <th>4</th>\n",
              "      <td>21460.0</td>\n",
              "      <td>53667.393147</td>\n",
              "      <td>500.000000</td>\n",
              "    </tr>\n",
              "    <tr>\n",
              "      <th>5</th>\n",
              "      <td>21000.0</td>\n",
              "      <td>45659.960832</td>\n",
              "      <td>650.000000</td>\n",
              "    </tr>\n",
              "    <tr>\n",
              "      <th>6</th>\n",
              "      <td>20780.0</td>\n",
              "      <td>39608.167226</td>\n",
              "      <td>650.000000</td>\n",
              "    </tr>\n",
              "    <tr>\n",
              "      <th>7</th>\n",
              "      <td>12580.0</td>\n",
              "      <td>35202.577293</td>\n",
              "      <td>600.000000</td>\n",
              "    </tr>\n",
              "    <tr>\n",
              "      <th>8</th>\n",
              "      <td>9860.0</td>\n",
              "      <td>32163.274937</td>\n",
              "      <td>900.000000</td>\n",
              "    </tr>\n",
              "    <tr>\n",
              "      <th>9</th>\n",
              "      <td>7580.0</td>\n",
              "      <td>30238.550406</td>\n",
              "      <td>550.000000</td>\n",
              "    </tr>\n",
              "    <tr>\n",
              "      <th>10</th>\n",
              "      <td>4520.0</td>\n",
              "      <td>29203.587698</td>\n",
              "      <td>650.000000</td>\n",
              "    </tr>\n",
              "    <tr>\n",
              "      <th>11</th>\n",
              "      <td>3210.0</td>\n",
              "      <td>28859.151964</td>\n",
              "      <td>550.000000</td>\n",
              "    </tr>\n",
              "    <tr>\n",
              "      <th>12</th>\n",
              "      <td>0.0</td>\n",
              "      <td>29030.276915</td>\n",
              "      <td>350.000000</td>\n",
              "    </tr>\n",
              "    <tr>\n",
              "      <th>13</th>\n",
              "      <td>0.0</td>\n",
              "      <td>29564.952229</td>\n",
              "      <td>300.000000</td>\n",
              "    </tr>\n",
              "    <tr>\n",
              "      <th>14</th>\n",
              "      <td>0.0</td>\n",
              "      <td>30332.810952</td>\n",
              "      <td>300.000000</td>\n",
              "    </tr>\n",
              "    <tr>\n",
              "      <th>15</th>\n",
              "      <td>0.0</td>\n",
              "      <td>31223.816908</td>\n",
              "      <td>450.000000</td>\n",
              "    </tr>\n",
              "    <tr>\n",
              "      <th>16</th>\n",
              "      <td>0.0</td>\n",
              "      <td>32146.952099</td>\n",
              "      <td>350.000000</td>\n",
              "    </tr>\n",
              "    <tr>\n",
              "      <th>17</th>\n",
              "      <td>0.0</td>\n",
              "      <td>33028.904117</td>\n",
              "      <td>450.000000</td>\n",
              "    </tr>\n",
              "    <tr>\n",
              "      <th>18</th>\n",
              "      <td>0.0</td>\n",
              "      <td>33812.753542</td>\n",
              "      <td>300.000000</td>\n",
              "    </tr>\n",
              "    <tr>\n",
              "      <th>19</th>\n",
              "      <td>0.0</td>\n",
              "      <td>34456.661353</td>\n",
              "      <td>300.000000</td>\n",
              "    </tr>\n",
              "    <tr>\n",
              "      <th>20</th>\n",
              "      <td>0.0</td>\n",
              "      <td>34932.556332</td>\n",
              "      <td>400.000000</td>\n",
              "    </tr>\n",
              "    <tr>\n",
              "      <th>21</th>\n",
              "      <td>0.0</td>\n",
              "      <td>35224.822465</td>\n",
              "      <td>200.000000</td>\n",
              "    </tr>\n",
              "    <tr>\n",
              "      <th>22</th>\n",
              "      <td>0.0</td>\n",
              "      <td>35328.986354</td>\n",
              "      <td>200.000000</td>\n",
              "    </tr>\n",
              "    <tr>\n",
              "      <th>23</th>\n",
              "      <td>0.0</td>\n",
              "      <td>35250.404618</td>\n",
              "      <td>500.000000</td>\n",
              "    </tr>\n",
              "    <tr>\n",
              "      <th>24</th>\n",
              "      <td>0.0</td>\n",
              "      <td>35002.951299</td>\n",
              "      <td>50.000000</td>\n",
              "    </tr>\n",
              "    <tr>\n",
              "      <th>25</th>\n",
              "      <td>0.0</td>\n",
              "      <td>34607.705267</td>\n",
              "      <td>300.000000</td>\n",
              "    </tr>\n",
              "    <tr>\n",
              "      <th>26</th>\n",
              "      <td>0.0</td>\n",
              "      <td>34091.637628</td>\n",
              "      <td>200.000000</td>\n",
              "    </tr>\n",
              "    <tr>\n",
              "      <th>27</th>\n",
              "      <td>0.0</td>\n",
              "      <td>33486.299125</td>\n",
              "      <td>400.000000</td>\n",
              "    </tr>\n",
              "    <tr>\n",
              "      <th>28</th>\n",
              "      <td>0.0</td>\n",
              "      <td>32826.507547</td>\n",
              "      <td>200.000000</td>\n",
              "    </tr>\n",
              "    <tr>\n",
              "      <th>29</th>\n",
              "      <td>0.0</td>\n",
              "      <td>32149.035132</td>\n",
              "      <td>350.000000</td>\n",
              "    </tr>\n",
              "    <tr>\n",
              "      <th>30</th>\n",
              "      <td>0.0</td>\n",
              "      <td>31491.295973</td>\n",
              "      <td>450.000000</td>\n",
              "    </tr>\n",
              "    <tr>\n",
              "      <th>31</th>\n",
              "      <td>0.0</td>\n",
              "      <td>30890.033424</td>\n",
              "      <td>400.000000</td>\n",
              "    </tr>\n",
              "    <tr>\n",
              "      <th>32</th>\n",
              "      <td>0.0</td>\n",
              "      <td>30380.007504</td>\n",
              "      <td>100.000000</td>\n",
              "    </tr>\n",
              "    <tr>\n",
              "      <th>33</th>\n",
              "      <td>0.0</td>\n",
              "      <td>29992.682303</td>\n",
              "      <td>300.000000</td>\n",
              "    </tr>\n",
              "    <tr>\n",
              "      <th>34</th>\n",
              "      <td>0.0</td>\n",
              "      <td>29754.913389</td>\n",
              "      <td>750.000000</td>\n",
              "    </tr>\n",
              "    <tr>\n",
              "      <th>35</th>\n",
              "      <td>0.0</td>\n",
              "      <td>29687.635208</td>\n",
              "      <td>450.000000</td>\n",
              "    </tr>\n",
              "    <tr>\n",
              "      <th>36</th>\n",
              "      <td>0.0</td>\n",
              "      <td>29804.548496</td>\n",
              "      <td>200.000000</td>\n",
              "    </tr>\n",
              "    <tr>\n",
              "      <th>37</th>\n",
              "      <td>0.0</td>\n",
              "      <td>30110.807679</td>\n",
              "      <td>400.000000</td>\n",
              "    </tr>\n",
              "    <tr>\n",
              "      <th>38</th>\n",
              "      <td>0.0</td>\n",
              "      <td>30601.708282</td>\n",
              "      <td>450.000000</td>\n",
              "    </tr>\n",
              "    <tr>\n",
              "      <th>39</th>\n",
              "      <td>0.0</td>\n",
              "      <td>31261.374333</td>\n",
              "      <td>200.000000</td>\n",
              "    </tr>\n",
              "    <tr>\n",
              "      <th>40</th>\n",
              "      <td>0.0</td>\n",
              "      <td>32061.445765</td>\n",
              "      <td>50.000000</td>\n",
              "    </tr>\n",
              "    <tr>\n",
              "      <th>41</th>\n",
              "      <td>0.0</td>\n",
              "      <td>32959.765828</td>\n",
              "      <td>850.000000</td>\n",
              "    </tr>\n",
              "    <tr>\n",
              "      <th>42</th>\n",
              "      <td>0.0</td>\n",
              "      <td>33899.068488</td>\n",
              "      <td>150.000000</td>\n",
              "    </tr>\n",
              "    <tr>\n",
              "      <th>43</th>\n",
              "      <td>0.0</td>\n",
              "      <td>34805.665836</td>\n",
              "      <td>550.000000</td>\n",
              "    </tr>\n",
              "    <tr>\n",
              "      <th>44</th>\n",
              "      <td>0.0</td>\n",
              "      <td>35588.135491</td>\n",
              "      <td>450.000000</td>\n",
              "    </tr>\n",
              "    <tr>\n",
              "      <th>45</th>\n",
              "      <td>0.0</td>\n",
              "      <td>36136.008009</td>\n",
              "      <td>300.000000</td>\n",
              "    </tr>\n",
              "    <tr>\n",
              "      <th>46</th>\n",
              "      <td>0.0</td>\n",
              "      <td>36318.454284</td>\n",
              "      <td>400.000000</td>\n",
              "    </tr>\n",
              "    <tr>\n",
              "      <th>47</th>\n",
              "      <td>0.0</td>\n",
              "      <td>35982.972953</td>\n",
              "      <td>600.000000</td>\n",
              "    </tr>\n",
              "    <tr>\n",
              "      <th>48</th>\n",
              "      <td>0.0</td>\n",
              "      <td>34954.077808</td>\n",
              "      <td>350.000000</td>\n",
              "    </tr>\n",
              "    <tr>\n",
              "      <th>49</th>\n",
              "      <td>0.0</td>\n",
              "      <td>33031.985192</td>\n",
              "      <td>600.000000</td>\n",
              "    </tr>\n",
              "    <tr>\n",
              "      <th>50</th>\n",
              "      <td>0.0</td>\n",
              "      <td>29991.301412</td>\n",
              "      <td>400.000000</td>\n",
              "    </tr>\n",
              "    <tr>\n",
              "      <th>51</th>\n",
              "      <td>0.0</td>\n",
              "      <td>25579.710141</td>\n",
              "      <td>100.000000</td>\n",
              "    </tr>\n",
              "    <tr>\n",
              "      <th>52</th>\n",
              "      <td>0.0</td>\n",
              "      <td>19516.659820</td>\n",
              "      <td>407.142857</td>\n",
              "    </tr>\n",
              "    <tr>\n",
              "      <th>53</th>\n",
              "      <td>0.0</td>\n",
              "      <td>11492.051072</td>\n",
              "      <td>300.000000</td>\n",
              "    </tr>\n",
              "  </tbody>\n",
              "</table>\n",
              "</div>\n",
              "      <button class=\"colab-df-convert\" onclick=\"convertToInteractive('df-1b55c128-1c5c-4e86-8d7e-a50a5c3139e4')\"\n",
              "              title=\"Convert this dataframe to an interactive table.\"\n",
              "              style=\"display:none;\">\n",
              "        \n",
              "  <svg xmlns=\"http://www.w3.org/2000/svg\" height=\"24px\"viewBox=\"0 0 24 24\"\n",
              "       width=\"24px\">\n",
              "    <path d=\"M0 0h24v24H0V0z\" fill=\"none\"/>\n",
              "    <path d=\"M18.56 5.44l.94 2.06.94-2.06 2.06-.94-2.06-.94-.94-2.06-.94 2.06-2.06.94zm-11 1L8.5 8.5l.94-2.06 2.06-.94-2.06-.94L8.5 2.5l-.94 2.06-2.06.94zm10 10l.94 2.06.94-2.06 2.06-.94-2.06-.94-.94-2.06-.94 2.06-2.06.94z\"/><path d=\"M17.41 7.96l-1.37-1.37c-.4-.4-.92-.59-1.43-.59-.52 0-1.04.2-1.43.59L10.3 9.45l-7.72 7.72c-.78.78-.78 2.05 0 2.83L4 21.41c.39.39.9.59 1.41.59.51 0 1.02-.2 1.41-.59l7.78-7.78 2.81-2.81c.8-.78.8-2.07 0-2.86zM5.41 20L4 18.59l7.72-7.72 1.47 1.35L5.41 20z\"/>\n",
              "  </svg>\n",
              "      </button>\n",
              "      \n",
              "  <style>\n",
              "    .colab-df-container {\n",
              "      display:flex;\n",
              "      flex-wrap:wrap;\n",
              "      gap: 12px;\n",
              "    }\n",
              "\n",
              "    .colab-df-convert {\n",
              "      background-color: #E8F0FE;\n",
              "      border: none;\n",
              "      border-radius: 50%;\n",
              "      cursor: pointer;\n",
              "      display: none;\n",
              "      fill: #1967D2;\n",
              "      height: 32px;\n",
              "      padding: 0 0 0 0;\n",
              "      width: 32px;\n",
              "    }\n",
              "\n",
              "    .colab-df-convert:hover {\n",
              "      background-color: #E2EBFA;\n",
              "      box-shadow: 0px 1px 2px rgba(60, 64, 67, 0.3), 0px 1px 3px 1px rgba(60, 64, 67, 0.15);\n",
              "      fill: #174EA6;\n",
              "    }\n",
              "\n",
              "    [theme=dark] .colab-df-convert {\n",
              "      background-color: #3B4455;\n",
              "      fill: #D2E3FC;\n",
              "    }\n",
              "\n",
              "    [theme=dark] .colab-df-convert:hover {\n",
              "      background-color: #434B5C;\n",
              "      box-shadow: 0px 1px 3px 1px rgba(0, 0, 0, 0.15);\n",
              "      filter: drop-shadow(0px 1px 2px rgba(0, 0, 0, 0.3));\n",
              "      fill: #FFFFFF;\n",
              "    }\n",
              "  </style>\n",
              "\n",
              "      <script>\n",
              "        const buttonEl =\n",
              "          document.querySelector('#df-1b55c128-1c5c-4e86-8d7e-a50a5c3139e4 button.colab-df-convert');\n",
              "        buttonEl.style.display =\n",
              "          google.colab.kernel.accessAllowed ? 'block' : 'none';\n",
              "\n",
              "        async function convertToInteractive(key) {\n",
              "          const element = document.querySelector('#df-1b55c128-1c5c-4e86-8d7e-a50a5c3139e4');\n",
              "          const dataTable =\n",
              "            await google.colab.kernel.invokeFunction('convertToInteractive',\n",
              "                                                     [key], {});\n",
              "          if (!dataTable) return;\n",
              "\n",
              "          const docLinkHtml = 'Like what you see? Visit the ' +\n",
              "            '<a target=\"_blank\" href=https://colab.research.google.com/notebooks/data_table.ipynb>data table notebook</a>'\n",
              "            + ' to learn more about interactive tables.';\n",
              "          element.innerHTML = '';\n",
              "          dataTable['output_type'] = 'display_data';\n",
              "          await google.colab.output.renderOutput(dataTable, element);\n",
              "          const docLink = document.createElement('div');\n",
              "          docLink.innerHTML = docLinkHtml;\n",
              "          element.appendChild(docLink);\n",
              "        }\n",
              "      </script>\n",
              "    </div>\n",
              "  </div>\n",
              "  "
            ]
          },
          "metadata": {},
          "execution_count": 236
        }
      ]
    },
    {
      "cell_type": "code",
      "source": [
        "plt.figure(figsize=(16,8))\n",
        "plt.title('')\n",
        "plt.title('Samsung Stats')\n",
        "plt.xlabel('Week-number', fontsize = 18)\n",
        "plt.ylabel('Number', fontsize = 18)\n",
        "plt.plot(X_train['s21'])\n",
        "plt.plot(X_train['s22'])\n",
        "plt.plot(X_train['campaign']*10)\n",
        "plt.legend(['s21','s22','campaign'], loc = 'lower right')\n",
        "plt.show()"
      ],
      "metadata": {
        "colab": {
          "base_uri": "https://localhost:8080/",
          "height": 521
        },
        "id": "is7W7bIi9qBb",
        "outputId": "81c89788-32af-48f3-adf4-f14f7920b936"
      },
      "id": "is7W7bIi9qBb",
      "execution_count": null,
      "outputs": [
        {
          "output_type": "display_data",
          "data": {
            "text/plain": [
              "<Figure size 1152x576 with 1 Axes>"
            ],
            "image/png": "[encoded data removed]"
          },
          "metadata": {
            "needs_background": "light"
          }
        }
      ]
    },
    {
      "cell_type": "code",
      "source": [
        "y_predict_1 = []\n",
        "for i in range(0,7):\n",
        "    y_predict_1.append([1,i,i**2,i**3,i**4,i**5])"
      ],
      "metadata": {
        "id": "YqVXdzIMEp1Y"
      },
      "id": "YqVXdzIMEp1Y",
      "execution_count": null,
      "outputs": []
    },
    {
      "cell_type": "code",
      "source": [
        "s23 = model_s22.predict(y_predict_1)"
      ],
      "metadata": {
        "id": "hI-7dKL6ESVH"
      },
      "id": "hI-7dKL6ESVH",
      "execution_count": null,
      "outputs": []
    },
    {
      "cell_type": "code",
      "source": [
        "s23"
      ],
      "metadata": {
        "colab": {
          "base_uri": "https://localhost:8080/"
        },
        "id": "rzWdHB4t-7EB",
        "outputId": "bd9a690e-7ca2-4e31-f284-6b4ccc631cf0"
      },
      "id": "rzWdHB4t-7EB",
      "execution_count": null,
      "outputs": [
        {
          "output_type": "execute_result",
          "data": {
            "text/plain": [
              "array([112548.87833117,  92988.22125124,  76942.38429848,  63970.73073653,\n",
              "        53667.39314652,  45659.96083236,  39608.16722604])"
            ]
          },
          "metadata": {},
          "execution_count": 241
        }
      ]
    },
    {
      "cell_type": "code",
      "source": [
        "plt.figure(figsize=(16,8))\n",
        "plt.title('')\n",
        "plt.title('Galaxy S23')\n",
        "plt.xlabel('Week-number', fontsize = 18)\n",
        "plt.ylabel('Number', fontsize = 18)\n",
        "plt.plot(s23)\n",
        "plt.legend(['prediction'], loc = 'lower right')\n",
        "plt.show()"
      ],
      "metadata": {
        "colab": {
          "base_uri": "https://localhost:8080/",
          "height": 521
        },
        "id": "Mf_mfknxE26e",
        "outputId": "eb6f4b3b-7790-42b7-bbc0-ebdabcd51531"
      },
      "id": "Mf_mfknxE26e",
      "execution_count": null,
      "outputs": [
        {
          "output_type": "display_data",
          "data": {
            "text/plain": [
              "<Figure size 1152x576 with 1 Axes>"
            ],
            "image/png": "[encoded data removed]"
          },
          "metadata": {
            "needs_background": "light"
          }
        }
      ]
    },
    {
      "cell_type": "markdown",
      "source": [
        "# Iphone 14"
      ],
      "metadata": {
        "id": "R_z-CNaBFYmG"
      },
      "id": "R_z-CNaBFYmG"
    },
    {
      "cell_type": "code",
      "source": [
        "iphone_data"
      ],
      "metadata": {
        "colab": {
          "base_uri": "https://localhost:8080/",
          "height": 419
        },
        "id": "CKA1b_kUFZtq",
        "outputId": "2689c7d7-444f-4daa-ee07-b00a972923a7"
      },
      "id": "CKA1b_kUFZtq",
      "execution_count": null,
      "outputs": [
        {
          "output_type": "execute_result",
          "data": {
            "text/plain": [
              "    Iphone_13  Iphone_14  ReleaseStat13  ReleaseState14  Campaign_Iphone\n",
              "0     52360.0        0.0            1.0             0.0       100.000000\n",
              "1     50360.0        0.0            1.0             0.0       600.000000\n",
              "2     48340.0        0.0            1.0             0.0       350.000000\n",
              "3     45390.0        0.0            1.0             0.0       750.000000\n",
              "4     66780.0        0.0            1.0             0.0       900.000000\n",
              "..        ...        ...            ...             ...              ...\n",
              "59        0.0        0.0            0.0             1.0       335.813492\n",
              "60        0.0        0.0            0.0             1.0       425.000000\n",
              "61        0.0        0.0            0.0             1.0       448.214286\n",
              "62        0.0        0.0            0.0             1.0       521.230159\n",
              "63        0.0        0.0            0.0             1.0        90.277778\n",
              "\n",
              "[64 rows x 5 columns]"
            ],
            "text/html": [
              "\n",
              "  <div id=\"df-a731af27-b46e-4677-9783-84dc40deee90\">\n",
              "    <div class=\"colab-df-container\">\n",
              "      <div>\n",
              "<style scoped>\n",
              "    .dataframe tbody tr th:only-of-type {\n",
              "        vertical-align: middle;\n",
              "    }\n",
              "\n",
              "    .dataframe tbody tr th {\n",
              "        vertical-align: top;\n",
              "    }\n",
              "\n",
              "    .dataframe thead th {\n",
              "        text-align: right;\n",
              "    }\n",
              "</style>\n",
              "<table border=\"1\" class=\"dataframe\">\n",
              "  <thead>\n",
              "    <tr style=\"text-align: right;\">\n",
              "      <th></th>\n",
              "      <th>Iphone_13</th>\n",
              "      <th>Iphone_14</th>\n",
              "      <th>ReleaseStat13</th>\n",
              "      <th>ReleaseState14</th>\n",
              "      <th>Campaign_Iphone</th>\n",
              "    </tr>\n",
              "  </thead>\n",
              "  <tbody>\n",
              "    <tr>\n",
              "      <th>0</th>\n",
              "      <td>52360.0</td>\n",
              "      <td>0.0</td>\n",
              "      <td>1.0</td>\n",
              "      <td>0.0</td>\n",
              "      <td>100.000000</td>\n",
              "    </tr>\n",
              "    <tr>\n",
              "      <th>1</th>\n",
              "      <td>50360.0</td>\n",
              "      <td>0.0</td>\n",
              "      <td>1.0</td>\n",
              "      <td>0.0</td>\n",
              "      <td>600.000000</td>\n",
              "    </tr>\n",
              "    <tr>\n",
              "      <th>2</th>\n",
              "      <td>48340.0</td>\n",
              "      <td>0.0</td>\n",
              "      <td>1.0</td>\n",
              "      <td>0.0</td>\n",
              "      <td>350.000000</td>\n",
              "    </tr>\n",
              "    <tr>\n",
              "      <th>3</th>\n",
              "      <td>45390.0</td>\n",
              "      <td>0.0</td>\n",
              "      <td>1.0</td>\n",
              "      <td>0.0</td>\n",
              "      <td>750.000000</td>\n",
              "    </tr>\n",
              "    <tr>\n",
              "      <th>4</th>\n",
              "      <td>66780.0</td>\n",
              "      <td>0.0</td>\n",
              "      <td>1.0</td>\n",
              "      <td>0.0</td>\n",
              "      <td>900.000000</td>\n",
              "    </tr>\n",
              "    <tr>\n",
              "      <th>...</th>\n",
              "      <td>...</td>\n",
              "      <td>...</td>\n",
              "      <td>...</td>\n",
              "      <td>...</td>\n",
              "      <td>...</td>\n",
              "    </tr>\n",
              "    <tr>\n",
              "      <th>59</th>\n",
              "      <td>0.0</td>\n",
              "      <td>0.0</td>\n",
              "      <td>0.0</td>\n",
              "      <td>1.0</td>\n",
              "      <td>335.813492</td>\n",
              "    </tr>\n",
              "    <tr>\n",
              "      <th>60</th>\n",
              "      <td>0.0</td>\n",
              "      <td>0.0</td>\n",
              "      <td>0.0</td>\n",
              "      <td>1.0</td>\n",
              "      <td>425.000000</td>\n",
              "    </tr>\n",
              "    <tr>\n",
              "      <th>61</th>\n",
              "      <td>0.0</td>\n",
              "      <td>0.0</td>\n",
              "      <td>0.0</td>\n",
              "      <td>1.0</td>\n",
              "      <td>448.214286</td>\n",
              "    </tr>\n",
              "    <tr>\n",
              "      <th>62</th>\n",
              "      <td>0.0</td>\n",
              "      <td>0.0</td>\n",
              "      <td>0.0</td>\n",
              "      <td>1.0</td>\n",
              "      <td>521.230159</td>\n",
              "    </tr>\n",
              "    <tr>\n",
              "      <th>63</th>\n",
              "      <td>0.0</td>\n",
              "      <td>0.0</td>\n",
              "      <td>0.0</td>\n",
              "      <td>1.0</td>\n",
              "      <td>90.277778</td>\n",
              "    </tr>\n",
              "  </tbody>\n",
              "</table>\n",
              "<p>64 rows × 5 columns</p>\n",
              "</div>\n",
              "      <button class=\"colab-df-convert\" onclick=\"convertToInteractive('df-a731af27-b46e-4677-9783-84dc40deee90')\"\n",
              "              title=\"Convert this dataframe to an interactive table.\"\n",
              "              style=\"display:none;\">\n",
              "        \n",
              "  <svg xmlns=\"http://www.w3.org/2000/svg\" height=\"24px\"viewBox=\"0 0 24 24\"\n",
              "       width=\"24px\">\n",
              "    <path d=\"M0 0h24v24H0V0z\" fill=\"none\"/>\n",
              "    <path d=\"M18.56 5.44l.94 2.06.94-2.06 2.06-.94-2.06-.94-.94-2.06-.94 2.06-2.06.94zm-11 1L8.5 8.5l.94-2.06 2.06-.94-2.06-.94L8.5 2.5l-.94 2.06-2.06.94zm10 10l.94 2.06.94-2.06 2.06-.94-2.06-.94-.94-2.06-.94 2.06-2.06.94z\"/><path d=\"M17.41 7.96l-1.37-1.37c-.4-.4-.92-.59-1.43-.59-.52 0-1.04.2-1.43.59L10.3 9.45l-7.72 7.72c-.78.78-.78 2.05 0 2.83L4 21.41c.39.39.9.59 1.41.59.51 0 1.02-.2 1.41-.59l7.78-7.78 2.81-2.81c.8-.78.8-2.07 0-2.86zM5.41 20L4 18.59l7.72-7.72 1.47 1.35L5.41 20z\"/>\n",
              "  </svg>\n",
              "      </button>\n",
              "      \n",
              "  <style>\n",
              "    .colab-df-container {\n",
              "      display:flex;\n",
              "      flex-wrap:wrap;\n",
              "      gap: 12px;\n",
              "    }\n",
              "\n",
              "    .colab-df-convert {\n",
              "      background-color: #E8F0FE;\n",
              "      border: none;\n",
              "      border-radius: 50%;\n",
              "      cursor: pointer;\n",
              "      display: none;\n",
              "      fill: #1967D2;\n",
              "      height: 32px;\n",
              "      padding: 0 0 0 0;\n",
              "      width: 32px;\n",
              "    }\n",
              "\n",
              "    .colab-df-convert:hover {\n",
              "      background-color: #E2EBFA;\n",
              "      box-shadow: 0px 1px 2px rgba(60, 64, 67, 0.3), 0px 1px 3px 1px rgba(60, 64, 67, 0.15);\n",
              "      fill: #174EA6;\n",
              "    }\n",
              "\n",
              "    [theme=dark] .colab-df-convert {\n",
              "      background-color: #3B4455;\n",
              "      fill: #D2E3FC;\n",
              "    }\n",
              "\n",
              "    [theme=dark] .colab-df-convert:hover {\n",
              "      background-color: #434B5C;\n",
              "      box-shadow: 0px 1px 3px 1px rgba(0, 0, 0, 0.15);\n",
              "      filter: drop-shadow(0px 1px 2px rgba(0, 0, 0, 0.3));\n",
              "      fill: #FFFFFF;\n",
              "    }\n",
              "  </style>\n",
              "\n",
              "      <script>\n",
              "        const buttonEl =\n",
              "          document.querySelector('#df-a731af27-b46e-4677-9783-84dc40deee90 button.colab-df-convert');\n",
              "        buttonEl.style.display =\n",
              "          google.colab.kernel.accessAllowed ? 'block' : 'none';\n",
              "\n",
              "        async function convertToInteractive(key) {\n",
              "          const element = document.querySelector('#df-a731af27-b46e-4677-9783-84dc40deee90');\n",
              "          const dataTable =\n",
              "            await google.colab.kernel.invokeFunction('convertToInteractive',\n",
              "                                                     [key], {});\n",
              "          if (!dataTable) return;\n",
              "\n",
              "          const docLinkHtml = 'Like what you see? Visit the ' +\n",
              "            '<a target=\"_blank\" href=https://colab.research.google.com/notebooks/data_table.ipynb>data table notebook</a>'\n",
              "            + ' to learn more about interactive tables.';\n",
              "          element.innerHTML = '';\n",
              "          dataTable['output_type'] = 'display_data';\n",
              "          await google.colab.output.renderOutput(dataTable, element);\n",
              "          const docLink = document.createElement('div');\n",
              "          docLink.innerHTML = docLinkHtml;\n",
              "          element.appendChild(docLink);\n",
              "        }\n",
              "      </script>\n",
              "    </div>\n",
              "  </div>\n",
              "  "
            ]
          },
          "metadata": {},
          "execution_count": 242
        }
      ]
    },
    {
      "cell_type": "code",
      "source": [
        "iphone_14 = iphone_data['Iphone_14']"
      ],
      "metadata": {
        "id": "5ZuI4GclFa-S"
      },
      "id": "5ZuI4GclFa-S",
      "execution_count": null,
      "outputs": []
    },
    {
      "cell_type": "code",
      "source": [
        "iphone_14"
      ],
      "metadata": {
        "colab": {
          "base_uri": "https://localhost:8080/"
        },
        "id": "3a8JRjvlFeYm",
        "outputId": "3bdb5b8e-4dba-4578-946b-df2fc709b644"
      },
      "id": "3a8JRjvlFeYm",
      "execution_count": null,
      "outputs": [
        {
          "output_type": "execute_result",
          "data": {
            "text/plain": [
              "0     0.0\n",
              "1     0.0\n",
              "2     0.0\n",
              "3     0.0\n",
              "4     0.0\n",
              "     ... \n",
              "59    0.0\n",
              "60    0.0\n",
              "61    0.0\n",
              "62    0.0\n",
              "63    0.0\n",
              "Name: Iphone_14, Length: 64, dtype: float64"
            ]
          },
          "metadata": {},
          "execution_count": 244
        }
      ]
    },
    {
      "cell_type": "code",
      "source": [
        "iphone_14_real = iphone_14[37:54]"
      ],
      "metadata": {
        "id": "Qb550lSbFgC6"
      },
      "id": "Qb550lSbFgC6",
      "execution_count": null,
      "outputs": []
    },
    {
      "cell_type": "code",
      "source": [
        "iphone_14_real"
      ],
      "metadata": {
        "colab": {
          "base_uri": "https://localhost:8080/"
        },
        "id": "SzJmF3QPFlAT",
        "outputId": "f336d89c-2755-4e19-b096-881a50ab84d9"
      },
      "id": "SzJmF3QPFlAT",
      "execution_count": null,
      "outputs": [
        {
          "output_type": "execute_result",
          "data": {
            "text/plain": [
              "37    188380.0\n",
              "38    168930.0\n",
              "39    142680.0\n",
              "40    126960.0\n",
              "41    108280.0\n",
              "42     93110.0\n",
              "43     77260.0\n",
              "44     75390.0\n",
              "45     72030.0\n",
              "46     57210.0\n",
              "47     59290.0\n",
              "48     61810.0\n",
              "49     63620.0\n",
              "50     59030.0\n",
              "51     90130.0\n",
              "52     80280.0\n",
              "53     69850.0\n",
              "Name: Iphone_14, dtype: float64"
            ]
          },
          "metadata": {},
          "execution_count": 250
        }
      ]
    },
    {
      "cell_type": "code",
      "source": [
        "plt.plot(iphone_14_real)"
      ],
      "metadata": {
        "colab": {
          "base_uri": "https://localhost:8080/",
          "height": 282
        },
        "id": "0MWs0VZ3Fmhz",
        "outputId": "1bf02393-0931-4476-d2d2-4db760c29829"
      },
      "id": "0MWs0VZ3Fmhz",
      "execution_count": null,
      "outputs": [
        {
          "output_type": "execute_result",
          "data": {
            "text/plain": [
              "[<matplotlib.lines.Line2D at 0x7ff04ccde760>]"
            ]
          },
          "metadata": {},
          "execution_count": 251
        },
        {
          "output_type": "display_data",
          "data": {
            "text/plain": [
              "<Figure size 432x288 with 1 Axes>"
            ],
            "image/png": "[encoded data removed]"
          },
          "metadata": {
            "needs_background": "light"
          }
        }
      ]
    },
    {
      "cell_type": "code",
      "source": [
        "week_num_iphone = [[i] for i in range(17)]\n"
      ],
      "metadata": {
        "id": "ojSpx1IhGFkX"
      },
      "id": "ojSpx1IhGFkX",
      "execution_count": null,
      "outputs": []
    },
    {
      "cell_type": "code",
      "source": [
        "from sklearn.preprocessing import PolynomialFeatures\n",
        "from sklearn import linear_model\n",
        "\n",
        "# Create linear regression object\n",
        "poly_iphone = PolynomialFeatures(degree=4)\n",
        "X_train_iphone = poly_iphone.fit_transform(week_num_iphone)\n",
        "\n",
        "model_iphone14 = linear_model.LinearRegression()\n",
        "model_iphone14.fit(X_train_iphone, iphone_14_real)\n",
        "\n",
        "print(model_iphone14.score(X_train_iphone, iphone_14_real))"
      ],
      "metadata": {
        "colab": {
          "base_uri": "https://localhost:8080/"
        },
        "id": "MKWJBOdVFuGg",
        "outputId": "be8d9b4a-23f9-4a3a-dc8d-8590adc6ff5e"
      },
      "id": "MKWJBOdVFuGg",
      "execution_count": null,
      "outputs": [
        {
          "output_type": "stream",
          "name": "stdout",
          "text": [
            "0.9783089164328537\n"
          ]
        }
      ]
    },
    {
      "cell_type": "code",
      "source": [
        "week_train_real=[]\n",
        "for i in range(17):\n",
        "  week_train_real.append([1,i,i**2,i**3,i**4])"
      ],
      "metadata": {
        "id": "f5PWFNYbGPKc"
      },
      "id": "f5PWFNYbGPKc",
      "execution_count": null,
      "outputs": []
    },
    {
      "cell_type": "code",
      "source": [
        "prediction_iphone14 = model_iphone14.predict(week_train_real)"
      ],
      "metadata": {
        "id": "OxNSVoJLGvC_"
      },
      "id": "OxNSVoJLGvC_",
      "execution_count": null,
      "outputs": []
    },
    {
      "cell_type": "code",
      "source": [
        "plt.plot(prediction_iphone14)"
      ],
      "metadata": {
        "colab": {
          "base_uri": "https://localhost:8080/",
          "height": 282
        },
        "id": "LhHQESiYG3gE",
        "outputId": "d9d26924-7751-49bc-9238-aff1fe63e7e3"
      },
      "id": "LhHQESiYG3gE",
      "execution_count": null,
      "outputs": [
        {
          "output_type": "execute_result",
          "data": {
            "text/plain": [
              "[<matplotlib.lines.Line2D at 0x7ff04d2add00>]"
            ]
          },
          "metadata": {},
          "execution_count": 289
        },
        {
          "output_type": "display_data",
          "data": {
            "text/plain": [
              "<Figure size 432x288 with 1 Axes>"
            ],
            "image/png": "[encoded data removed]"
          },
          "metadata": {
            "needs_background": "light"
          }
        }
      ]
    },
    {
      "cell_type": "code",
      "source": [
        "plt.figure(figsize=(16,8))\n",
        "plt.title('')\n",
        "plt.title('Iphone 14')\n",
        "plt.xlabel('Week-number', fontsize = 18)\n",
        "plt.ylabel('Number', fontsize = 18)\n",
        "plt.plot(week_num_iphone, iphone_14_real)\n",
        "plt.plot(week_num_iphone, prediction_iphone14)\n",
        "plt.legend(['real','prediction'], loc = 'lower right')\n",
        "plt.show()"
      ],
      "metadata": {
        "colab": {
          "base_uri": "https://localhost:8080/",
          "height": 521
        },
        "id": "WSEhVddAHsMB",
        "outputId": "7ca3ff06-a31c-4a81-87ea-8fd057c3a6d3"
      },
      "id": "WSEhVddAHsMB",
      "execution_count": null,
      "outputs": [
        {
          "output_type": "display_data",
          "data": {
            "text/plain": [
              "<Figure size 1152x576 with 1 Axes>"
            ],
            "image/png": "[encoded data removed]"
          },
          "metadata": {
            "needs_background": "light"
          }
        }
      ]
    },
    {
      "cell_type": "code",
      "source": [
        "week_predict = []\n",
        "for i in range(27):\n",
        "  week_predict.append([1,i,i**2,i**3])"
      ],
      "metadata": {
        "id": "H4Ga566yIN2T"
      },
      "id": "H4Ga566yIN2T",
      "execution_count": null,
      "outputs": []
    },
    {
      "cell_type": "code",
      "source": [
        "prediction_iphone14 = model_iphone14.predict(week_predict)"
      ],
      "metadata": {
        "id": "uJSu6rHJJuC5"
      },
      "id": "uJSu6rHJJuC5",
      "execution_count": null,
      "outputs": []
    },
    {
      "cell_type": "code",
      "source": [
        "week_number_iphone = [[i] for i in range(0,27)]"
      ],
      "metadata": {
        "id": "7o7y_A6WKM5S"
      },
      "id": "7o7y_A6WKM5S",
      "execution_count": null,
      "outputs": []
    },
    {
      "cell_type": "code",
      "source": [
        "plt.plot(prediction_iphone14)"
      ],
      "metadata": {
        "colab": {
          "base_uri": "https://localhost:8080/",
          "height": 282
        },
        "id": "IOAfEWj-JyyJ",
        "outputId": "2d4c9f2e-aa0c-4fe2-b356-9382268d1e4a"
      },
      "id": "IOAfEWj-JyyJ",
      "execution_count": null,
      "outputs": [
        {
          "output_type": "execute_result",
          "data": {
            "text/plain": [
              "[<matplotlib.lines.Line2D at 0x7ff04cfed040>]"
            ]
          },
          "metadata": {},
          "execution_count": 294
        },
        {
          "output_type": "display_data",
          "data": {
            "text/plain": [
              "<Figure size 432x288 with 1 Axes>"
            ],
            "image/png": "[encoded data removed]"
          },
          "metadata": {
            "needs_background": "light"
          }
        }
      ]
    },
    {
      "cell_type": "code",
      "source": [],
      "metadata": {
        "colab": {
          "base_uri": "https://localhost:8080/",
          "height": 521
        },
        "id": "z-cbrnwdKA7S",
        "outputId": "cbddc79e-6758-4b74-d2b9-8b3e43e0d81b"
      },
      "id": "z-cbrnwdKA7S",
      "execution_count": null,
      "outputs": [
        {
          "output_type": "display_data",
          "data": {
            "text/plain": [
              "<Figure size 1152x576 with 1 Axes>"
            ],
            "image/png": "[encoded data removed]"
          },
          "metadata": {
            "needs_background": "light"
          }
        }
      ]
    },
    {
      "cell_type": "code",
      "source": [],
      "metadata": {
        "id": "OxqJ4W5NKWh9"
      },
      "id": "OxqJ4W5NKWh9",
      "execution_count": null,
      "outputs": []
    }
  ],
  "metadata": {
    "kernelspec": {
      "display_name": "Python 3 (ipykernel)",
      "language": "python",
      "name": "python3"
    },
    "language_info": {
      "codemirror_mode": {
        "name": "ipython",
        "version": 3
      },
      "file_extension": ".py",
      "mimetype": "text/x-python",
      "name": "python",
      "nbconvert_exporter": "python",
      "pygments_lexer": "ipython3",
      "version": "3.9.12"
    },
    "colab": {
      "provenance": [],
      "include_colab_link": true
    }
  },
  "nbformat": 4,
  "nbformat_minor": 5
}